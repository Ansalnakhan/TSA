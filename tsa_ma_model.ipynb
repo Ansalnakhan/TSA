{
  "nbformat": 4,
  "nbformat_minor": 0,
  "metadata": {
    "colab": {
      "name": "tsa_ma_model.ipynb",
      "provenance": [],
      "include_colab_link": true
    },
    "kernelspec": {
      "name": "python3",
      "display_name": "Python 3"
    },
    "language_info": {
      "name": "python"
    },
    "accelerator": "GPU"
  },
  "cells": [
    {
      "cell_type": "markdown",
      "metadata": {
        "id": "view-in-github",
        "colab_type": "text"
      },
      "source": [
        "<a href=\"https://colab.research.google.com/github/Ansalnakhan/TSA/blob/main/tsa_ma_model.ipynb\" target=\"_parent\"><img src=\"https://colab.research.google.com/assets/colab-badge.svg\" alt=\"Open In Colab\"/></a>"
      ]
    },
    {
      "cell_type": "code",
      "execution_count": 1,
      "metadata": {
        "colab": {
          "base_uri": "https://localhost:8080/"
        },
        "id": "PYBwxVrrfrgz",
        "outputId": "df8d7b34-a660-4845-adbd-45b2573fff24"
      },
      "outputs": [
        {
          "output_type": "stream",
          "name": "stdout",
          "text": [
            "\u001b[K     |████████████████████████████████| 6.4 MB 11.8 MB/s \n",
            "\u001b[K     |████████████████████████████████| 63 kB 2.0 MB/s \n",
            "\u001b[31mERROR: pip's dependency resolver does not currently take into account all the packages that are installed. This behaviour is the source of the following dependency conflicts.\n",
            "google-colab 1.0.0 requires requests~=2.23.0, but you have requests 2.27.1 which is incompatible.\n",
            "datascience 0.10.6 requires folium==0.2.1, but you have folium 0.8.3 which is incompatible.\u001b[0m\n",
            "\u001b[?25h"
          ]
        }
      ],
      "source": [
        "import pandas as pd\n",
        "import numpy as np\n",
        "import matplotlib.pyplot as plt\n",
        "from matplotlib.pylab import rcParams\n",
        "rcParams['figure.figsize'] = 15, 5\n",
        "\n",
        "!pip -q install yfinance\n",
        "import yfinance as yf"
      ]
    },
    {
      "cell_type": "code",
      "source": [
        "import pandas as pd\n"
      ],
      "metadata": {
        "id": "HLCs-OC9jbBW"
      },
      "execution_count": 2,
      "outputs": []
    },
    {
      "cell_type": "code",
      "source": [
        "IBEX = yf.Ticker(\"^IBEX\")\n",
        "\n",
        "IBEX_values = IBEX.history(start=\"2020-06-01\")"
      ],
      "metadata": {
        "id": "8lXOXsEcjfOi"
      },
      "execution_count": 3,
      "outputs": []
    },
    {
      "cell_type": "code",
      "source": [
        "IBEX_values"
      ],
      "metadata": {
        "colab": {
          "base_uri": "https://localhost:8080/",
          "height": 455
        },
        "id": "TgTGx_DMj7F2",
        "outputId": "f9a2ccae-c01a-48b3-fedf-07ca3a0a846a"
      },
      "execution_count": 4,
      "outputs": [
        {
          "output_type": "execute_result",
          "data": {
            "text/plain": [
              "                   Open         High          Low        Close     Volume  \\\n",
              "Date                                                                        \n",
              "2020-06-01  7228.700195  7276.000000  7160.100098  7221.399902  291929600   \n",
              "2020-06-02  7264.000000  7445.299805  7236.899902  7408.100098  402947100   \n",
              "2020-06-03  7487.299805  7629.700195  7448.899902  7626.399902  445036400   \n",
              "2020-06-04  7567.700195  7669.200195  7516.000000  7566.799805  514858000   \n",
              "2020-06-05  7672.000000  7890.399902  7664.100098  7872.600098  573283900   \n",
              "...                 ...          ...          ...          ...        ...   \n",
              "2022-05-31  8898.799805  8922.799805  8836.900391  8851.500000  314821900   \n",
              "2022-06-01  8881.299805  8909.299805  8736.700195  8747.200195  163198400   \n",
              "2022-06-02  8778.900391  8793.200195  8709.000000  8744.099609  103691200   \n",
              "2022-06-03  8800.700195  8808.200195  8706.400391  8724.799805   95868700   \n",
              "2022-06-06  8785.299805  8852.299805  8768.200195  8836.299805  124143400   \n",
              "\n",
              "            Dividends  Stock Splits  \n",
              "Date                                 \n",
              "2020-06-01          0             0  \n",
              "2020-06-02          0             0  \n",
              "2020-06-03          0             0  \n",
              "2020-06-04          0             0  \n",
              "2020-06-05          0             0  \n",
              "...               ...           ...  \n",
              "2022-05-31          0             0  \n",
              "2022-06-01          0             0  \n",
              "2022-06-02          0             0  \n",
              "2022-06-03          0             0  \n",
              "2022-06-06          0             0  \n",
              "\n",
              "[518 rows x 7 columns]"
            ],
            "text/html": [
              "\n",
              "  <div id=\"df-2f7a2532-8d2c-45e3-8d1f-eb5f386fff64\">\n",
              "    <div class=\"colab-df-container\">\n",
              "      <div>\n",
              "<style scoped>\n",
              "    .dataframe tbody tr th:only-of-type {\n",
              "        vertical-align: middle;\n",
              "    }\n",
              "\n",
              "    .dataframe tbody tr th {\n",
              "        vertical-align: top;\n",
              "    }\n",
              "\n",
              "    .dataframe thead th {\n",
              "        text-align: right;\n",
              "    }\n",
              "</style>\n",
              "<table border=\"1\" class=\"dataframe\">\n",
              "  <thead>\n",
              "    <tr style=\"text-align: right;\">\n",
              "      <th></th>\n",
              "      <th>Open</th>\n",
              "      <th>High</th>\n",
              "      <th>Low</th>\n",
              "      <th>Close</th>\n",
              "      <th>Volume</th>\n",
              "      <th>Dividends</th>\n",
              "      <th>Stock Splits</th>\n",
              "    </tr>\n",
              "    <tr>\n",
              "      <th>Date</th>\n",
              "      <th></th>\n",
              "      <th></th>\n",
              "      <th></th>\n",
              "      <th></th>\n",
              "      <th></th>\n",
              "      <th></th>\n",
              "      <th></th>\n",
              "    </tr>\n",
              "  </thead>\n",
              "  <tbody>\n",
              "    <tr>\n",
              "      <th>2020-06-01</th>\n",
              "      <td>7228.700195</td>\n",
              "      <td>7276.000000</td>\n",
              "      <td>7160.100098</td>\n",
              "      <td>7221.399902</td>\n",
              "      <td>291929600</td>\n",
              "      <td>0</td>\n",
              "      <td>0</td>\n",
              "    </tr>\n",
              "    <tr>\n",
              "      <th>2020-06-02</th>\n",
              "      <td>7264.000000</td>\n",
              "      <td>7445.299805</td>\n",
              "      <td>7236.899902</td>\n",
              "      <td>7408.100098</td>\n",
              "      <td>402947100</td>\n",
              "      <td>0</td>\n",
              "      <td>0</td>\n",
              "    </tr>\n",
              "    <tr>\n",
              "      <th>2020-06-03</th>\n",
              "      <td>7487.299805</td>\n",
              "      <td>7629.700195</td>\n",
              "      <td>7448.899902</td>\n",
              "      <td>7626.399902</td>\n",
              "      <td>445036400</td>\n",
              "      <td>0</td>\n",
              "      <td>0</td>\n",
              "    </tr>\n",
              "    <tr>\n",
              "      <th>2020-06-04</th>\n",
              "      <td>7567.700195</td>\n",
              "      <td>7669.200195</td>\n",
              "      <td>7516.000000</td>\n",
              "      <td>7566.799805</td>\n",
              "      <td>514858000</td>\n",
              "      <td>0</td>\n",
              "      <td>0</td>\n",
              "    </tr>\n",
              "    <tr>\n",
              "      <th>2020-06-05</th>\n",
              "      <td>7672.000000</td>\n",
              "      <td>7890.399902</td>\n",
              "      <td>7664.100098</td>\n",
              "      <td>7872.600098</td>\n",
              "      <td>573283900</td>\n",
              "      <td>0</td>\n",
              "      <td>0</td>\n",
              "    </tr>\n",
              "    <tr>\n",
              "      <th>...</th>\n",
              "      <td>...</td>\n",
              "      <td>...</td>\n",
              "      <td>...</td>\n",
              "      <td>...</td>\n",
              "      <td>...</td>\n",
              "      <td>...</td>\n",
              "      <td>...</td>\n",
              "    </tr>\n",
              "    <tr>\n",
              "      <th>2022-05-31</th>\n",
              "      <td>8898.799805</td>\n",
              "      <td>8922.799805</td>\n",
              "      <td>8836.900391</td>\n",
              "      <td>8851.500000</td>\n",
              "      <td>314821900</td>\n",
              "      <td>0</td>\n",
              "      <td>0</td>\n",
              "    </tr>\n",
              "    <tr>\n",
              "      <th>2022-06-01</th>\n",
              "      <td>8881.299805</td>\n",
              "      <td>8909.299805</td>\n",
              "      <td>8736.700195</td>\n",
              "      <td>8747.200195</td>\n",
              "      <td>163198400</td>\n",
              "      <td>0</td>\n",
              "      <td>0</td>\n",
              "    </tr>\n",
              "    <tr>\n",
              "      <th>2022-06-02</th>\n",
              "      <td>8778.900391</td>\n",
              "      <td>8793.200195</td>\n",
              "      <td>8709.000000</td>\n",
              "      <td>8744.099609</td>\n",
              "      <td>103691200</td>\n",
              "      <td>0</td>\n",
              "      <td>0</td>\n",
              "    </tr>\n",
              "    <tr>\n",
              "      <th>2022-06-03</th>\n",
              "      <td>8800.700195</td>\n",
              "      <td>8808.200195</td>\n",
              "      <td>8706.400391</td>\n",
              "      <td>8724.799805</td>\n",
              "      <td>95868700</td>\n",
              "      <td>0</td>\n",
              "      <td>0</td>\n",
              "    </tr>\n",
              "    <tr>\n",
              "      <th>2022-06-06</th>\n",
              "      <td>8785.299805</td>\n",
              "      <td>8852.299805</td>\n",
              "      <td>8768.200195</td>\n",
              "      <td>8836.299805</td>\n",
              "      <td>124143400</td>\n",
              "      <td>0</td>\n",
              "      <td>0</td>\n",
              "    </tr>\n",
              "  </tbody>\n",
              "</table>\n",
              "<p>518 rows × 7 columns</p>\n",
              "</div>\n",
              "      <button class=\"colab-df-convert\" onclick=\"convertToInteractive('df-2f7a2532-8d2c-45e3-8d1f-eb5f386fff64')\"\n",
              "              title=\"Convert this dataframe to an interactive table.\"\n",
              "              style=\"display:none;\">\n",
              "        \n",
              "  <svg xmlns=\"http://www.w3.org/2000/svg\" height=\"24px\"viewBox=\"0 0 24 24\"\n",
              "       width=\"24px\">\n",
              "    <path d=\"M0 0h24v24H0V0z\" fill=\"none\"/>\n",
              "    <path d=\"M18.56 5.44l.94 2.06.94-2.06 2.06-.94-2.06-.94-.94-2.06-.94 2.06-2.06.94zm-11 1L8.5 8.5l.94-2.06 2.06-.94-2.06-.94L8.5 2.5l-.94 2.06-2.06.94zm10 10l.94 2.06.94-2.06 2.06-.94-2.06-.94-.94-2.06-.94 2.06-2.06.94z\"/><path d=\"M17.41 7.96l-1.37-1.37c-.4-.4-.92-.59-1.43-.59-.52 0-1.04.2-1.43.59L10.3 9.45l-7.72 7.72c-.78.78-.78 2.05 0 2.83L4 21.41c.39.39.9.59 1.41.59.51 0 1.02-.2 1.41-.59l7.78-7.78 2.81-2.81c.8-.78.8-2.07 0-2.86zM5.41 20L4 18.59l7.72-7.72 1.47 1.35L5.41 20z\"/>\n",
              "  </svg>\n",
              "      </button>\n",
              "      \n",
              "  <style>\n",
              "    .colab-df-container {\n",
              "      display:flex;\n",
              "      flex-wrap:wrap;\n",
              "      gap: 12px;\n",
              "    }\n",
              "\n",
              "    .colab-df-convert {\n",
              "      background-color: #E8F0FE;\n",
              "      border: none;\n",
              "      border-radius: 50%;\n",
              "      cursor: pointer;\n",
              "      display: none;\n",
              "      fill: #1967D2;\n",
              "      height: 32px;\n",
              "      padding: 0 0 0 0;\n",
              "      width: 32px;\n",
              "    }\n",
              "\n",
              "    .colab-df-convert:hover {\n",
              "      background-color: #E2EBFA;\n",
              "      box-shadow: 0px 1px 2px rgba(60, 64, 67, 0.3), 0px 1px 3px 1px rgba(60, 64, 67, 0.15);\n",
              "      fill: #174EA6;\n",
              "    }\n",
              "\n",
              "    [theme=dark] .colab-df-convert {\n",
              "      background-color: #3B4455;\n",
              "      fill: #D2E3FC;\n",
              "    }\n",
              "\n",
              "    [theme=dark] .colab-df-convert:hover {\n",
              "      background-color: #434B5C;\n",
              "      box-shadow: 0px 1px 3px 1px rgba(0, 0, 0, 0.15);\n",
              "      filter: drop-shadow(0px 1px 2px rgba(0, 0, 0, 0.3));\n",
              "      fill: #FFFFFF;\n",
              "    }\n",
              "  </style>\n",
              "\n",
              "      <script>\n",
              "        const buttonEl =\n",
              "          document.querySelector('#df-2f7a2532-8d2c-45e3-8d1f-eb5f386fff64 button.colab-df-convert');\n",
              "        buttonEl.style.display =\n",
              "          google.colab.kernel.accessAllowed ? 'block' : 'none';\n",
              "\n",
              "        async function convertToInteractive(key) {\n",
              "          const element = document.querySelector('#df-2f7a2532-8d2c-45e3-8d1f-eb5f386fff64');\n",
              "          const dataTable =\n",
              "            await google.colab.kernel.invokeFunction('convertToInteractive',\n",
              "                                                     [key], {});\n",
              "          if (!dataTable) return;\n",
              "\n",
              "          const docLinkHtml = 'Like what you see? Visit the ' +\n",
              "            '<a target=\"_blank\" href=https://colab.research.google.com/notebooks/data_table.ipynb>data table notebook</a>'\n",
              "            + ' to learn more about interactive tables.';\n",
              "          element.innerHTML = '';\n",
              "          dataTable['output_type'] = 'display_data';\n",
              "          await google.colab.output.renderOutput(dataTable, element);\n",
              "          const docLink = document.createElement('div');\n",
              "          docLink.innerHTML = docLinkHtml;\n",
              "          element.appendChild(docLink);\n",
              "        }\n",
              "      </script>\n",
              "    </div>\n",
              "  </div>\n",
              "  "
            ]
          },
          "metadata": {},
          "execution_count": 4
        }
      ]
    },
    {
      "cell_type": "code",
      "source": [
        "import matplotlib.pyplot as plt\n"
      ],
      "metadata": {
        "id": "D3K6Y24bkB4x"
      },
      "execution_count": 5,
      "outputs": []
    },
    {
      "cell_type": "code",
      "source": [
        "IBEX_values[['Volume']].plot(lw=2);"
      ],
      "metadata": {
        "colab": {
          "base_uri": "https://localhost:8080/",
          "height": 288
        },
        "id": "C9WrZ4lpkLjB",
        "outputId": "df327321-c3bc-4133-8941-27cdcd6721d3"
      },
      "execution_count": 6,
      "outputs": [
        {
          "output_type": "display_data",
          "data": {
            "text/plain": [
              "<Figure size 432x288 with 1 Axes>"
            ],
            "image/png": "[encoded data removed]"
          },
          "metadata": {
            "needs_background": "light"
          }
        }
      ]
    },
    {
      "cell_type": "code",
      "source": [
        "from statsmodels.tsa.stattools import adfuller\n",
        "series = IBEX_values[[\"Volume\"]].squeeze()\n",
        "X = series.values\n",
        "result = adfuller(X)\n",
        "print('ADF Statistic: %f' % result[0])\n",
        "print('p-value: %f' % result[1])\n",
        "print('Critical Values:')\n",
        "for key, value in result[4].items():\n",
        "\tprint('\\t%s: %.3f' % (key, value))"
      ],
      "metadata": {
        "colab": {
          "base_uri": "https://localhost:8080/"
        },
        "id": "sd8-P0RHkllh",
        "outputId": "99eb22c3-4a58-4871-95b1-3f2a0ca4adff"
      },
      "execution_count": 7,
      "outputs": [
        {
          "output_type": "stream",
          "name": "stderr",
          "text": [
            "/usr/local/lib/python3.7/dist-packages/statsmodels/tools/_testing.py:19: FutureWarning: pandas.util.testing is deprecated. Use the functions in the public API at pandas.testing instead.\n",
            "  import pandas.util.testing as tm\n"
          ]
        },
        {
          "output_type": "stream",
          "name": "stdout",
          "text": [
            "ADF Statistic: -5.842253\n",
            "p-value: 0.000000\n",
            "Critical Values:\n",
            "\t1%: -3.443\n",
            "\t5%: -2.867\n",
            "\t10%: -2.570\n"
          ]
        }
      ]
    },
    {
      "cell_type": "code",
      "source": [
        "result[1]"
      ],
      "metadata": {
        "colab": {
          "base_uri": "https://localhost:8080/"
        },
        "id": "kZ26C-rw9jWJ",
        "outputId": "bb0f19c8-bb95-41ef-f9d5-df8c105f8df9"
      },
      "execution_count": 8,
      "outputs": [
        {
          "output_type": "execute_result",
          "data": {
            "text/plain": [
              "3.7536010741938026e-07"
            ]
          },
          "metadata": {},
          "execution_count": 8
        }
      ]
    },
    {
      "cell_type": "code",
      "source": [
        "from statsmodels.graphics.tsaplots import plot_acf\n",
        "\n",
        "\n",
        "plot_acf(series)\n",
        "plt.show()"
      ],
      "metadata": {
        "colab": {
          "base_uri": "https://localhost:8080/",
          "height": 281
        },
        "id": "ZHppUoNWlmpw",
        "outputId": "717b2cab-fa63-411c-ffa5-3c4ab46e6c76"
      },
      "execution_count": 9,
      "outputs": [
        {
          "output_type": "display_data",
          "data": {
            "text/plain": [
              "<Figure size 432x288 with 1 Axes>"
            ],
            "image/png": "[encoded data removed]"
          },
          "metadata": {
            "needs_background": "light"
          }
        }
      ]
    },
    {
      "cell_type": "code",
      "source": [
        "from statsmodels.graphics.tsaplots import plot_pacf\n",
        "plot_pacf(series, lags=50)\n",
        "plt.show()"
      ],
      "metadata": {
        "colab": {
          "base_uri": "https://localhost:8080/",
          "height": 281
        },
        "id": "r6Yy-I13migJ",
        "outputId": "a7695b45-f5e6-462f-f4de-673b2e0766f0"
      },
      "execution_count": 10,
      "outputs": [
        {
          "output_type": "display_data",
          "data": {
            "text/plain": [
              "<Figure size 432x288 with 1 Axes>"
            ],
            "image/png": "[encoded data removed]"
          },
          "metadata": {
            "needs_background": "light"
          }
        }
      ]
    },
    {
      "cell_type": "code",
      "source": [
        "import numpy as np\n",
        "from statsmodels.tsa.arima_process import ArmaProcess\n",
        "series\n",
        "from statsmodels.tsa.arima_model import ARIMA\n",
        "ARMA_model = ARIMA(endog=series, order=(0, 0, 15))\n",
        "results = ARMA_model.fit()\n",
        "print(results.summary())"
      ],
      "metadata": {
        "colab": {
          "base_uri": "https://localhost:8080/"
        },
        "id": "ENUeHz1qpcMT",
        "outputId": "439383f2-f60e-4bad-ce6d-3b58c9363276"
      },
      "execution_count": 11,
      "outputs": [
        {
          "output_type": "stream",
          "name": "stderr",
          "text": [
            "/usr/local/lib/python3.7/dist-packages/statsmodels/tsa/base/tsa_model.py:219: ValueWarning: A date index has been provided, but it has no associated frequency information and so will be ignored when e.g. forecasting.\n",
            "  ' ignored when e.g. forecasting.', ValueWarning)\n"
          ]
        },
        {
          "output_type": "stream",
          "name": "stdout",
          "text": [
            "                              ARMA Model Results                              \n",
            "==============================================================================\n",
            "Dep. Variable:                 Volume   No. Observations:                  518\n",
            "Model:                    ARMA(0, 15)   Log Likelihood              -10125.331\n",
            "Method:                       css-mle   S.D. of innovations       74565796.791\n",
            "Date:                Tue, 07 Jun 2022   AIC                          20284.662\n",
            "Time:                        06:30:02   BIC                          20356.911\n",
            "Sample:                             0   HQIC                         20312.969\n",
            "                                                                              \n",
            "=================================================================================\n",
            "                    coef    std err          z      P>|z|      [0.025      0.975]\n",
            "---------------------------------------------------------------------------------\n",
            "const           2.11e+08   1.17e+07     17.965      0.000    1.88e+08    2.34e+08\n",
            "ma.L1.Volume      0.4145      0.044      9.459      0.000       0.329       0.500\n",
            "ma.L2.Volume      0.2834      0.048      5.946      0.000       0.190       0.377\n",
            "ma.L3.Volume      0.1731      0.050      3.488      0.001       0.076       0.270\n",
            "ma.L4.Volume      0.1911      0.050      3.797      0.000       0.092       0.290\n",
            "ma.L5.Volume      0.1927      0.052      3.735      0.000       0.092       0.294\n",
            "ma.L6.Volume      0.1549      0.052      3.003      0.003       0.054       0.256\n",
            "ma.L7.Volume      0.1154      0.051      2.267      0.024       0.016       0.215\n",
            "ma.L8.Volume      0.1451      0.049      2.951      0.003       0.049       0.241\n",
            "ma.L9.Volume      0.1396      0.046      3.014      0.003       0.049       0.230\n",
            "ma.L10.Volume     0.1859      0.045      4.106      0.000       0.097       0.275\n",
            "ma.L11.Volume     0.1303      0.047      2.773      0.006       0.038       0.222\n",
            "ma.L12.Volume     0.1092      0.047      2.305      0.022       0.016       0.202\n",
            "ma.L13.Volume     0.1144      0.053      2.147      0.032       0.010       0.219\n",
            "ma.L14.Volume     0.1402      0.052      2.685      0.007       0.038       0.243\n",
            "ma.L15.Volume     0.1263      0.043      2.952      0.003       0.042       0.210\n",
            "                                    Roots                                     \n",
            "==============================================================================\n",
            "                   Real          Imaginary           Modulus         Frequency\n",
            "------------------------------------------------------------------------------\n",
            "MA.1             1.0330           -0.3522j            1.0914           -0.0523\n",
            "MA.2             1.0330           +0.3522j            1.0914            0.0523\n",
            "MA.3             0.8483           -0.7618j            1.1402           -0.1165\n",
            "MA.4             0.8483           +0.7618j            1.1402            0.1165\n",
            "MA.5             0.5032           -1.0169j            1.1346           -0.1769\n",
            "MA.6             0.5032           +1.0169j            1.1346            0.1769\n",
            "MA.7             0.0045           -1.1357j            1.1357           -0.2494\n",
            "MA.8             0.0045           +1.1357j            1.1357            0.2494\n",
            "MA.9            -0.4445           -1.0710j            1.1596           -0.3126\n",
            "MA.10           -0.4445           +1.0710j            1.1596            0.3126\n",
            "MA.11           -0.8104           -0.8531j            1.1767           -0.3709\n",
            "MA.12           -0.8104           +0.8531j            1.1767            0.3709\n",
            "MA.13           -1.0763           -0.4368j            1.1616           -0.4386\n",
            "MA.14           -1.0763           +0.4368j            1.1616            0.4386\n",
            "MA.15           -1.2260           -0.0000j            1.2260           -0.5000\n",
            "------------------------------------------------------------------------------\n"
          ]
        }
      ]
    },
    {
      "cell_type": "code",
      "source": [
        "pred=[]\n",
        "pred = results.predict(0,517)\n"
      ],
      "metadata": {
        "id": "eXlGU7nZxfer"
      },
      "execution_count": 14,
      "outputs": []
    },
    {
      "cell_type": "code",
      "source": [
        "pred"
      ],
      "metadata": {
        "colab": {
          "base_uri": "https://localhost:8080/"
        },
        "id": "7rsaq4vN4hZJ",
        "outputId": "677dc113-439f-4d5e-e132-3b85d56f3c1f"
      },
      "execution_count": 15,
      "outputs": [
        {
          "output_type": "execute_result",
          "data": {
            "text/plain": [
              "Date\n",
              "2020-06-01    2.110171e+08\n",
              "2020-06-02    2.553186e+08\n",
              "2020-06-03    3.120858e+08\n",
              "2020-06-04    3.462858e+08\n",
              "2020-06-05    3.840003e+08\n",
              "                  ...     \n",
              "2022-05-31    1.827737e+08\n",
              "2022-06-01    2.419733e+08\n",
              "2022-06-02    1.933406e+08\n",
              "2022-06-03    1.548079e+08\n",
              "2022-06-06    1.615618e+08\n",
              "Length: 518, dtype: float64"
            ]
          },
          "metadata": {},
          "execution_count": 15
        }
      ]
    },
    {
      "cell_type": "code",
      "source": [
        "series"
      ],
      "metadata": {
        "colab": {
          "base_uri": "https://localhost:8080/"
        },
        "id": "fFvQqghM_Lae",
        "outputId": "df16343c-83b8-4fe0-a9b2-bb2dc3db64d1"
      },
      "execution_count": 16,
      "outputs": [
        {
          "output_type": "execute_result",
          "data": {
            "text/plain": [
              "Date\n",
              "2020-06-01    291929600\n",
              "2020-06-02    402947100\n",
              "2020-06-03    445036400\n",
              "2020-06-04    514858000\n",
              "2020-06-05    573283900\n",
              "                ...    \n",
              "2022-05-31    314821900\n",
              "2022-06-01    163198400\n",
              "2022-06-02    103691200\n",
              "2022-06-03     95868700\n",
              "2022-06-06    124143400\n",
              "Name: Volume, Length: 518, dtype: int64"
            ]
          },
          "metadata": {},
          "execution_count": 16
        }
      ]
    },
    {
      "cell_type": "code",
      "source": [
        "k=[j for j in pred]\n",
        "plt.plot(k,color=\"orange\")\n",
        "\n",
        "p=[i for i in series]\n",
        "plt.plot(p)\n",
        "plt.show()"
      ],
      "metadata": {
        "colab": {
          "base_uri": "https://localhost:8080/",
          "height": 276
        },
        "id": "YbDprGYezMJx",
        "outputId": "376ce108-16df-4336-8cec-f81713a09bf0"
      },
      "execution_count": 17,
      "outputs": [
        {
          "output_type": "display_data",
          "data": {
            "text/plain": [
              "<Figure size 432x288 with 1 Axes>"
            ],
            "image/png": "[encoded data removed]"
          },
          "metadata": {
            "needs_background": "light"
          }
        }
      ]
    },
    {
      "cell_type": "code",
      "source": [
        "ARMA_model = ARIMA(endog=series[:500], order=(0, 0, 20))\n",
        "results = ARMA_model.fit()\n",
        "print(results.summary())"
      ],
      "metadata": {
        "colab": {
          "base_uri": "https://localhost:8080/"
        },
        "id": "Y_Tx4qlqFuT4",
        "outputId": "3388c347-45f5-4a6b-90ff-68afdb735ae4"
      },
      "execution_count": 18,
      "outputs": [
        {
          "output_type": "stream",
          "name": "stderr",
          "text": [
            "/usr/local/lib/python3.7/dist-packages/statsmodels/tsa/base/tsa_model.py:219: ValueWarning: A date index has been provided, but it has no associated frequency information and so will be ignored when e.g. forecasting.\n",
            "  ' ignored when e.g. forecasting.', ValueWarning)\n"
          ]
        },
        {
          "output_type": "stream",
          "name": "stdout",
          "text": [
            "                              ARMA Model Results                              \n",
            "==============================================================================\n",
            "Dep. Variable:                 Volume   No. Observations:                  500\n",
            "Model:                    ARMA(0, 20)   Log Likelihood               -9775.310\n",
            "Method:                       css-mle   S.D. of innovations       74819755.681\n",
            "Date:                Tue, 07 Jun 2022   AIC                          19594.620\n",
            "Time:                        06:33:53   BIC                          19687.342\n",
            "Sample:                             0   HQIC                         19631.004\n",
            "                                                                              \n",
            "=================================================================================\n",
            "                    coef    std err          z      P>|z|      [0.025      0.975]\n",
            "---------------------------------------------------------------------------------\n",
            "const          2.125e+08   1.43e+07     14.913      0.000    1.85e+08     2.4e+08\n",
            "ma.L1.Volume      0.4084      0.045      9.116      0.000       0.321       0.496\n",
            "ma.L2.Volume      0.2754      0.049      5.675      0.000       0.180       0.370\n",
            "ma.L3.Volume      0.1707      0.050      3.402      0.001       0.072       0.269\n",
            "ma.L4.Volume      0.1884      0.050      3.737      0.000       0.090       0.287\n",
            "ma.L5.Volume      0.1944      0.051      3.802      0.000       0.094       0.295\n",
            "ma.L6.Volume      0.1704      0.052      3.286      0.001       0.069       0.272\n",
            "ma.L7.Volume      0.1345      0.052      2.576      0.010       0.032       0.237\n",
            "ma.L8.Volume      0.1736      0.053      3.305      0.001       0.071       0.277\n",
            "ma.L9.Volume      0.1681      0.052      3.226      0.001       0.066       0.270\n",
            "ma.L10.Volume     0.2117      0.053      3.983      0.000       0.108       0.316\n",
            "ma.L11.Volume     0.1544      0.052      2.984      0.003       0.053       0.256\n",
            "ma.L12.Volume     0.1312      0.050      2.646      0.008       0.034       0.228\n",
            "ma.L13.Volume     0.1380      0.055      2.517      0.012       0.031       0.245\n",
            "ma.L14.Volume     0.1789      0.054      3.320      0.001       0.073       0.285\n",
            "ma.L15.Volume     0.1938      0.050      3.907      0.000       0.097       0.291\n",
            "ma.L16.Volume     0.1039      0.061      1.699      0.090      -0.016       0.224\n",
            "ma.L17.Volume     0.0906      0.063      1.435      0.152      -0.033       0.214\n",
            "ma.L18.Volume     0.0990      0.053      1.873      0.062      -0.005       0.203\n",
            "ma.L19.Volume     0.0589      0.053      1.116      0.265      -0.045       0.162\n",
            "ma.L20.Volume     0.0661      0.054      1.233      0.218      -0.039       0.171\n",
            "                                    Roots                                     \n",
            "==============================================================================\n",
            "                   Real          Imaginary           Modulus         Frequency\n",
            "------------------------------------------------------------------------------\n",
            "MA.1             1.0199           -0.2887j            1.0599           -0.0439\n",
            "MA.2             1.0199           +0.2887j            1.0599            0.0439\n",
            "MA.3             0.9417           -0.6261j            1.1308           -0.0934\n",
            "MA.4             0.9417           +0.6261j            1.1308            0.0934\n",
            "MA.5             0.7712           -0.9041j            1.1883           -0.1376\n",
            "MA.6             0.7712           +0.9041j            1.1883            0.1376\n",
            "MA.7             0.4832           -1.0189j            1.1277           -0.1795\n",
            "MA.8             0.4832           +1.0189j            1.1277            0.1795\n",
            "MA.9            -1.1421           -0.1881j            1.1575           -0.4740\n",
            "MA.10           -1.1421           +0.1881j            1.1575            0.4740\n",
            "MA.11           -1.0139           -0.4875j            1.1250           -0.4287\n",
            "MA.12           -1.0139           +0.4875j            1.1250            0.4287\n",
            "MA.13           -0.7863           -0.8109j            1.1295           -0.3725\n",
            "MA.14           -0.7863           +0.8109j            1.1295            0.3725\n",
            "MA.15            0.0512           -1.1330j            1.1341           -0.2428\n",
            "MA.16            0.0512           +1.1330j            1.1341            0.2428\n",
            "MA.17           -0.5015           -1.0459j            1.1600           -0.3212\n",
            "MA.18           -0.5015           +1.0459j            1.1600            0.3212\n",
            "MA.19           -0.2688           -1.2219j            1.2511           -0.2845\n",
            "MA.20           -0.2688           +1.2219j            1.2511            0.2845\n",
            "------------------------------------------------------------------------------\n"
          ]
        }
      ]
    },
    {
      "cell_type": "code",
      "source": [
        "series"
      ],
      "metadata": {
        "colab": {
          "base_uri": "https://localhost:8080/"
        },
        "id": "JqEpsR1VF0Iv",
        "outputId": "0536cf68-87e9-4e7c-f61a-3df754fa5164"
      },
      "execution_count": null,
      "outputs": [
        {
          "output_type": "execute_result",
          "data": {
            "text/plain": [
              "Date\n",
              "2022-05-12    202060000\n",
              "2022-05-13    148599600\n",
              "2022-05-16    118777700\n",
              "2022-05-17    156305200\n",
              "2022-05-18    156404000\n",
              "2022-05-19    155481600\n",
              "2022-05-20    172383300\n",
              "2022-05-23    166876400\n",
              "2022-05-24    207033000\n",
              "2022-05-25    203488200\n",
              "2022-05-26    203819800\n",
              "2022-05-27    194951400\n",
              "2022-05-30    159281100\n",
              "2022-05-31    314821900\n",
              "2022-06-01    163198400\n",
              "2022-06-02    103691200\n",
              "2022-06-03     95868700\n",
              "Name: Volume, dtype: int64"
            ]
          },
          "metadata": {},
          "execution_count": 159
        }
      ]
    },
    {
      "cell_type": "code",
      "source": [
        "pred = results.predict(0,517)"
      ],
      "metadata": {
        "colab": {
          "base_uri": "https://localhost:8080/"
        },
        "id": "7husMQITH7t1",
        "outputId": "a75db46a-10cb-4a04-f202-bbdbc97810da"
      },
      "execution_count": null,
      "outputs": [
        {
          "output_type": "stream",
          "name": "stderr",
          "text": [
            "/usr/local/lib/python3.7/dist-packages/statsmodels/tsa/base/tsa_model.py:576: ValueWarning: No supported index is available. Prediction results will be given with an integer index beginning at `start`.\n",
            "  ValueWarning)\n"
          ]
        }
      ]
    },
    {
      "cell_type": "code",
      "source": [
        "k=[j for j in pred]\n",
        "plt.plot(k,color=\"orange\")\n",
        "\n",
        "p=[i for i in series]\n",
        "plt.plot(p)\n",
        "plt.show()"
      ],
      "metadata": {
        "colab": {
          "base_uri": "https://localhost:8080/",
          "height": 276
        },
        "id": "3ZTBUbAaIFkj",
        "outputId": "915fdf5e-5571-48d1-ad28-dceade240258"
      },
      "execution_count": 19,
      "outputs": [
        {
          "output_type": "display_data",
          "data": {
            "text/plain": [
              "<Figure size 432x288 with 1 Axes>"
            ],
            "image/png": "[encoded data removed]"
          },
          "metadata": {
            "needs_background": "light"
          }
        }
      ]
    },
    {
      "cell_type": "code",
      "source": [
        "\n",
        "from sklearn.metrics import mean_squared_error\n",
        "  \n",
        "\n",
        "\n",
        "MSE = np.square(np.subtract(series[:500],pred[:500])).mean()\n"
      ],
      "metadata": {
        "id": "AKgxIwa9IJUs"
      },
      "execution_count": 20,
      "outputs": []
    },
    {
      "cell_type": "code",
      "source": [
        "data2=pd.read_csv(\"/content/airline-passengers.csv\")\n"
      ],
      "metadata": {
        "id": "Z22FUS6JIln2"
      },
      "execution_count": 24,
      "outputs": []
    },
    {
      "cell_type": "code",
      "source": [
        "data2"
      ],
      "metadata": {
        "colab": {
          "base_uri": "https://localhost:8080/",
          "height": 424
        },
        "id": "AaluGPW1KhF5",
        "outputId": "64b6e12b-52e6-43d8-b54a-c7fc09d9b795"
      },
      "execution_count": 25,
      "outputs": [
        {
          "output_type": "execute_result",
          "data": {
            "text/plain": [
              "       Month  Passengers\n",
              "0    1949-01         112\n",
              "1    1949-02         118\n",
              "2    1949-03         132\n",
              "3    1949-04         129\n",
              "4    1949-05         121\n",
              "..       ...         ...\n",
              "139  1960-08         606\n",
              "140  1960-09         508\n",
              "141  1960-10         461\n",
              "142  1960-11         390\n",
              "143  1960-12         432\n",
              "\n",
              "[144 rows x 2 columns]"
            ],
            "text/html": [
              "\n",
              "  <div id=\"df-dd8f7981-1333-4048-afcc-ed2a2cac8823\">\n",
              "    <div class=\"colab-df-container\">\n",
              "      <div>\n",
              "<style scoped>\n",
              "    .dataframe tbody tr th:only-of-type {\n",
              "        vertical-align: middle;\n",
              "    }\n",
              "\n",
              "    .dataframe tbody tr th {\n",
              "        vertical-align: top;\n",
              "    }\n",
              "\n",
              "    .dataframe thead th {\n",
              "        text-align: right;\n",
              "    }\n",
              "</style>\n",
              "<table border=\"1\" class=\"dataframe\">\n",
              "  <thead>\n",
              "    <tr style=\"text-align: right;\">\n",
              "      <th></th>\n",
              "      <th>Month</th>\n",
              "      <th>Passengers</th>\n",
              "    </tr>\n",
              "  </thead>\n",
              "  <tbody>\n",
              "    <tr>\n",
              "      <th>0</th>\n",
              "      <td>1949-01</td>\n",
              "      <td>112</td>\n",
              "    </tr>\n",
              "    <tr>\n",
              "      <th>1</th>\n",
              "      <td>1949-02</td>\n",
              "      <td>118</td>\n",
              "    </tr>\n",
              "    <tr>\n",
              "      <th>2</th>\n",
              "      <td>1949-03</td>\n",
              "      <td>132</td>\n",
              "    </tr>\n",
              "    <tr>\n",
              "      <th>3</th>\n",
              "      <td>1949-04</td>\n",
              "      <td>129</td>\n",
              "    </tr>\n",
              "    <tr>\n",
              "      <th>4</th>\n",
              "      <td>1949-05</td>\n",
              "      <td>121</td>\n",
              "    </tr>\n",
              "    <tr>\n",
              "      <th>...</th>\n",
              "      <td>...</td>\n",
              "      <td>...</td>\n",
              "    </tr>\n",
              "    <tr>\n",
              "      <th>139</th>\n",
              "      <td>1960-08</td>\n",
              "      <td>606</td>\n",
              "    </tr>\n",
              "    <tr>\n",
              "      <th>140</th>\n",
              "      <td>1960-09</td>\n",
              "      <td>508</td>\n",
              "    </tr>\n",
              "    <tr>\n",
              "      <th>141</th>\n",
              "      <td>1960-10</td>\n",
              "      <td>461</td>\n",
              "    </tr>\n",
              "    <tr>\n",
              "      <th>142</th>\n",
              "      <td>1960-11</td>\n",
              "      <td>390</td>\n",
              "    </tr>\n",
              "    <tr>\n",
              "      <th>143</th>\n",
              "      <td>1960-12</td>\n",
              "      <td>432</td>\n",
              "    </tr>\n",
              "  </tbody>\n",
              "</table>\n",
              "<p>144 rows × 2 columns</p>\n",
              "</div>\n",
              "      <button class=\"colab-df-convert\" onclick=\"convertToInteractive('df-dd8f7981-1333-4048-afcc-ed2a2cac8823')\"\n",
              "              title=\"Convert this dataframe to an interactive table.\"\n",
              "              style=\"display:none;\">\n",
              "        \n",
              "  <svg xmlns=\"http://www.w3.org/2000/svg\" height=\"24px\"viewBox=\"0 0 24 24\"\n",
              "       width=\"24px\">\n",
              "    <path d=\"M0 0h24v24H0V0z\" fill=\"none\"/>\n",
              "    <path d=\"M18.56 5.44l.94 2.06.94-2.06 2.06-.94-2.06-.94-.94-2.06-.94 2.06-2.06.94zm-11 1L8.5 8.5l.94-2.06 2.06-.94-2.06-.94L8.5 2.5l-.94 2.06-2.06.94zm10 10l.94 2.06.94-2.06 2.06-.94-2.06-.94-.94-2.06-.94 2.06-2.06.94z\"/><path d=\"M17.41 7.96l-1.37-1.37c-.4-.4-.92-.59-1.43-.59-.52 0-1.04.2-1.43.59L10.3 9.45l-7.72 7.72c-.78.78-.78 2.05 0 2.83L4 21.41c.39.39.9.59 1.41.59.51 0 1.02-.2 1.41-.59l7.78-7.78 2.81-2.81c.8-.78.8-2.07 0-2.86zM5.41 20L4 18.59l7.72-7.72 1.47 1.35L5.41 20z\"/>\n",
              "  </svg>\n",
              "      </button>\n",
              "      \n",
              "  <style>\n",
              "    .colab-df-container {\n",
              "      display:flex;\n",
              "      flex-wrap:wrap;\n",
              "      gap: 12px;\n",
              "    }\n",
              "\n",
              "    .colab-df-convert {\n",
              "      background-color: #E8F0FE;\n",
              "      border: none;\n",
              "      border-radius: 50%;\n",
              "      cursor: pointer;\n",
              "      display: none;\n",
              "      fill: #1967D2;\n",
              "      height: 32px;\n",
              "      padding: 0 0 0 0;\n",
              "      width: 32px;\n",
              "    }\n",
              "\n",
              "    .colab-df-convert:hover {\n",
              "      background-color: #E2EBFA;\n",
              "      box-shadow: 0px 1px 2px rgba(60, 64, 67, 0.3), 0px 1px 3px 1px rgba(60, 64, 67, 0.15);\n",
              "      fill: #174EA6;\n",
              "    }\n",
              "\n",
              "    [theme=dark] .colab-df-convert {\n",
              "      background-color: #3B4455;\n",
              "      fill: #D2E3FC;\n",
              "    }\n",
              "\n",
              "    [theme=dark] .colab-df-convert:hover {\n",
              "      background-color: #434B5C;\n",
              "      box-shadow: 0px 1px 3px 1px rgba(0, 0, 0, 0.15);\n",
              "      filter: drop-shadow(0px 1px 2px rgba(0, 0, 0, 0.3));\n",
              "      fill: #FFFFFF;\n",
              "    }\n",
              "  </style>\n",
              "\n",
              "      <script>\n",
              "        const buttonEl =\n",
              "          document.querySelector('#df-dd8f7981-1333-4048-afcc-ed2a2cac8823 button.colab-df-convert');\n",
              "        buttonEl.style.display =\n",
              "          google.colab.kernel.accessAllowed ? 'block' : 'none';\n",
              "\n",
              "        async function convertToInteractive(key) {\n",
              "          const element = document.querySelector('#df-dd8f7981-1333-4048-afcc-ed2a2cac8823');\n",
              "          const dataTable =\n",
              "            await google.colab.kernel.invokeFunction('convertToInteractive',\n",
              "                                                     [key], {});\n",
              "          if (!dataTable) return;\n",
              "\n",
              "          const docLinkHtml = 'Like what you see? Visit the ' +\n",
              "            '<a target=\"_blank\" href=https://colab.research.google.com/notebooks/data_table.ipynb>data table notebook</a>'\n",
              "            + ' to learn more about interactive tables.';\n",
              "          element.innerHTML = '';\n",
              "          dataTable['output_type'] = 'display_data';\n",
              "          await google.colab.output.renderOutput(dataTable, element);\n",
              "          const docLink = document.createElement('div');\n",
              "          docLink.innerHTML = docLinkHtml;\n",
              "          element.appendChild(docLink);\n",
              "        }\n",
              "      </script>\n",
              "    </div>\n",
              "  </div>\n",
              "  "
            ]
          },
          "metadata": {},
          "execution_count": 25
        }
      ]
    },
    {
      "cell_type": "code",
      "source": [
        "data2[['Passengers']].plot(lw=2);"
      ],
      "metadata": {
        "colab": {
          "base_uri": "https://localhost:8080/",
          "height": 265
        },
        "id": "uGJfTV2KKh6H",
        "outputId": "e5ce1564-37df-4f73-e1fc-2e7fe509e880"
      },
      "execution_count": 27,
      "outputs": [
        {
          "output_type": "display_data",
          "data": {
            "text/plain": [
              "<Figure size 432x288 with 1 Axes>"
            ],
            "image/png": "[encoded data removed]"
          },
          "metadata": {
            "needs_background": "light"
          }
        }
      ]
    },
    {
      "cell_type": "code",
      "source": [
        "series2 = data2[[\"Passengers\"]].squeeze()\n",
        "X = series2.values\n",
        "result = adfuller(X)\n",
        "print('ADF Statistic: %f' % result[0])\n",
        "print('p-value: %f' % result[1])\n",
        "print('Critical Values:')\n",
        "for key, value in result[4].items():\n",
        "\tprint('\\t%s: %.3f' % (key, value))"
      ],
      "metadata": {
        "colab": {
          "base_uri": "https://localhost:8080/"
        },
        "id": "JVwPfxTRKtKj",
        "outputId": "2aace177-5297-4989-d539-4d1c30896200"
      },
      "execution_count": 29,
      "outputs": [
        {
          "output_type": "stream",
          "name": "stdout",
          "text": [
            "ADF Statistic: 0.815369\n",
            "p-value: 0.991880\n",
            "Critical Values:\n",
            "\t1%: -3.482\n",
            "\t5%: -2.884\n",
            "\t10%: -2.579\n"
          ]
        }
      ]
    },
    {
      "cell_type": "code",
      "source": [
        ""
      ],
      "metadata": {
        "colab": {
          "base_uri": "https://localhost:8080/",
          "height": 336
        },
        "id": "7MItPXjKLFiD",
        "outputId": "0c816734-cf8c-4080-def5-fdb68dd275ae"
      },
      "execution_count": null,
      "outputs": [
        {
          "output_type": "display_data",
          "data": {
            "text/plain": [
              "<Figure size 1080x360 with 1 Axes>"
            ],
            "image/png": "[encoded data removed]"
          },
          "metadata": {
            "needs_background": "light"
          }
        }
      ]
    },
    {
      "cell_type": "code",
      "source": [
        "series2"
      ],
      "metadata": {
        "colab": {
          "base_uri": "https://localhost:8080/"
        },
        "id": "xmuL6rwDL0DF",
        "outputId": "5187e5ec-438a-46d2-ee8d-8ee7dca7b58e"
      },
      "execution_count": 30,
      "outputs": [
        {
          "output_type": "execute_result",
          "data": {
            "text/plain": [
              "0      112\n",
              "1      118\n",
              "2      132\n",
              "3      129\n",
              "4      121\n",
              "      ... \n",
              "139    606\n",
              "140    508\n",
              "141    461\n",
              "142    390\n",
              "143    432\n",
              "Name: Passengers, Length: 144, dtype: int64"
            ]
          },
          "metadata": {},
          "execution_count": 30
        }
      ]
    },
    {
      "cell_type": "code",
      "source": [
        "diff=series2.diff(1).fillna(0)"
      ],
      "metadata": {
        "id": "dEm4fpjtLNMa"
      },
      "execution_count": 31,
      "outputs": []
    },
    {
      "cell_type": "code",
      "source": [
        "diff"
      ],
      "metadata": {
        "colab": {
          "base_uri": "https://localhost:8080/"
        },
        "id": "jxOWw8qZLdfr",
        "outputId": "f9d5eb33-58c1-4185-8c11-67b35bfb465b"
      },
      "execution_count": 32,
      "outputs": [
        {
          "output_type": "execute_result",
          "data": {
            "text/plain": [
              "0       0.0\n",
              "1       6.0\n",
              "2      14.0\n",
              "3      -3.0\n",
              "4      -8.0\n",
              "       ... \n",
              "139   -16.0\n",
              "140   -98.0\n",
              "141   -47.0\n",
              "142   -71.0\n",
              "143    42.0\n",
              "Name: Passengers, Length: 144, dtype: float64"
            ]
          },
          "metadata": {},
          "execution_count": 32
        }
      ]
    },
    {
      "cell_type": "code",
      "source": [
        "result = adfuller(diff)\n",
        "print('ADF Statistic: %f' % result[0])\n",
        "print('p-value: %f' % result[1])\n",
        "print('Critical Values:')\n",
        "for key, value in result[4].items():\n",
        "\tprint('\\t%s: %.3f' % (key, value))"
      ],
      "metadata": {
        "colab": {
          "base_uri": "https://localhost:8080/"
        },
        "id": "PJCb0zcGLgzF",
        "outputId": "473ea551-bc2d-4664-be73-f0ade6ded16a"
      },
      "execution_count": 33,
      "outputs": [
        {
          "output_type": "stream",
          "name": "stdout",
          "text": [
            "ADF Statistic: -2.889186\n",
            "p-value: 0.046620\n",
            "Critical Values:\n",
            "\t1%: -3.481\n",
            "\t5%: -2.884\n",
            "\t10%: -2.579\n"
          ]
        }
      ]
    },
    {
      "cell_type": "code",
      "source": [
        "plot_acf(series)\n",
        "plt.show()"
      ],
      "metadata": {
        "colab": {
          "base_uri": "https://localhost:8080/",
          "height": 281
        },
        "id": "zEjFXM58Lmoa",
        "outputId": "d11d1041-d652-4fe5-82b7-5d9c7a1c17c6"
      },
      "execution_count": 34,
      "outputs": [
        {
          "output_type": "display_data",
          "data": {
            "text/plain": [
              "<Figure size 432x288 with 1 Axes>"
            ],
            "image/png": "[encoded data removed]"
          },
          "metadata": {
            "needs_background": "light"
          }
        }
      ]
    },
    {
      "cell_type": "code",
      "source": [
        "plot_pacf(series)\n",
        "plt.show()"
      ],
      "metadata": {
        "colab": {
          "base_uri": "https://localhost:8080/",
          "height": 281
        },
        "id": "0bWeb9ONMaHs",
        "outputId": "1971bec9-9c51-4ad7-93e0-e3718576b99d"
      },
      "execution_count": 35,
      "outputs": [
        {
          "output_type": "display_data",
          "data": {
            "text/plain": [
              "<Figure size 432x288 with 1 Axes>"
            ],
            "image/png": "[encoded data removed]"
          },
          "metadata": {
            "needs_background": "light"
          }
        }
      ]
    },
    {
      "cell_type": "code",
      "source": [
        "plt.plot(diff)\n",
        "plt.show()"
      ],
      "metadata": {
        "colab": {
          "base_uri": "https://localhost:8080/",
          "height": 265
        },
        "id": "BfIJjZTIMcrP",
        "outputId": "53d34c29-f832-44f9-cfe6-bbfa2da1d89b"
      },
      "execution_count": 36,
      "outputs": [
        {
          "output_type": "display_data",
          "data": {
            "text/plain": [
              "<Figure size 432x288 with 1 Axes>"
            ],
            "image/png": "[encoded data removed]"
          },
          "metadata": {
            "needs_background": "light"
          }
        }
      ]
    },
    {
      "cell_type": "code",
      "source": [
        "ARMA_model = ARIMA(endog=diff, order=(0, 0, 3))\n",
        "results = ARMA_model.fit()\n",
        "print(results.summary())"
      ],
      "metadata": {
        "colab": {
          "base_uri": "https://localhost:8080/"
        },
        "id": "Qdxi2EpOMrVi",
        "outputId": "750e5f04-64e7-4cc5-c75d-05b9756ceae2"
      },
      "execution_count": 37,
      "outputs": [
        {
          "output_type": "stream",
          "name": "stdout",
          "text": [
            "                              ARMA Model Results                              \n",
            "==============================================================================\n",
            "Dep. Variable:             Passengers   No. Observations:                  144\n",
            "Model:                     ARMA(0, 3)   Log Likelihood                -690.183\n",
            "Method:                       css-mle   S.D. of innovations             28.729\n",
            "Date:                Tue, 07 Jun 2022   AIC                           1390.366\n",
            "Time:                        06:42:23   BIC                           1405.216\n",
            "Sample:                             0   HQIC                          1396.400\n",
            "                                                                              \n",
            "====================================================================================\n",
            "                       coef    std err          z      P>|z|      [0.025      0.975]\n",
            "------------------------------------------------------------------------------------\n",
            "const                2.6553      0.130     20.430      0.000       2.401       2.910\n",
            "ma.L1.Passengers     0.0523      0.089      0.588      0.557      -0.122       0.227\n",
            "ma.L2.Passengers    -0.7930      0.114     -6.937      0.000      -1.017      -0.569\n",
            "ma.L3.Passengers    -0.2592      0.076     -3.419      0.001      -0.408      -0.111\n",
            "                                    Roots                                    \n",
            "=============================================================================\n",
            "                  Real          Imaginary           Modulus         Frequency\n",
            "-----------------------------------------------------------------------------\n",
            "MA.1            1.0001           +0.0000j            1.0001            0.0000\n",
            "MA.2           -1.5181           +0.0000j            1.5181            0.5000\n",
            "MA.3           -2.5409           +0.0000j            2.5409            0.5000\n",
            "-----------------------------------------------------------------------------\n"
          ]
        }
      ]
    },
    {
      "cell_type": "code",
      "source": [
        "pred = results.predict(0,203)"
      ],
      "metadata": {
        "id": "PJm3skR4M88J"
      },
      "execution_count": 38,
      "outputs": []
    },
    {
      "cell_type": "code",
      "source": [
        "\n",
        "plt.plot(pred,color=\"red\")\n",
        "plt.plot(diff)\n",
        "plt.show()"
      ],
      "metadata": {
        "colab": {
          "base_uri": "https://localhost:8080/",
          "height": 265
        },
        "id": "0mxDRDzyNTt4",
        "outputId": "cc670823-47e2-40ff-cf50-760b177080b1"
      },
      "execution_count": 39,
      "outputs": [
        {
          "output_type": "display_data",
          "data": {
            "text/plain": [
              "<Figure size 432x288 with 1 Axes>"
            ],
            "image/png": "[encoded data removed]"
          },
          "metadata": {
            "needs_background": "light"
          }
        }
      ]
    }
  ]
}