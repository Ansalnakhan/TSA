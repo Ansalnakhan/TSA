{
  "nbformat": 4,
  "nbformat_minor": 0,
  "metadata": {
    "colab": {
      "name": "Untitled41.ipynb",
      "provenance": [],
      "collapsed_sections": [],
      "authorship_tag": "ABX9TyPR9srPzgYSpd685yecde6f",
      "include_colab_link": true
    },
    "kernelspec": {
      "name": "python3",
      "display_name": "Python 3"
    },
    "language_info": {
      "name": "python"
    }
  },
  "cells": [
    {
      "cell_type": "markdown",
      "metadata": {
        "id": "view-in-github",
        "colab_type": "text"
      },
      "source": [
        "<a href=\"https://colab.research.google.com/github/Ansalnakhan/TSA/blob/main/project%207%20B0007%20d.ipynb\" target=\"_parent\"><img src=\"https://colab.research.google.com/assets/colab-badge.svg\" alt=\"Open In Colab\"/></a>"
      ]
    },
    {
      "cell_type": "code",
      "execution_count": 344,
      "metadata": {
        "colab": {
          "base_uri": "https://localhost:8080/"
        },
        "id": "McbdgQooJD-C",
        "outputId": "0246e174-888b-4c2c-8bea-e355c49e9c04"
      },
      "outputs": [
        {
          "output_type": "stream",
          "name": "stderr",
          "text": [
            "/usr/local/lib/python3.7/dist-packages/ipykernel_launcher.py:1: UserWarning: Config option `use_jedi` not recognized by `IPCompleter`.\n",
            "  \"\"\"Entry point for launching an IPython kernel.\n"
          ]
        }
      ],
      "source": [
        "%config Completer.use_jedi = False"
      ]
    },
    {
      "cell_type": "code",
      "source": [
        "%matplotlib inline\n",
        "!pip show tensorflow\n",
        "!wget -cq https://ti.arc.nasa.gov/c/5 -O naza.zip\n",
        "!unzip -qqo naza.zip -d battery_data"
      ],
      "metadata": {
        "colab": {
          "base_uri": "https://localhost:8080/"
        },
        "id": "04G9Li1GJguR",
        "outputId": "1c0581f5-c9ef-48f9-f9bc-76475690e22f"
      },
      "execution_count": 345,
      "outputs": [
        {
          "output_type": "stream",
          "name": "stdout",
          "text": [
            "Name: tensorflow\n",
            "Version: 2.8.2+zzzcolab20220527125636\n",
            "Summary: TensorFlow is an open source machine learning framework for everyone.\n",
            "Home-page: https://www.tensorflow.org/\n",
            "Author: Google Inc.\n",
            "Author-email: packages@tensorflow.org\n",
            "License: Apache 2.0\n",
            "Location: /usr/local/lib/python3.7/dist-packages\n",
            "Requires: opt-einsum, tensorboard, h5py, tensorflow-io-gcs-filesystem, absl-py, tensorflow-estimator, termcolor, typing-extensions, six, grpcio, protobuf, keras, wrapt, google-pasta, astunparse, gast, libclang, flatbuffers, keras-preprocessing, setuptools, numpy\n",
            "Required-by: kapre\n",
            "[naza.zip]\n",
            "  End-of-central-directory signature not found.  Either this file is not\n",
            "  a zipfile, or it constitutes one disk of a multi-part archive.  In the\n",
            "  latter case the central directory and zipfile comment will be found on\n",
            "  the last disk(s) of this archive.\n",
            "unzip:  cannot find zipfile directory in one of naza.zip or\n",
            "        naza.zip.zip, and cannot find naza.zip.ZIP, period.\n"
          ]
        }
      ]
    },
    {
      "cell_type": "code",
      "source": [
        "import datetime\n",
        "import numpy as np\n",
        "import pandas as pd\n",
        "from scipy.io import loadmat\n",
        "from sklearn.preprocessing import MinMaxScaler\n",
        "from sklearn.metrics import mean_squared_error\n",
        "from sklearn import metrics\n",
        "import matplotlib.pyplot as plt\n",
        "import seaborn as sns"
      ],
      "metadata": {
        "id": "cwQaAW7ZJluj"
      },
      "execution_count": 346,
      "outputs": []
    },
    {
      "cell_type": "code",
      "source": [
        "def load_data(battery):\n",
        "  mat = loadmat('/content/data/' + battery + '.mat')\n",
        "  print('Total data in dataset: ', len(mat[battery][0, 0]['cycle'][0]))\n",
        "  counter = 0\n",
        "  dataset = []\n",
        "  capacity_data = []\n",
        "  \n",
        "  for i in range(len(mat[battery][0, 0]['cycle'][0])):\n",
        "    row = mat[battery][0, 0]['cycle'][0, i]\n",
        "    if row['type'][0] == 'discharge':\n",
        "      ambient_temperature = row['ambient_temperature'][0][0]\n",
        "      date_time = datetime.datetime(int(row['time'][0][0]),\n",
        "                               int(row['time'][0][1]),\n",
        "                               int(row['time'][0][2]),\n",
        "                               int(row['time'][0][3]),\n",
        "                               int(row['time'][0][4])) + datetime.timedelta(seconds=int(row['time'][0][5]))\n",
        "      data = row['data']\n",
        "      capacity = data[0][0]['Capacity'][0][0]\n",
        "      for j in range(len(data[0][0]['Voltage_measured'][0])):\n",
        "        voltage_measured = data[0][0]['Voltage_measured'][0][j]\n",
        "        current_measured = data[0][0]['Current_measured'][0][j]\n",
        "        temperature_measured = data[0][0]['Temperature_measured'][0][j]\n",
        "        current_load = data[0][0]['Current_load'][0][j]\n",
        "        voltage_load = data[0][0]['Voltage_load'][0][j]\n",
        "        time = data[0][0]['Time'][0][j]\n",
        "        dataset.append([counter + 1, ambient_temperature, date_time, capacity,\n",
        "                        voltage_measured, current_measured,\n",
        "                        temperature_measured, current_load,\n",
        "                        voltage_load, time])\n",
        "      capacity_data.append([counter + 1, ambient_temperature, date_time, capacity])\n",
        "      counter = counter + 1\n",
        "  print(dataset[0])\n",
        "  return [pd.DataFrame(data=dataset,\n",
        "                       columns=['cycle', 'ambient_temperature', 'datetime',\n",
        "                                'capacity', 'voltage_measured',\n",
        "                                'current_measured', 'temperature_measured',\n",
        "                                'current_load', 'voltage_load', 'time']),\n",
        "          pd.DataFrame(data=capacity_data,\n",
        "                       columns=['cycle', 'ambient_temperature', 'datetime',\n",
        "                                'capacity'])]\n",
        "dataset, capacity = load_data('B0007')\n",
        "pd.set_option('display.max_columns', 10)\n",
        "print(dataset.head())\n",
        "dataset.describe()\n"
      ],
      "metadata": {
        "colab": {
          "base_uri": "https://localhost:8080/",
          "height": 574
        },
        "id": "tzEIqbsrJsyT",
        "outputId": "ec56622f-7dfc-4d3f-aa95-7b47d65f4d27"
      },
      "execution_count": 347,
      "outputs": [
        {
          "output_type": "stream",
          "name": "stdout",
          "text": [
            "Total data in dataset:  616\n",
            "[1, 24, datetime.datetime(2008, 4, 2, 15, 25, 41), 1.89105229539079, 4.199359521791473, -0.0018658918833680202, 23.93704394613529, -0.0004, 0.0, 0.0]\n",
            "   cycle  ambient_temperature            datetime  capacity  voltage_measured  \\\n",
            "0      1                   24 2008-04-02 15:25:41  1.891052          4.199360   \n",
            "1      1                   24 2008-04-02 15:25:41  1.891052          4.199497   \n",
            "2      1                   24 2008-04-02 15:25:41  1.891052          3.985606   \n",
            "3      1                   24 2008-04-02 15:25:41  1.891052          3.963247   \n",
            "4      1                   24 2008-04-02 15:25:41  1.891052          3.946647   \n",
            "\n",
            "   current_measured  temperature_measured  current_load  voltage_load    time  \n",
            "0         -0.001866             23.937044       -0.0004         0.000   0.000  \n",
            "1         -0.002139             23.924074       -0.0004         4.215  16.781  \n",
            "2         -1.988778             24.004257       -2.0000         3.003  35.703  \n",
            "3         -1.992558             24.162868       -2.0000         2.987  53.781  \n",
            "4         -1.988491             24.346368       -2.0000         2.972  71.922  \n"
          ]
        },
        {
          "output_type": "execute_result",
          "data": {
            "text/plain": [
              "              cycle  ambient_temperature      capacity  voltage_measured  \\\n",
              "count  50285.000000              50285.0  50285.000000      50285.000000   \n",
              "mean      88.125942                 24.0      1.632911          3.516153   \n",
              "std       45.699687                  0.0      0.152751          0.268665   \n",
              "min        1.000000                 24.0      1.400455          1.737030   \n",
              "25%       50.000000                 24.0      1.497822          3.408859   \n",
              "50%       88.000000                 24.0      1.605663          3.520359   \n",
              "75%      127.000000                 24.0      1.785885          3.681617   \n",
              "max      168.000000                 24.0      1.891052          4.233325   \n",
              "\n",
              "       current_measured  temperature_measured  current_load  voltage_load  \\\n",
              "count      50285.000000          50285.000000  50285.000000  50285.000000   \n",
              "mean          -1.910982             32.374078      1.471671      2.499169   \n",
              "std            0.387120              4.004486      1.294697      0.550780   \n",
              "min           -2.006038             22.969923     -2.000000      0.000000   \n",
              "25%           -1.990432             29.683138      2.000000      2.470000   \n",
              "50%           -1.989406             32.294479      2.000000      2.582000   \n",
              "75%           -1.988328             35.230784      2.000000      2.743000   \n",
              "max            0.005072             42.332522      2.000000      4.249000   \n",
              "\n",
              "               time  \n",
              "count  50285.000000  \n",
              "mean    1546.208924  \n",
              "std      906.640295  \n",
              "min        0.000000  \n",
              "25%      768.563000  \n",
              "50%     1537.031000  \n",
              "75%     2305.984000  \n",
              "max     3690.234000  "
            ],
            "text/html": [
              "\n",
              "  <div id=\"df-38339b30-d8ed-4d46-870d-c8c155475dab\">\n",
              "    <div class=\"colab-df-container\">\n",
              "      <div>\n",
              "<style scoped>\n",
              "    .dataframe tbody tr th:only-of-type {\n",
              "        vertical-align: middle;\n",
              "    }\n",
              "\n",
              "    .dataframe tbody tr th {\n",
              "        vertical-align: top;\n",
              "    }\n",
              "\n",
              "    .dataframe thead th {\n",
              "        text-align: right;\n",
              "    }\n",
              "</style>\n",
              "<table border=\"1\" class=\"dataframe\">\n",
              "  <thead>\n",
              "    <tr style=\"text-align: right;\">\n",
              "      <th></th>\n",
              "      <th>cycle</th>\n",
              "      <th>ambient_temperature</th>\n",
              "      <th>capacity</th>\n",
              "      <th>voltage_measured</th>\n",
              "      <th>current_measured</th>\n",
              "      <th>temperature_measured</th>\n",
              "      <th>current_load</th>\n",
              "      <th>voltage_load</th>\n",
              "      <th>time</th>\n",
              "    </tr>\n",
              "  </thead>\n",
              "  <tbody>\n",
              "    <tr>\n",
              "      <th>count</th>\n",
              "      <td>50285.000000</td>\n",
              "      <td>50285.0</td>\n",
              "      <td>50285.000000</td>\n",
              "      <td>50285.000000</td>\n",
              "      <td>50285.000000</td>\n",
              "      <td>50285.000000</td>\n",
              "      <td>50285.000000</td>\n",
              "      <td>50285.000000</td>\n",
              "      <td>50285.000000</td>\n",
              "    </tr>\n",
              "    <tr>\n",
              "      <th>mean</th>\n",
              "      <td>88.125942</td>\n",
              "      <td>24.0</td>\n",
              "      <td>1.632911</td>\n",
              "      <td>3.516153</td>\n",
              "      <td>-1.910982</td>\n",
              "      <td>32.374078</td>\n",
              "      <td>1.471671</td>\n",
              "      <td>2.499169</td>\n",
              "      <td>1546.208924</td>\n",
              "    </tr>\n",
              "    <tr>\n",
              "      <th>std</th>\n",
              "      <td>45.699687</td>\n",
              "      <td>0.0</td>\n",
              "      <td>0.152751</td>\n",
              "      <td>0.268665</td>\n",
              "      <td>0.387120</td>\n",
              "      <td>4.004486</td>\n",
              "      <td>1.294697</td>\n",
              "      <td>0.550780</td>\n",
              "      <td>906.640295</td>\n",
              "    </tr>\n",
              "    <tr>\n",
              "      <th>min</th>\n",
              "      <td>1.000000</td>\n",
              "      <td>24.0</td>\n",
              "      <td>1.400455</td>\n",
              "      <td>1.737030</td>\n",
              "      <td>-2.006038</td>\n",
              "      <td>22.969923</td>\n",
              "      <td>-2.000000</td>\n",
              "      <td>0.000000</td>\n",
              "      <td>0.000000</td>\n",
              "    </tr>\n",
              "    <tr>\n",
              "      <th>25%</th>\n",
              "      <td>50.000000</td>\n",
              "      <td>24.0</td>\n",
              "      <td>1.497822</td>\n",
              "      <td>3.408859</td>\n",
              "      <td>-1.990432</td>\n",
              "      <td>29.683138</td>\n",
              "      <td>2.000000</td>\n",
              "      <td>2.470000</td>\n",
              "      <td>768.563000</td>\n",
              "    </tr>\n",
              "    <tr>\n",
              "      <th>50%</th>\n",
              "      <td>88.000000</td>\n",
              "      <td>24.0</td>\n",
              "      <td>1.605663</td>\n",
              "      <td>3.520359</td>\n",
              "      <td>-1.989406</td>\n",
              "      <td>32.294479</td>\n",
              "      <td>2.000000</td>\n",
              "      <td>2.582000</td>\n",
              "      <td>1537.031000</td>\n",
              "    </tr>\n",
              "    <tr>\n",
              "      <th>75%</th>\n",
              "      <td>127.000000</td>\n",
              "      <td>24.0</td>\n",
              "      <td>1.785885</td>\n",
              "      <td>3.681617</td>\n",
              "      <td>-1.988328</td>\n",
              "      <td>35.230784</td>\n",
              "      <td>2.000000</td>\n",
              "      <td>2.743000</td>\n",
              "      <td>2305.984000</td>\n",
              "    </tr>\n",
              "    <tr>\n",
              "      <th>max</th>\n",
              "      <td>168.000000</td>\n",
              "      <td>24.0</td>\n",
              "      <td>1.891052</td>\n",
              "      <td>4.233325</td>\n",
              "      <td>0.005072</td>\n",
              "      <td>42.332522</td>\n",
              "      <td>2.000000</td>\n",
              "      <td>4.249000</td>\n",
              "      <td>3690.234000</td>\n",
              "    </tr>\n",
              "  </tbody>\n",
              "</table>\n",
              "</div>\n",
              "      <button class=\"colab-df-convert\" onclick=\"convertToInteractive('df-38339b30-d8ed-4d46-870d-c8c155475dab')\"\n",
              "              title=\"Convert this dataframe to an interactive table.\"\n",
              "              style=\"display:none;\">\n",
              "        \n",
              "  <svg xmlns=\"http://www.w3.org/2000/svg\" height=\"24px\"viewBox=\"0 0 24 24\"\n",
              "       width=\"24px\">\n",
              "    <path d=\"M0 0h24v24H0V0z\" fill=\"none\"/>\n",
              "    <path d=\"M18.56 5.44l.94 2.06.94-2.06 2.06-.94-2.06-.94-.94-2.06-.94 2.06-2.06.94zm-11 1L8.5 8.5l.94-2.06 2.06-.94-2.06-.94L8.5 2.5l-.94 2.06-2.06.94zm10 10l.94 2.06.94-2.06 2.06-.94-2.06-.94-.94-2.06-.94 2.06-2.06.94z\"/><path d=\"M17.41 7.96l-1.37-1.37c-.4-.4-.92-.59-1.43-.59-.52 0-1.04.2-1.43.59L10.3 9.45l-7.72 7.72c-.78.78-.78 2.05 0 2.83L4 21.41c.39.39.9.59 1.41.59.51 0 1.02-.2 1.41-.59l7.78-7.78 2.81-2.81c.8-.78.8-2.07 0-2.86zM5.41 20L4 18.59l7.72-7.72 1.47 1.35L5.41 20z\"/>\n",
              "  </svg>\n",
              "      </button>\n",
              "      \n",
              "  <style>\n",
              "    .colab-df-container {\n",
              "      display:flex;\n",
              "      flex-wrap:wrap;\n",
              "      gap: 12px;\n",
              "    }\n",
              "\n",
              "    .colab-df-convert {\n",
              "      background-color: #E8F0FE;\n",
              "      border: none;\n",
              "      border-radius: 50%;\n",
              "      cursor: pointer;\n",
              "      display: none;\n",
              "      fill: #1967D2;\n",
              "      height: 32px;\n",
              "      padding: 0 0 0 0;\n",
              "      width: 32px;\n",
              "    }\n",
              "\n",
              "    .colab-df-convert:hover {\n",
              "      background-color: #E2EBFA;\n",
              "      box-shadow: 0px 1px 2px rgba(60, 64, 67, 0.3), 0px 1px 3px 1px rgba(60, 64, 67, 0.15);\n",
              "      fill: #174EA6;\n",
              "    }\n",
              "\n",
              "    [theme=dark] .colab-df-convert {\n",
              "      background-color: #3B4455;\n",
              "      fill: #D2E3FC;\n",
              "    }\n",
              "\n",
              "    [theme=dark] .colab-df-convert:hover {\n",
              "      background-color: #434B5C;\n",
              "      box-shadow: 0px 1px 3px 1px rgba(0, 0, 0, 0.15);\n",
              "      filter: drop-shadow(0px 1px 2px rgba(0, 0, 0, 0.3));\n",
              "      fill: #FFFFFF;\n",
              "    }\n",
              "  </style>\n",
              "\n",
              "      <script>\n",
              "        const buttonEl =\n",
              "          document.querySelector('#df-38339b30-d8ed-4d46-870d-c8c155475dab button.colab-df-convert');\n",
              "        buttonEl.style.display =\n",
              "          google.colab.kernel.accessAllowed ? 'block' : 'none';\n",
              "\n",
              "        async function convertToInteractive(key) {\n",
              "          const element = document.querySelector('#df-38339b30-d8ed-4d46-870d-c8c155475dab');\n",
              "          const dataTable =\n",
              "            await google.colab.kernel.invokeFunction('convertToInteractive',\n",
              "                                                     [key], {});\n",
              "          if (!dataTable) return;\n",
              "\n",
              "          const docLinkHtml = 'Like what you see? Visit the ' +\n",
              "            '<a target=\"_blank\" href=https://colab.research.google.com/notebooks/data_table.ipynb>data table notebook</a>'\n",
              "            + ' to learn more about interactive tables.';\n",
              "          element.innerHTML = '';\n",
              "          dataTable['output_type'] = 'display_data';\n",
              "          await google.colab.output.renderOutput(dataTable, element);\n",
              "          const docLink = document.createElement('div');\n",
              "          docLink.innerHTML = docLinkHtml;\n",
              "          element.appendChild(docLink);\n",
              "        }\n",
              "      </script>\n",
              "    </div>\n",
              "  </div>\n",
              "  "
            ]
          },
          "metadata": {},
          "execution_count": 347
        }
      ]
    },
    {
      "cell_type": "code",
      "source": [
        "plot_df = capacity.loc[(capacity['cycle']>=1),['cycle','capacity']]\n",
        "sns.set_style(\"darkgrid\")\n",
        "plt.figure(figsize=(12, 8))\n",
        "plt.plot(plot_df['cycle'], plot_df['capacity'])\n",
        "#Draw threshold\n",
        "plt.plot([0.,len(capacity)], [1.4, 1.4])\n",
        "plt.ylabel('Capacity')\n",
        "# make x-axis ticks legible\n",
        "adf = plt.gca().get_xaxis().get_major_formatter()\n",
        "plt.xlabel('cycle')\n",
        "plt.title('Discharge B0007')"
      ],
      "metadata": {
        "colab": {
          "base_uri": "https://localhost:8080/",
          "height": 531
        },
        "id": "ZlCpde8KKaYk",
        "outputId": "7865017c-7d8c-45a4-cab9-631a9907e144"
      },
      "execution_count": 348,
      "outputs": [
        {
          "output_type": "execute_result",
          "data": {
            "text/plain": [
              "Text(0.5, 1.0, 'Discharge B0007')"
            ]
          },
          "metadata": {},
          "execution_count": 348
        },
        {
          "output_type": "display_data",
          "data": {
            "text/plain": [
              "<Figure size 864x576 with 1 Axes>"
            ],
            "image/png": "[encoded data removed]"
          },
          "metadata": {}
        }
      ]
    },
    {
      "cell_type": "code",
      "source": [
        "attrib=['cycle', 'datetime', 'capacity']\n",
        "dis_ele = capacity[attrib]\n",
        "C = dis_ele['capacity'][0]\n",
        "for i in range(len(dis_ele)):\n",
        "    dis_ele['SoH']=(dis_ele['capacity'])/C\n",
        "print(dis_ele.head(5))"
      ],
      "metadata": {
        "colab": {
          "base_uri": "https://localhost:8080/"
        },
        "id": "lK4fjzLyKeZ_",
        "outputId": "6f231fcc-fd89-4532-dbbd-d18b2898f422"
      },
      "execution_count": 349,
      "outputs": [
        {
          "output_type": "stream",
          "name": "stdout",
          "text": [
            "   cycle            datetime  capacity       SoH\n",
            "0      1 2008-04-02 15:25:41  1.891052  1.000000\n",
            "1      2 2008-04-02 19:43:48  1.880637  0.994492\n",
            "2      3 2008-04-03 00:01:06  1.880663  0.994506\n",
            "3      4 2008-04-03 04:16:37  1.880771  0.994563\n",
            "4      5 2008-04-03 08:33:25  1.879451  0.993865\n"
          ]
        }
      ]
    },
    {
      "cell_type": "code",
      "source": [
        "plot_df = dis_ele.loc[(dis_ele['cycle']>=1),['cycle','SoH']]\n",
        "sns.set_style(\"white\")\n",
        "plt.figure(figsize=(8, 5))\n",
        "plt.plot(plot_df['cycle'], plot_df['SoH'])\n",
        "#Draw threshold\n",
        "plt.plot([0.,len(capacity)], [0.70, 0.70])\n",
        "plt.ylabel('SOH')\n",
        "# make x-axis ticks legible\n",
        "adf = plt.gca().get_xaxis().get_major_formatter()\n",
        "plt.xlabel('cycle')\n",
        "plt.title('Discharge B0007')"
      ],
      "metadata": {
        "colab": {
          "base_uri": "https://localhost:8080/",
          "height": 368
        },
        "id": "biiKuFJFKjOE",
        "outputId": "4c7ae1fb-bdc7-4b75-f572-027d8479868c"
      },
      "execution_count": 350,
      "outputs": [
        {
          "output_type": "execute_result",
          "data": {
            "text/plain": [
              "Text(0.5, 1.0, 'Discharge B0007')"
            ]
          },
          "metadata": {},
          "execution_count": 350
        },
        {
          "output_type": "display_data",
          "data": {
            "text/plain": [
              "<Figure size 576x360 with 1 Axes>"
            ],
            "image/png": "[encoded data removed]"
          },
          "metadata": {}
        }
      ]
    },
    {
      "cell_type": "code",
      "source": [
        "C = dataset['capacity'][0]\n",
        "soh = []\n",
        "for i in range(len(dataset)):\n",
        "  soh.append([dataset['capacity'][i] / C])\n",
        "soh = pd.DataFrame(data=soh, columns=['SoH'])\n",
        "\n",
        "attribs=['capacity', 'voltage_measured', 'current_measured',\n",
        "         'temperature_measured', 'current_load', 'voltage_load', 'time']\n",
        "train_dataset = dataset[attribs]\n",
        "sc = MinMaxScaler(feature_range=(0,1))\n",
        "train_dataset = sc.fit_transform(train_dataset)\n",
        "print(train_dataset.shape)\n",
        "print(soh.shape)"
      ],
      "metadata": {
        "colab": {
          "base_uri": "https://localhost:8080/"
        },
        "id": "gNOg-S9wKrSA",
        "outputId": "ce260c78-95df-4abc-98d0-d46c3cfaac19"
      },
      "execution_count": 351,
      "outputs": [
        {
          "output_type": "stream",
          "name": "stdout",
          "text": [
            "(50285, 7)\n",
            "(50285, 1)\n"
          ]
        }
      ]
    },
    {
      "cell_type": "code",
      "source": [
        "import tensorflow as tf\n",
        "from tensorflow.keras.models import Sequential\n",
        "from tensorflow.keras.layers import Dense\n",
        "from tensorflow.keras.layers import Dropout\n",
        "from tensorflow.keras.layers import Flatten\n",
        "from tensorflow.keras.layers import LSTM\n",
        "from tensorflow.keras.optimizers import Adam"
      ],
      "metadata": {
        "id": "tE4efD6JLxkd"
      },
      "execution_count": 352,
      "outputs": []
    },
    {
      "cell_type": "code",
      "source": [
        "model = Sequential()\n",
        "model.add(Dense(8, activation='relu', input_dim=train_dataset.shape[1]))\n",
        "model.add(Dense(8, activation='relu'))\n",
        "model.add(Dense(8, activation='relu'))\n",
        "model.add(Dropout(rate=0.25))\n",
        "model.add(Dense(1))\n",
        "model.summary()\n",
        "model.compile(optimizer=Adam(beta_1=0.9, beta_2=0.999, epsilon=1e-08), loss='mean_absolute_error')"
      ],
      "metadata": {
        "colab": {
          "base_uri": "https://localhost:8080/"
        },
        "id": "pdBiGw6FL3zr",
        "outputId": "133fbc4e-9dbc-4ac8-ec4f-0b34a17f09e9"
      },
      "execution_count": 353,
      "outputs": [
        {
          "output_type": "stream",
          "name": "stdout",
          "text": [
            "Model: \"sequential_32\"\n",
            "_________________________________________________________________\n",
            " Layer (type)                Output Shape              Param #   \n",
            "=================================================================\n",
            " dense_77 (Dense)            (None, 8)                 64        \n",
            "                                                                 \n",
            " dense_78 (Dense)            (None, 8)                 72        \n",
            "                                                                 \n",
            " dense_79 (Dense)            (None, 8)                 72        \n",
            "                                                                 \n",
            " dropout_83 (Dropout)        (None, 8)                 0         \n",
            "                                                                 \n",
            " dense_80 (Dense)            (None, 1)                 9         \n",
            "                                                                 \n",
            "=================================================================\n",
            "Total params: 217\n",
            "Trainable params: 217\n",
            "Non-trainable params: 0\n",
            "_________________________________________________________________\n"
          ]
        }
      ]
    },
    {
      "cell_type": "code",
      "source": [
        "model.fit(x=train_dataset, y=soh.to_numpy(), batch_size=25, epochs=50)"
      ],
      "metadata": {
        "colab": {
          "base_uri": "https://localhost:8080/"
        },
        "id": "bJ_aPgdeZuMo",
        "outputId": "6e03298e-a276-4b5e-9ef2-498032f4d8c1"
      },
      "execution_count": 354,
      "outputs": [
        {
          "output_type": "stream",
          "name": "stdout",
          "text": [
            "Epoch 1/50\n",
            "2012/2012 [==============================] - 4s 2ms/step - loss: 0.0997\n",
            "Epoch 2/50\n",
            "2012/2012 [==============================] - 3s 2ms/step - loss: 0.0159\n",
            "Epoch 3/50\n",
            "2012/2012 [==============================] - 4s 2ms/step - loss: 0.0153\n",
            "Epoch 4/50\n",
            "2012/2012 [==============================] - 3s 2ms/step - loss: 0.0150\n",
            "Epoch 5/50\n",
            "2012/2012 [==============================] - 3s 2ms/step - loss: 0.0151\n",
            "Epoch 6/50\n",
            "2012/2012 [==============================] - 3s 2ms/step - loss: 0.0149\n",
            "Epoch 7/50\n",
            "2012/2012 [==============================] - 3s 2ms/step - loss: 0.0152\n",
            "Epoch 8/50\n",
            "2012/2012 [==============================] - 3s 2ms/step - loss: 0.0150\n",
            "Epoch 9/50\n",
            "2012/2012 [==============================] - 3s 2ms/step - loss: 0.0149\n",
            "Epoch 10/50\n",
            "2012/2012 [==============================] - 3s 2ms/step - loss: 0.0148\n",
            "Epoch 11/50\n",
            "2012/2012 [==============================] - 3s 2ms/step - loss: 0.0148\n",
            "Epoch 12/50\n",
            "2012/2012 [==============================] - 3s 2ms/step - loss: 0.0150\n",
            "Epoch 13/50\n",
            "2012/2012 [==============================] - 3s 2ms/step - loss: 0.0148\n",
            "Epoch 14/50\n",
            "2012/2012 [==============================] - 3s 2ms/step - loss: 0.0149\n",
            "Epoch 15/50\n",
            "2012/2012 [==============================] - 4s 2ms/step - loss: 0.0150\n",
            "Epoch 16/50\n",
            "2012/2012 [==============================] - 3s 2ms/step - loss: 0.0147\n",
            "Epoch 17/50\n",
            "2012/2012 [==============================] - 4s 2ms/step - loss: 0.0147\n",
            "Epoch 18/50\n",
            "2012/2012 [==============================] - 4s 2ms/step - loss: 0.0147\n",
            "Epoch 19/50\n",
            "2012/2012 [==============================] - 4s 2ms/step - loss: 0.0146\n",
            "Epoch 20/50\n",
            "2012/2012 [==============================] - 4s 2ms/step - loss: 0.0148\n",
            "Epoch 21/50\n",
            "2012/2012 [==============================] - 4s 2ms/step - loss: 0.0150\n",
            "Epoch 22/50\n",
            "2012/2012 [==============================] - 4s 2ms/step - loss: 0.0146\n",
            "Epoch 23/50\n",
            "2012/2012 [==============================] - 4s 2ms/step - loss: 0.0148\n",
            "Epoch 24/50\n",
            "2012/2012 [==============================] - 3s 2ms/step - loss: 0.0149\n",
            "Epoch 25/50\n",
            "2012/2012 [==============================] - 3s 2ms/step - loss: 0.0148\n",
            "Epoch 26/50\n",
            "2012/2012 [==============================] - 4s 2ms/step - loss: 0.0148\n",
            "Epoch 27/50\n",
            "2012/2012 [==============================] - 3s 2ms/step - loss: 0.0149\n",
            "Epoch 28/50\n",
            "2012/2012 [==============================] - 3s 2ms/step - loss: 0.0146\n",
            "Epoch 29/50\n",
            "2012/2012 [==============================] - 3s 2ms/step - loss: 0.0146\n",
            "Epoch 30/50\n",
            "2012/2012 [==============================] - 3s 2ms/step - loss: 0.0147\n",
            "Epoch 31/50\n",
            "2012/2012 [==============================] - 3s 2ms/step - loss: 0.0147\n",
            "Epoch 32/50\n",
            "2012/2012 [==============================] - 4s 2ms/step - loss: 0.0147\n",
            "Epoch 33/50\n",
            "2012/2012 [==============================] - 3s 2ms/step - loss: 0.0148\n",
            "Epoch 34/50\n",
            "2012/2012 [==============================] - 5s 2ms/step - loss: 0.0147\n",
            "Epoch 35/50\n",
            "2012/2012 [==============================] - 4s 2ms/step - loss: 0.0148\n",
            "Epoch 36/50\n",
            "2012/2012 [==============================] - 4s 2ms/step - loss: 0.0146\n",
            "Epoch 37/50\n",
            "2012/2012 [==============================] - 4s 2ms/step - loss: 0.0146\n",
            "Epoch 38/50\n",
            "2012/2012 [==============================] - 4s 2ms/step - loss: 0.0147\n",
            "Epoch 39/50\n",
            "2012/2012 [==============================] - 4s 2ms/step - loss: 0.0147\n",
            "Epoch 40/50\n",
            "2012/2012 [==============================] - 3s 2ms/step - loss: 0.0148\n",
            "Epoch 41/50\n",
            "2012/2012 [==============================] - 3s 2ms/step - loss: 0.0147\n",
            "Epoch 42/50\n",
            "2012/2012 [==============================] - 3s 2ms/step - loss: 0.0148\n",
            "Epoch 43/50\n",
            "2012/2012 [==============================] - 3s 2ms/step - loss: 0.0149\n",
            "Epoch 44/50\n",
            "2012/2012 [==============================] - 3s 2ms/step - loss: 0.0147\n",
            "Epoch 45/50\n",
            "2012/2012 [==============================] - 3s 2ms/step - loss: 0.0146\n",
            "Epoch 46/50\n",
            "2012/2012 [==============================] - 3s 2ms/step - loss: 0.0148\n",
            "Epoch 47/50\n",
            "2012/2012 [==============================] - 3s 2ms/step - loss: 0.0148\n",
            "Epoch 48/50\n",
            "2012/2012 [==============================] - 3s 2ms/step - loss: 0.0146\n",
            "Epoch 49/50\n",
            "2012/2012 [==============================] - 3s 2ms/step - loss: 0.0147\n",
            "Epoch 50/50\n",
            "2012/2012 [==============================] - 3s 2ms/step - loss: 0.0147\n"
          ]
        },
        {
          "output_type": "execute_result",
          "data": {
            "text/plain": [
              "<keras.callbacks.History at 0x7fa3fbf846d0>"
            ]
          },
          "metadata": {},
          "execution_count": 354
        }
      ]
    },
    {
      "cell_type": "code",
      "source": [
        "dataset_val, capacity_val = load_data('B0007')\n",
        "attrib=['cycle', 'datetime', 'capacity']\n",
        "dis_ele = capacity_val[attrib]\n",
        "C = dis_ele['capacity'][0]\n",
        "for i in range(len(dis_ele)):\n",
        "    dis_ele['SoH']=(dis_ele['capacity']) / C\n",
        "print(dataset_val.head(5))\n",
        "print(dis_ele.head(5))"
      ],
      "metadata": {
        "colab": {
          "base_uri": "https://localhost:8080/"
        },
        "id": "JLLcGcBhL-IO",
        "outputId": "d45af82a-694a-4b00-aa4e-e0f620a2d49c"
      },
      "execution_count": 355,
      "outputs": [
        {
          "output_type": "stream",
          "name": "stdout",
          "text": [
            "Total data in dataset:  616\n",
            "[1, 24, datetime.datetime(2008, 4, 2, 15, 25, 41), 1.89105229539079, 4.199359521791473, -0.0018658918833680202, 23.93704394613529, -0.0004, 0.0, 0.0]\n",
            "   cycle  ambient_temperature            datetime  capacity  voltage_measured  \\\n",
            "0      1                   24 2008-04-02 15:25:41  1.891052          4.199360   \n",
            "1      1                   24 2008-04-02 15:25:41  1.891052          4.199497   \n",
            "2      1                   24 2008-04-02 15:25:41  1.891052          3.985606   \n",
            "3      1                   24 2008-04-02 15:25:41  1.891052          3.963247   \n",
            "4      1                   24 2008-04-02 15:25:41  1.891052          3.946647   \n",
            "\n",
            "   current_measured  temperature_measured  current_load  voltage_load    time  \n",
            "0         -0.001866             23.937044       -0.0004         0.000   0.000  \n",
            "1         -0.002139             23.924074       -0.0004         4.215  16.781  \n",
            "2         -1.988778             24.004257       -2.0000         3.003  35.703  \n",
            "3         -1.992558             24.162868       -2.0000         2.987  53.781  \n",
            "4         -1.988491             24.346368       -2.0000         2.972  71.922  \n",
            "   cycle            datetime  capacity       SoH\n",
            "0      1 2008-04-02 15:25:41  1.891052  1.000000\n",
            "1      2 2008-04-02 19:43:48  1.880637  0.994492\n",
            "2      3 2008-04-03 00:01:06  1.880663  0.994506\n",
            "3      4 2008-04-03 04:16:37  1.880771  0.994563\n",
            "4      5 2008-04-03 08:33:25  1.879451  0.993865\n"
          ]
        }
      ]
    },
    {
      "cell_type": "code",
      "source": [
        ""
      ],
      "metadata": {
        "id": "IXlRC4G1Zpvf"
      },
      "execution_count": 355,
      "outputs": []
    },
    {
      "cell_type": "code",
      "source": [
        "attrib=['capacity', 'voltage_measured', 'current_measured',\n",
        "        'temperature_measured', 'current_load', 'voltage_load', 'time']\n",
        "soh_pred = model.predict(sc.fit_transform(dataset_val[attrib]))\n",
        "print(soh_pred.shape)\n",
        "\n",
        "C = dataset_val['capacity'][0]\n",
        "soh = []\n",
        "for i in range(len(dataset_val)):\n",
        "  soh.append(dataset_val['capacity'][i] / C)\n",
        "new_soh = dataset_val.loc[(dataset_val['cycle'] >= 1), ['cycle']]\n",
        "new_soh['SoH'] =  soh\n",
        "new_soh['NewSoH'] = soh_pred\n",
        "new_soh = new_soh.groupby(['cycle']).mean().reset_index()\n",
        "print(new_soh.head(10))\n",
        "rms = np.sqrt(mean_squared_error(new_soh['SoH'], new_soh['NewSoH']))\n",
        "print('Root Mean Square Error: ', rms)"
      ],
      "metadata": {
        "colab": {
          "base_uri": "https://localhost:8080/"
        },
        "id": "-91WoM1DMaoG",
        "outputId": "8875620f-573b-4c8d-9810-25efe100f5d3"
      },
      "execution_count": 356,
      "outputs": [
        {
          "output_type": "stream",
          "name": "stdout",
          "text": [
            "(50285, 1)\n",
            "   cycle       SoH    NewSoH\n",
            "0      1  1.000000  0.989318\n",
            "1      2  0.994492  0.984115\n",
            "2      3  0.994506  0.984125\n",
            "3      4  0.994563  0.984182\n",
            "4      5  0.993865  0.983529\n",
            "5      6  0.994526  0.984152\n",
            "6      7  0.994121  0.983767\n",
            "7      8  0.994953  0.984536\n",
            "8      9  0.988704  0.978650\n",
            "9     10  0.988895  0.978835\n",
            "Root Mean Square Error:  0.01024835953024746\n"
          ]
        }
      ]
    },
    {
      "cell_type": "code",
      "source": [
        ""
      ],
      "metadata": {
        "id": "Q0BOcdxfTnr_"
      },
      "execution_count": 356,
      "outputs": []
    },
    {
      "cell_type": "code",
      "source": [
        "plot_df = new_soh.loc[(new_soh['cycle']>=1),['cycle','SoH', 'NewSoH']]\n",
        "sns.set_style(\"white\")\n",
        "plt.figure(figsize=(16, 10))\n",
        "plt.plot(plot_df['cycle'], plot_df['SoH'], label='SoH')\n",
        "plt.plot(plot_df['cycle'], plot_df['NewSoH'], label='Predicted SoH')\n",
        "#Draw threshold\n",
        "#plt.plot([0.,len(capacity)], [0.70, 0.70], label='Threshold')\n",
        "plt.ylabel('SOH')\n",
        "# make x-axis ticks legible\n",
        "adf = plt.gca().get_xaxis().get_major_formatter()\n",
        "plt.xlabel('cycle')\n",
        "plt.legend()\n",
        "plt.title('Discharge B0007')"
      ],
      "metadata": {
        "id": "aiRUmM5BpxJH",
        "outputId": "ff4a13a4-d181-4442-ce92-264b26613fc9",
        "colab": {
          "base_uri": "https://localhost:8080/",
          "height": 639
        }
      },
      "execution_count": 357,
      "outputs": [
        {
          "output_type": "execute_result",
          "data": {
            "text/plain": [
              "Text(0.5, 1.0, 'Discharge B0007')"
            ]
          },
          "metadata": {},
          "execution_count": 357
        },
        {
          "output_type": "display_data",
          "data": {
            "text/plain": [
              "<Figure size 1152x720 with 1 Axes>"
            ],
            "image/png": "[encoded data removed]"
          },
          "metadata": {}
        }
      ]
    },
    {
      "cell_type": "code",
      "source": [
        "dataset_val, capacity_val = load_data('B0007')\n",
        "attrib=['cycle', 'datetime', 'capacity']\n",
        "dis_ele = capacity_val[attrib]\n",
        "rows=['cycle','capacity']\n",
        "dataset=dis_ele[rows]\n",
        "data_train=dataset[(dataset['cycle']<50)]\n",
        "data_set_train=data_train.iloc[:,1:2].values\n",
        "data_test=dataset[(dataset['cycle']>=50)]\n",
        "data_set_test=data_test.iloc[:,1:2].values\n",
        "\n",
        "sc=MinMaxScaler(feature_range=(0,1))\n",
        "data_set_train=sc.fit_transform(data_set_train)\n",
        "data_set_test=sc.transform(data_set_test)\n",
        "\n",
        "X_train=[]\n",
        "y_train=[]\n",
        "#take the last 10t to predict 10t+1\n",
        "for i in range(10,49):\n",
        "    X_train.append(data_set_train[i-10:i,0])\n",
        "    y_train.append(data_set_train[i,0])\n",
        "X_train,y_train=np.array(X_train),np.array(y_train)\n",
        " \n",
        "X_train=np.reshape(X_train,(X_train.shape[0],X_train.shape[1],1))"
      ],
      "metadata": {
        "id": "TSsKq2LCrkhq",
        "outputId": "8a9979f6-ed96-456b-c0d3-7a2eed881c7d",
        "colab": {
          "base_uri": "https://localhost:8080/"
        }
      },
      "execution_count": 358,
      "outputs": [
        {
          "output_type": "stream",
          "name": "stdout",
          "text": [
            "Total data in dataset:  616\n",
            "[1, 24, datetime.datetime(2008, 4, 2, 15, 25, 41), 1.89105229539079, 4.199359521791473, -0.0018658918833680202, 23.93704394613529, -0.0004, 0.0, 0.0]\n"
          ]
        }
      ]
    },
    {
      "cell_type": "code",
      "source": [
        "regress = Sequential()\n",
        "regress.add(LSTM(units=200, return_sequences=True, input_shape=(X_train.shape[1],1)))\n",
        "regress.add(Dropout(0.3))\n",
        "regress.add(LSTM(units=200, return_sequences=True))\n",
        "regress.add(Dropout(0.3))\n",
        "regress.add(LSTM(units=200, return_sequences=True))\n",
        "regress.add(Dropout(0.3))\n",
        "regress.add(LSTM(units=200))\n",
        "regress.add(Dropout(0.3))\n",
        "regress.add(Dense(units=1))\n",
        "regress.compile(optimizer='adam',loss='mean_squared_error')\n",
        "regress.summary()"
      ],
      "metadata": {
        "id": "ZmmSjVK-ro_J",
        "outputId": "52ae33eb-eb66-467a-f8f7-4fe891d885b7",
        "colab": {
          "base_uri": "https://localhost:8080/"
        }
      },
      "execution_count": 359,
      "outputs": [
        {
          "output_type": "stream",
          "name": "stdout",
          "text": [
            "Model: \"sequential_33\"\n",
            "_________________________________________________________________\n",
            " Layer (type)                Output Shape              Param #   \n",
            "=================================================================\n",
            " lstm_68 (LSTM)              (None, 10, 200)           161600    \n",
            "                                                                 \n",
            " dropout_84 (Dropout)        (None, 10, 200)           0         \n",
            "                                                                 \n",
            " lstm_69 (LSTM)              (None, 10, 200)           320800    \n",
            "                                                                 \n",
            " dropout_85 (Dropout)        (None, 10, 200)           0         \n",
            "                                                                 \n",
            " lstm_70 (LSTM)              (None, 10, 200)           320800    \n",
            "                                                                 \n",
            " dropout_86 (Dropout)        (None, 10, 200)           0         \n",
            "                                                                 \n",
            " lstm_71 (LSTM)              (None, 200)               320800    \n",
            "                                                                 \n",
            " dropout_87 (Dropout)        (None, 200)               0         \n",
            "                                                                 \n",
            " dense_81 (Dense)            (None, 1)                 201       \n",
            "                                                                 \n",
            "=================================================================\n",
            "Total params: 1,124,201\n",
            "Trainable params: 1,124,201\n",
            "Non-trainable params: 0\n",
            "_________________________________________________________________\n"
          ]
        }
      ]
    },
    {
      "cell_type": "code",
      "source": [
        "regress.fit(X_train,y_train,epochs=200,batch_size=25)"
      ],
      "metadata": {
        "id": "-6psmuVTrtiT",
        "outputId": "b3da16a8-c501-42a4-899a-445dcac9dc4d",
        "colab": {
          "base_uri": "https://localhost:8080/"
        }
      },
      "execution_count": 360,
      "outputs": [
        {
          "output_type": "stream",
          "name": "stdout",
          "text": [
            "Epoch 1/200\n",
            "2/2 [==============================] - 8s 109ms/step - loss: 0.3294\n",
            "Epoch 2/200\n",
            "2/2 [==============================] - 0s 105ms/step - loss: 0.0889\n",
            "Epoch 3/200\n",
            "2/2 [==============================] - 0s 98ms/step - loss: 0.2159\n",
            "Epoch 4/200\n",
            "2/2 [==============================] - 0s 97ms/step - loss: 0.0554\n",
            "Epoch 5/200\n",
            "2/2 [==============================] - 0s 102ms/step - loss: 0.1279\n",
            "Epoch 6/200\n",
            "2/2 [==============================] - 0s 105ms/step - loss: 0.1332\n",
            "Epoch 7/200\n",
            "2/2 [==============================] - 0s 114ms/step - loss: 0.0870\n",
            "Epoch 8/200\n",
            "2/2 [==============================] - 0s 112ms/step - loss: 0.0495\n",
            "Epoch 9/200\n",
            "2/2 [==============================] - 0s 101ms/step - loss: 0.0563\n",
            "Epoch 10/200\n",
            "2/2 [==============================] - 0s 95ms/step - loss: 0.0752\n",
            "Epoch 11/200\n",
            "2/2 [==============================] - 0s 103ms/step - loss: 0.0444\n",
            "Epoch 12/200\n",
            "2/2 [==============================] - 0s 113ms/step - loss: 0.0462\n",
            "Epoch 13/200\n",
            "2/2 [==============================] - 0s 96ms/step - loss: 0.0524\n",
            "Epoch 14/200\n",
            "2/2 [==============================] - 0s 107ms/step - loss: 0.0630\n",
            "Epoch 15/200\n",
            "2/2 [==============================] - 0s 95ms/step - loss: 0.0381\n",
            "Epoch 16/200\n",
            "2/2 [==============================] - 0s 105ms/step - loss: 0.0460\n",
            "Epoch 17/200\n",
            "2/2 [==============================] - 0s 107ms/step - loss: 0.0531\n",
            "Epoch 18/200\n",
            "2/2 [==============================] - 0s 99ms/step - loss: 0.0433\n",
            "Epoch 19/200\n",
            "2/2 [==============================] - 0s 100ms/step - loss: 0.0356\n",
            "Epoch 20/200\n",
            "2/2 [==============================] - 0s 101ms/step - loss: 0.0434\n",
            "Epoch 21/200\n",
            "2/2 [==============================] - 0s 98ms/step - loss: 0.0383\n",
            "Epoch 22/200\n",
            "2/2 [==============================] - 0s 117ms/step - loss: 0.0385\n",
            "Epoch 23/200\n",
            "2/2 [==============================] - 0s 102ms/step - loss: 0.0347\n",
            "Epoch 24/200\n",
            "2/2 [==============================] - 0s 117ms/step - loss: 0.0375\n",
            "Epoch 25/200\n",
            "2/2 [==============================] - 0s 100ms/step - loss: 0.0332\n",
            "Epoch 26/200\n",
            "2/2 [==============================] - 0s 99ms/step - loss: 0.0359\n",
            "Epoch 27/200\n",
            "2/2 [==============================] - 0s 106ms/step - loss: 0.0397\n",
            "Epoch 28/200\n",
            "2/2 [==============================] - 0s 103ms/step - loss: 0.0339\n",
            "Epoch 29/200\n",
            "2/2 [==============================] - 0s 143ms/step - loss: 0.0326\n",
            "Epoch 30/200\n",
            "2/2 [==============================] - 0s 110ms/step - loss: 0.0309\n",
            "Epoch 31/200\n",
            "2/2 [==============================] - 0s 103ms/step - loss: 0.0326\n",
            "Epoch 32/200\n",
            "2/2 [==============================] - 0s 104ms/step - loss: 0.0354\n",
            "Epoch 33/200\n",
            "2/2 [==============================] - 0s 99ms/step - loss: 0.0326\n",
            "Epoch 34/200\n",
            "2/2 [==============================] - 0s 99ms/step - loss: 0.0341\n",
            "Epoch 35/200\n",
            "2/2 [==============================] - 0s 138ms/step - loss: 0.0270\n",
            "Epoch 36/200\n",
            "2/2 [==============================] - 0s 99ms/step - loss: 0.0335\n",
            "Epoch 37/200\n",
            "2/2 [==============================] - 0s 104ms/step - loss: 0.0273\n",
            "Epoch 38/200\n",
            "2/2 [==============================] - 0s 99ms/step - loss: 0.0284\n",
            "Epoch 39/200\n",
            "2/2 [==============================] - 0s 106ms/step - loss: 0.0295\n",
            "Epoch 40/200\n",
            "2/2 [==============================] - 0s 102ms/step - loss: 0.0274\n",
            "Epoch 41/200\n",
            "2/2 [==============================] - 0s 98ms/step - loss: 0.0292\n",
            "Epoch 42/200\n",
            "2/2 [==============================] - 0s 93ms/step - loss: 0.0318\n",
            "Epoch 43/200\n",
            "2/2 [==============================] - 0s 98ms/step - loss: 0.0272\n",
            "Epoch 44/200\n",
            "2/2 [==============================] - 0s 102ms/step - loss: 0.0297\n",
            "Epoch 45/200\n",
            "2/2 [==============================] - 0s 111ms/step - loss: 0.0260\n",
            "Epoch 46/200\n",
            "2/2 [==============================] - 0s 101ms/step - loss: 0.0259\n",
            "Epoch 47/200\n",
            "2/2 [==============================] - 0s 109ms/step - loss: 0.0262\n",
            "Epoch 48/200\n",
            "2/2 [==============================] - 0s 103ms/step - loss: 0.0310\n",
            "Epoch 49/200\n",
            "2/2 [==============================] - 0s 109ms/step - loss: 0.0275\n",
            "Epoch 50/200\n",
            "2/2 [==============================] - 0s 101ms/step - loss: 0.0267\n",
            "Epoch 51/200\n",
            "2/2 [==============================] - 0s 107ms/step - loss: 0.0276\n",
            "Epoch 52/200\n",
            "2/2 [==============================] - 0s 100ms/step - loss: 0.0297\n",
            "Epoch 53/200\n",
            "2/2 [==============================] - 0s 99ms/step - loss: 0.0296\n",
            "Epoch 54/200\n",
            "2/2 [==============================] - 0s 103ms/step - loss: 0.0267\n",
            "Epoch 55/200\n",
            "2/2 [==============================] - 0s 100ms/step - loss: 0.0310\n",
            "Epoch 56/200\n",
            "2/2 [==============================] - 0s 100ms/step - loss: 0.0321\n",
            "Epoch 57/200\n",
            "2/2 [==============================] - 0s 100ms/step - loss: 0.0279\n",
            "Epoch 58/200\n",
            "2/2 [==============================] - 0s 111ms/step - loss: 0.0267\n",
            "Epoch 59/200\n",
            "2/2 [==============================] - 0s 98ms/step - loss: 0.0317\n",
            "Epoch 60/200\n",
            "2/2 [==============================] - 0s 101ms/step - loss: 0.0276\n",
            "Epoch 61/200\n",
            "2/2 [==============================] - 0s 94ms/step - loss: 0.0298\n",
            "Epoch 62/200\n",
            "2/2 [==============================] - 0s 94ms/step - loss: 0.0317\n",
            "Epoch 63/200\n",
            "2/2 [==============================] - 0s 95ms/step - loss: 0.0264\n",
            "Epoch 64/200\n",
            "2/2 [==============================] - 0s 97ms/step - loss: 0.0251\n",
            "Epoch 65/200\n",
            "2/2 [==============================] - 0s 98ms/step - loss: 0.0313\n",
            "Epoch 66/200\n",
            "2/2 [==============================] - 0s 113ms/step - loss: 0.0287\n",
            "Epoch 67/200\n",
            "2/2 [==============================] - 0s 120ms/step - loss: 0.0266\n",
            "Epoch 68/200\n",
            "2/2 [==============================] - 0s 92ms/step - loss: 0.0265\n",
            "Epoch 69/200\n",
            "2/2 [==============================] - 0s 100ms/step - loss: 0.0274\n",
            "Epoch 70/200\n",
            "2/2 [==============================] - 0s 99ms/step - loss: 0.0279\n",
            "Epoch 71/200\n",
            "2/2 [==============================] - 0s 109ms/step - loss: 0.0273\n",
            "Epoch 72/200\n",
            "2/2 [==============================] - 0s 115ms/step - loss: 0.0278\n",
            "Epoch 73/200\n",
            "2/2 [==============================] - 0s 99ms/step - loss: 0.0289\n",
            "Epoch 74/200\n",
            "2/2 [==============================] - 0s 105ms/step - loss: 0.0335\n",
            "Epoch 75/200\n",
            "2/2 [==============================] - 0s 107ms/step - loss: 0.0261\n",
            "Epoch 76/200\n",
            "2/2 [==============================] - 0s 101ms/step - loss: 0.0378\n",
            "Epoch 77/200\n",
            "2/2 [==============================] - 0s 105ms/step - loss: 0.0332\n",
            "Epoch 78/200\n",
            "2/2 [==============================] - 0s 106ms/step - loss: 0.0365\n",
            "Epoch 79/200\n",
            "2/2 [==============================] - 0s 101ms/step - loss: 0.0329\n",
            "Epoch 80/200\n",
            "2/2 [==============================] - 0s 102ms/step - loss: 0.0293\n",
            "Epoch 81/200\n",
            "2/2 [==============================] - 0s 110ms/step - loss: 0.0289\n",
            "Epoch 82/200\n",
            "2/2 [==============================] - 0s 104ms/step - loss: 0.0312\n",
            "Epoch 83/200\n",
            "2/2 [==============================] - 0s 113ms/step - loss: 0.0239\n",
            "Epoch 84/200\n",
            "2/2 [==============================] - 0s 117ms/step - loss: 0.0260\n",
            "Epoch 85/200\n",
            "2/2 [==============================] - 0s 105ms/step - loss: 0.0348\n",
            "Epoch 86/200\n",
            "2/2 [==============================] - 0s 93ms/step - loss: 0.0233\n",
            "Epoch 87/200\n",
            "2/2 [==============================] - 0s 96ms/step - loss: 0.0276\n",
            "Epoch 88/200\n",
            "2/2 [==============================] - 0s 108ms/step - loss: 0.0258\n",
            "Epoch 89/200\n",
            "2/2 [==============================] - 0s 98ms/step - loss: 0.0327\n",
            "Epoch 90/200\n",
            "2/2 [==============================] - 0s 122ms/step - loss: 0.0273\n",
            "Epoch 91/200\n",
            "2/2 [==============================] - 0s 101ms/step - loss: 0.0272\n",
            "Epoch 92/200\n",
            "2/2 [==============================] - 0s 108ms/step - loss: 0.0274\n",
            "Epoch 93/200\n",
            "2/2 [==============================] - 0s 98ms/step - loss: 0.0269\n",
            "Epoch 94/200\n",
            "2/2 [==============================] - 0s 96ms/step - loss: 0.0267\n",
            "Epoch 95/200\n",
            "2/2 [==============================] - 0s 91ms/step - loss: 0.0285\n",
            "Epoch 96/200\n",
            "2/2 [==============================] - 0s 93ms/step - loss: 0.0267\n",
            "Epoch 97/200\n",
            "2/2 [==============================] - 0s 102ms/step - loss: 0.0298\n",
            "Epoch 98/200\n",
            "2/2 [==============================] - 0s 104ms/step - loss: 0.0245\n",
            "Epoch 99/200\n",
            "2/2 [==============================] - 0s 111ms/step - loss: 0.0279\n",
            "Epoch 100/200\n",
            "2/2 [==============================] - 0s 97ms/step - loss: 0.0300\n",
            "Epoch 101/200\n",
            "2/2 [==============================] - 0s 100ms/step - loss: 0.0270\n",
            "Epoch 102/200\n",
            "2/2 [==============================] - 0s 93ms/step - loss: 0.0269\n",
            "Epoch 103/200\n",
            "2/2 [==============================] - 0s 97ms/step - loss: 0.0276\n",
            "Epoch 104/200\n",
            "2/2 [==============================] - 0s 97ms/step - loss: 0.0245\n",
            "Epoch 105/200\n",
            "2/2 [==============================] - 0s 96ms/step - loss: 0.0252\n",
            "Epoch 106/200\n",
            "2/2 [==============================] - 0s 112ms/step - loss: 0.0219\n",
            "Epoch 107/200\n",
            "2/2 [==============================] - 0s 119ms/step - loss: 0.0236\n",
            "Epoch 108/200\n",
            "2/2 [==============================] - 0s 112ms/step - loss: 0.0238\n",
            "Epoch 109/200\n",
            "2/2 [==============================] - 0s 101ms/step - loss: 0.0247\n",
            "Epoch 110/200\n",
            "2/2 [==============================] - 0s 107ms/step - loss: 0.0264\n",
            "Epoch 111/200\n",
            "2/2 [==============================] - 0s 110ms/step - loss: 0.0256\n",
            "Epoch 112/200\n",
            "2/2 [==============================] - 0s 101ms/step - loss: 0.0234\n",
            "Epoch 113/200\n",
            "2/2 [==============================] - 0s 98ms/step - loss: 0.0271\n",
            "Epoch 114/200\n",
            "2/2 [==============================] - 0s 99ms/step - loss: 0.0261\n",
            "Epoch 115/200\n",
            "2/2 [==============================] - 0s 102ms/step - loss: 0.0232\n",
            "Epoch 116/200\n",
            "2/2 [==============================] - 0s 95ms/step - loss: 0.0233\n",
            "Epoch 117/200\n",
            "2/2 [==============================] - 0s 97ms/step - loss: 0.0286\n",
            "Epoch 118/200\n",
            "2/2 [==============================] - 0s 97ms/step - loss: 0.0271\n",
            "Epoch 119/200\n",
            "2/2 [==============================] - 0s 95ms/step - loss: 0.0254\n",
            "Epoch 120/200\n",
            "2/2 [==============================] - 0s 97ms/step - loss: 0.0213\n",
            "Epoch 121/200\n",
            "2/2 [==============================] - 0s 103ms/step - loss: 0.0281\n",
            "Epoch 122/200\n",
            "2/2 [==============================] - 0s 116ms/step - loss: 0.0257\n",
            "Epoch 123/200\n",
            "2/2 [==============================] - 0s 99ms/step - loss: 0.0243\n",
            "Epoch 124/200\n",
            "2/2 [==============================] - 0s 113ms/step - loss: 0.0253\n",
            "Epoch 125/200\n",
            "2/2 [==============================] - 0s 119ms/step - loss: 0.0233\n",
            "Epoch 126/200\n",
            "2/2 [==============================] - 0s 95ms/step - loss: 0.0252\n",
            "Epoch 127/200\n",
            "2/2 [==============================] - 0s 97ms/step - loss: 0.0268\n",
            "Epoch 128/200\n",
            "2/2 [==============================] - 0s 101ms/step - loss: 0.0312\n",
            "Epoch 129/200\n",
            "2/2 [==============================] - 0s 94ms/step - loss: 0.0194\n",
            "Epoch 130/200\n",
            "2/2 [==============================] - 0s 101ms/step - loss: 0.0240\n",
            "Epoch 131/200\n",
            "2/2 [==============================] - 0s 113ms/step - loss: 0.0260\n",
            "Epoch 132/200\n",
            "2/2 [==============================] - 0s 99ms/step - loss: 0.0238\n",
            "Epoch 133/200\n",
            "2/2 [==============================] - 0s 104ms/step - loss: 0.0280\n",
            "Epoch 134/200\n",
            "2/2 [==============================] - 0s 105ms/step - loss: 0.0238\n",
            "Epoch 135/200\n",
            "2/2 [==============================] - 0s 102ms/step - loss: 0.0274\n",
            "Epoch 136/200\n",
            "2/2 [==============================] - 0s 108ms/step - loss: 0.0242\n",
            "Epoch 137/200\n",
            "2/2 [==============================] - 0s 99ms/step - loss: 0.0271\n",
            "Epoch 138/200\n",
            "2/2 [==============================] - 0s 105ms/step - loss: 0.0228\n",
            "Epoch 139/200\n",
            "2/2 [==============================] - 0s 96ms/step - loss: 0.0240\n",
            "Epoch 140/200\n",
            "2/2 [==============================] - 0s 94ms/step - loss: 0.0246\n",
            "Epoch 141/200\n",
            "2/2 [==============================] - 0s 95ms/step - loss: 0.0261\n",
            "Epoch 142/200\n",
            "2/2 [==============================] - 0s 105ms/step - loss: 0.0225\n",
            "Epoch 143/200\n",
            "2/2 [==============================] - 0s 106ms/step - loss: 0.0255\n",
            "Epoch 144/200\n",
            "2/2 [==============================] - 0s 102ms/step - loss: 0.0231\n",
            "Epoch 145/200\n",
            "2/2 [==============================] - 0s 112ms/step - loss: 0.0222\n",
            "Epoch 146/200\n",
            "2/2 [==============================] - 0s 109ms/step - loss: 0.0242\n",
            "Epoch 147/200\n",
            "2/2 [==============================] - 0s 114ms/step - loss: 0.0246\n",
            "Epoch 148/200\n",
            "2/2 [==============================] - 0s 100ms/step - loss: 0.0227\n",
            "Epoch 149/200\n",
            "2/2 [==============================] - 0s 102ms/step - loss: 0.0230\n",
            "Epoch 150/200\n",
            "2/2 [==============================] - 0s 102ms/step - loss: 0.0280\n",
            "Epoch 151/200\n",
            "2/2 [==============================] - 0s 95ms/step - loss: 0.0243\n",
            "Epoch 152/200\n",
            "2/2 [==============================] - 0s 96ms/step - loss: 0.0270\n",
            "Epoch 153/200\n",
            "2/2 [==============================] - 0s 107ms/step - loss: 0.0201\n",
            "Epoch 154/200\n",
            "2/2 [==============================] - 0s 129ms/step - loss: 0.0299\n",
            "Epoch 155/200\n",
            "2/2 [==============================] - 0s 100ms/step - loss: 0.0205\n",
            "Epoch 156/200\n",
            "2/2 [==============================] - 0s 95ms/step - loss: 0.0332\n",
            "Epoch 157/200\n",
            "2/2 [==============================] - 0s 105ms/step - loss: 0.0264\n",
            "Epoch 158/200\n",
            "2/2 [==============================] - 0s 107ms/step - loss: 0.0311\n",
            "Epoch 159/200\n",
            "2/2 [==============================] - 0s 102ms/step - loss: 0.0259\n",
            "Epoch 160/200\n",
            "2/2 [==============================] - 0s 95ms/step - loss: 0.0229\n",
            "Epoch 161/200\n",
            "2/2 [==============================] - 0s 96ms/step - loss: 0.0276\n",
            "Epoch 162/200\n",
            "2/2 [==============================] - 0s 93ms/step - loss: 0.0267\n",
            "Epoch 163/200\n",
            "2/2 [==============================] - 0s 113ms/step - loss: 0.0236\n",
            "Epoch 164/200\n",
            "2/2 [==============================] - 0s 95ms/step - loss: 0.0262\n",
            "Epoch 165/200\n",
            "2/2 [==============================] - 0s 101ms/step - loss: 0.0240\n",
            "Epoch 166/200\n",
            "2/2 [==============================] - 0s 109ms/step - loss: 0.0230\n",
            "Epoch 167/200\n",
            "2/2 [==============================] - 0s 97ms/step - loss: 0.0237\n",
            "Epoch 168/200\n",
            "2/2 [==============================] - 0s 99ms/step - loss: 0.0237\n",
            "Epoch 169/200\n",
            "2/2 [==============================] - 0s 102ms/step - loss: 0.0208\n",
            "Epoch 170/200\n",
            "2/2 [==============================] - 0s 106ms/step - loss: 0.0223\n",
            "Epoch 171/200\n",
            "2/2 [==============================] - 0s 96ms/step - loss: 0.0200\n",
            "Epoch 172/200\n",
            "2/2 [==============================] - 0s 113ms/step - loss: 0.0244\n",
            "Epoch 173/200\n",
            "2/2 [==============================] - 0s 102ms/step - loss: 0.0209\n",
            "Epoch 174/200\n",
            "2/2 [==============================] - 0s 103ms/step - loss: 0.0223\n",
            "Epoch 175/200\n",
            "2/2 [==============================] - 0s 111ms/step - loss: 0.0202\n",
            "Epoch 176/200\n",
            "2/2 [==============================] - 0s 98ms/step - loss: 0.0242\n",
            "Epoch 177/200\n",
            "2/2 [==============================] - 0s 96ms/step - loss: 0.0228\n",
            "Epoch 178/200\n",
            "2/2 [==============================] - 0s 104ms/step - loss: 0.0215\n",
            "Epoch 179/200\n",
            "2/2 [==============================] - 0s 106ms/step - loss: 0.0234\n",
            "Epoch 180/200\n",
            "2/2 [==============================] - 0s 92ms/step - loss: 0.0216\n",
            "Epoch 181/200\n",
            "2/2 [==============================] - 0s 109ms/step - loss: 0.0217\n",
            "Epoch 182/200\n",
            "2/2 [==============================] - 0s 96ms/step - loss: 0.0254\n",
            "Epoch 183/200\n",
            "2/2 [==============================] - 0s 94ms/step - loss: 0.0221\n",
            "Epoch 184/200\n",
            "2/2 [==============================] - 0s 96ms/step - loss: 0.0227\n",
            "Epoch 185/200\n",
            "2/2 [==============================] - 0s 99ms/step - loss: 0.0235\n",
            "Epoch 186/200\n",
            "2/2 [==============================] - 0s 112ms/step - loss: 0.0197\n",
            "Epoch 187/200\n",
            "2/2 [==============================] - 0s 105ms/step - loss: 0.0272\n",
            "Epoch 188/200\n",
            "2/2 [==============================] - 0s 101ms/step - loss: 0.0245\n",
            "Epoch 189/200\n",
            "2/2 [==============================] - 0s 100ms/step - loss: 0.0202\n",
            "Epoch 190/200\n",
            "2/2 [==============================] - 0s 107ms/step - loss: 0.0190\n",
            "Epoch 191/200\n",
            "2/2 [==============================] - 0s 104ms/step - loss: 0.0233\n",
            "Epoch 192/200\n",
            "2/2 [==============================] - 0s 111ms/step - loss: 0.0191\n",
            "Epoch 193/200\n",
            "2/2 [==============================] - 0s 100ms/step - loss: 0.0206\n",
            "Epoch 194/200\n",
            "2/2 [==============================] - 0s 100ms/step - loss: 0.0203\n",
            "Epoch 195/200\n",
            "2/2 [==============================] - 0s 122ms/step - loss: 0.0213\n",
            "Epoch 196/200\n",
            "2/2 [==============================] - 0s 104ms/step - loss: 0.0229\n",
            "Epoch 197/200\n",
            "2/2 [==============================] - 0s 106ms/step - loss: 0.0205\n",
            "Epoch 198/200\n",
            "2/2 [==============================] - 0s 99ms/step - loss: 0.0192\n",
            "Epoch 199/200\n",
            "2/2 [==============================] - 0s 99ms/step - loss: 0.0227\n",
            "Epoch 200/200\n",
            "2/2 [==============================] - 0s 98ms/step - loss: 0.0224\n"
          ]
        },
        {
          "output_type": "execute_result",
          "data": {
            "text/plain": [
              "<keras.callbacks.History at 0x7fa3f8c0b990>"
            ]
          },
          "metadata": {},
          "execution_count": 360
        }
      ]
    },
    {
      "cell_type": "code",
      "source": [
        "print(len(data_test))\n",
        "data_total=pd.concat((data_train['capacity'], data_test['capacity']),axis=0)\n",
        "inputs=data_total[len(data_total)-len(data_test)-10:].values\n",
        "inputs=inputs.reshape(-1,1)\n",
        "inputs=sc.transform(inputs)"
      ],
      "metadata": {
        "id": "SHlnjFBPrwOR",
        "outputId": "d9c36b2a-6c00-4841-c128-9ae37a97cc2d",
        "colab": {
          "base_uri": "https://localhost:8080/"
        }
      },
      "execution_count": 361,
      "outputs": [
        {
          "output_type": "stream",
          "name": "stdout",
          "text": [
            "119\n"
          ]
        }
      ]
    },
    {
      "cell_type": "code",
      "source": [
        "X_test=[]\n",
        "for i in range(10,129):\n",
        "    X_test.append(inputs[i-10:i,0])\n",
        "X_test=np.array(X_test)\n",
        "X_test=np.reshape(X_test,(X_test.shape[0],X_test.shape[1],1))\n",
        "pred=regress.predict(X_test)\n",
        "print(pred.shape)\n",
        "pred=sc.inverse_transform(pred)\n",
        "pred=pred[:,0]\n",
        "tests=data_test.iloc[:,1:2]\n",
        "rmse = np.sqrt(mean_squared_error(tests, pred))\n",
        "print('Test RMSE: %.3f' % rmse)\n",
        "metrics.r2_score(tests,pred)"
      ],
      "metadata": {
        "id": "2fspYuNJr0Ra",
        "outputId": "50013a4e-232c-409d-f4c9-011f6b0b0882",
        "colab": {
          "base_uri": "https://localhost:8080/"
        }
      },
      "execution_count": 362,
      "outputs": [
        {
          "output_type": "stream",
          "name": "stdout",
          "text": [
            "(119, 1)\n",
            "Test RMSE: 0.053\n"
          ]
        },
        {
          "output_type": "execute_result",
          "data": {
            "text/plain": [
              "0.7559520579723543"
            ]
          },
          "metadata": {},
          "execution_count": 362
        }
      ]
    },
    {
      "cell_type": "code",
      "source": [
        "\n",
        "ln = len(data_train)\n",
        "data_test['pre']=pred\n",
        "plot_df = dataset.loc[(dataset['cycle']>=1),['cycle','capacity']]\n",
        "plot_per = data_test.loc[(data_test['cycle']>=ln),['cycle','pre']]\n",
        "plt.figure(figsize=(16, 10))\n",
        "plt.plot(plot_df['cycle'], plot_df['capacity'], label=\"Actual data\", color='blue')\n",
        "plt.plot(plot_per['cycle'],plot_per['pre'],label=\"Prediction data\", color='red')\n",
        "#Draw threshold\n",
        "plt.plot([0.,168], [1.38, 1.38],dashes=[6, 2], label=\"treshold\")\n",
        "plt.ylabel('Capacity')\n",
        "# make x-axis ticks legible\n",
        "adf = plt.gca().get_xaxis().get_major_formatter()\n",
        "plt.xlabel('cycle')\n",
        "plt.legend()\n",
        "plt.title('Discharge B0007 (prediction) start in cycle 50 -RULe=-8, window-size=10')"
      ],
      "metadata": {
        "id": "ejrvqp6Sr3uA",
        "outputId": "fdbc968e-da35-432b-82e4-1c921bf00b1f",
        "colab": {
          "base_uri": "https://localhost:8080/",
          "height": 749
        }
      },
      "execution_count": 363,
      "outputs": [
        {
          "output_type": "stream",
          "name": "stderr",
          "text": [
            "/usr/local/lib/python3.7/dist-packages/ipykernel_launcher.py:3: SettingWithCopyWarning: \n",
            "A value is trying to be set on a copy of a slice from a DataFrame.\n",
            "Try using .loc[row_indexer,col_indexer] = value instead\n",
            "\n",
            "See the caveats in the documentation: https://pandas.pydata.org/pandas-docs/stable/user_guide/indexing.html#returning-a-view-versus-a-copy\n",
            "  This is separate from the ipykernel package so we can avoid doing imports until\n"
          ]
        },
        {
          "output_type": "execute_result",
          "data": {
            "text/plain": [
              "Text(0.5, 1.0, 'Discharge B0007 (prediction) start in cycle 50 -RULe=-8, window-size=10')"
            ]
          },
          "metadata": {},
          "execution_count": 363
        },
        {
          "output_type": "display_data",
          "data": {
            "text/plain": [
              "<Figure size 1152x720 with 1 Axes>"
            ],
            "image/png": "[encoded data removed]"
          },
          "metadata": {}
        }
      ]
    },
    {
      "cell_type": "code",
      "source": [
        "pred=0\n",
        "Afil=0\n",
        "Pfil=0\n",
        "a=data_test['capacity'].values\n",
        "b=data_test['pre'].values\n",
        "j=0\n",
        "k=0\n",
        "for i in range(len(a)):\n",
        "    actual=a[i]\n",
        "    \n",
        "    if actual<=1.38:\n",
        "        j=i\n",
        "        Afil=j\n",
        "        break\n",
        "for i in range(len(a)):\n",
        "    pred=b[i]\n",
        "    if pred< 1.38:\n",
        "        k=i\n",
        "        Pfil=k\n",
        "        break\n",
        "print(\"The Actual fail at cycle number: \"+ str(Afil+ln))\n",
        "print(\"The prediction fail at cycle number: \"+ str(Pfil+ln))\n",
        "RULerror=Pfil-Afil\n",
        "print(\"The error of RUL= \"+ str(RULerror)+ \" Cycle(s)\")"
      ],
      "metadata": {
        "id": "67DCC3Lfr8Gu",
        "outputId": "8d719e93-90fa-4bc4-a426-66531dedf6cc",
        "colab": {
          "base_uri": "https://localhost:8080/"
        }
      },
      "execution_count": 364,
      "outputs": [
        {
          "output_type": "stream",
          "name": "stdout",
          "text": [
            "The Actual fail at cycle number: 49\n",
            "The prediction fail at cycle number: 49\n",
            "The error of RUL= 0 Cycle(s)\n"
          ]
        }
      ]
    },
    {
      "cell_type": "code",
      "source": [
        ""
      ],
      "metadata": {
        "id": "jBu3l_AcueMD"
      },
      "execution_count": 364,
      "outputs": []
    }
  ]
}