{
  "nbformat": 4,
  "nbformat_minor": 0,
  "metadata": {
    "colab": {
      "name": "Untitled41.ipynb",
      "provenance": [],
      "collapsed_sections": [],
      "authorship_tag": "ABX9TyOhDfK2w3WOSJMbzIWg9uEC",
      "include_colab_link": true
    },
    "kernelspec": {
      "name": "python3",
      "display_name": "Python 3"
    },
    "language_info": {
      "name": "python"
    }
  },
  "cells": [
    {
      "cell_type": "markdown",
      "metadata": {
        "id": "view-in-github",
        "colab_type": "text"
      },
      "source": [
        "<a href=\"https://colab.research.google.com/github/Ansalnakhan/TSA/blob/main/project%207%20B0006%20FINAL.ipynb\" target=\"_parent\"><img src=\"https://colab.research.google.com/assets/colab-badge.svg\" alt=\"Open In Colab\"/></a>"
      ]
    },
    {
      "cell_type": "code",
      "execution_count": 214,
      "metadata": {
        "colab": {
          "base_uri": "https://localhost:8080/"
        },
        "id": "McbdgQooJD-C",
        "outputId": "67d0150f-460c-4cde-a294-ac58da43b6f3"
      },
      "outputs": [
        {
          "output_type": "stream",
          "name": "stderr",
          "text": [
            "/usr/local/lib/python3.7/dist-packages/ipykernel_launcher.py:1: UserWarning: Config option `use_jedi` not recognized by `IPCompleter`.\n",
            "  \"\"\"Entry point for launching an IPython kernel.\n"
          ]
        }
      ],
      "source": [
        "%config Completer.use_jedi = False"
      ]
    },
    {
      "cell_type": "code",
      "source": [
        "%matplotlib inline\n",
        "!pip show tensorflow\n",
        "!wget -cq https://ti.arc.nasa.gov/c/5 -O naza.zip\n",
        "!unzip -qqo naza.zip -d battery_data"
      ],
      "metadata": {
        "colab": {
          "base_uri": "https://localhost:8080/"
        },
        "id": "04G9Li1GJguR",
        "outputId": "1bbb744e-7353-4571-b7cb-4c46d51c8b04"
      },
      "execution_count": 216,
      "outputs": [
        {
          "output_type": "stream",
          "name": "stdout",
          "text": [
            "Name: tensorflow\n",
            "Version: 2.8.2+zzzcolab20220527125636\n",
            "Summary: TensorFlow is an open source machine learning framework for everyone.\n",
            "Home-page: https://www.tensorflow.org/\n",
            "Author: Google Inc.\n",
            "Author-email: packages@tensorflow.org\n",
            "License: Apache 2.0\n",
            "Location: /usr/local/lib/python3.7/dist-packages\n",
            "Requires: absl-py, tensorflow-io-gcs-filesystem, astunparse, protobuf, typing-extensions, grpcio, flatbuffers, gast, keras-preprocessing, opt-einsum, numpy, wrapt, tensorflow-estimator, libclang, keras, setuptools, google-pasta, six, termcolor, tensorboard, h5py\n",
            "Required-by: kapre\n",
            "[naza.zip]\n",
            "  End-of-central-directory signature not found.  Either this file is not\n",
            "  a zipfile, or it constitutes one disk of a multi-part archive.  In the\n",
            "  latter case the central directory and zipfile comment will be found on\n",
            "  the last disk(s) of this archive.\n",
            "unzip:  cannot find zipfile directory in one of naza.zip or\n",
            "        naza.zip.zip, and cannot find naza.zip.ZIP, period.\n"
          ]
        }
      ]
    },
    {
      "cell_type": "code",
      "source": [
        "import datetime\n",
        "import numpy as np\n",
        "import pandas as pd\n",
        "from scipy.io import loadmat\n",
        "from sklearn.preprocessing import MinMaxScaler\n",
        "from sklearn.metrics import mean_squared_error\n",
        "from sklearn import metrics\n",
        "import matplotlib.pyplot as plt\n",
        "import seaborn as sns"
      ],
      "metadata": {
        "id": "cwQaAW7ZJluj"
      },
      "execution_count": 217,
      "outputs": []
    },
    {
      "cell_type": "code",
      "source": [
        "def load_data(battery):\n",
        "  mat = loadmat('/content/data/' + battery + '.mat')\n",
        "  print('Total data in dataset: ', len(mat[battery][0, 0]['cycle'][0]))\n",
        "  counter = 0\n",
        "  dataset = []\n",
        "  capacity_data = []\n",
        "  \n",
        "  for i in range(len(mat[battery][0, 0]['cycle'][0])):\n",
        "    row = mat[battery][0, 0]['cycle'][0, i]\n",
        "    if row['type'][0] == 'discharge':\n",
        "      ambient_temperature = row['ambient_temperature'][0][0]\n",
        "      date_time = datetime.datetime(int(row['time'][0][0]),\n",
        "                               int(row['time'][0][1]),\n",
        "                               int(row['time'][0][2]),\n",
        "                               int(row['time'][0][3]),\n",
        "                               int(row['time'][0][4])) + datetime.timedelta(seconds=int(row['time'][0][5]))\n",
        "      data = row['data']\n",
        "      capacity = data[0][0]['Capacity'][0][0]\n",
        "      for j in range(len(data[0][0]['Voltage_measured'][0])):\n",
        "        voltage_measured = data[0][0]['Voltage_measured'][0][j]\n",
        "        current_measured = data[0][0]['Current_measured'][0][j]\n",
        "        temperature_measured = data[0][0]['Temperature_measured'][0][j]\n",
        "        current_load = data[0][0]['Current_load'][0][j]\n",
        "        voltage_load = data[0][0]['Voltage_load'][0][j]\n",
        "        time = data[0][0]['Time'][0][j]\n",
        "        dataset.append([counter + 1, ambient_temperature, date_time, capacity,\n",
        "                        voltage_measured, current_measured,\n",
        "                        temperature_measured, current_load,\n",
        "                        voltage_load, time])\n",
        "      capacity_data.append([counter + 1, ambient_temperature, date_time, capacity])\n",
        "      counter = counter + 1\n",
        "  print(dataset[0])\n",
        "  return [pd.DataFrame(data=dataset,\n",
        "                       columns=['cycle', 'ambient_temperature', 'datetime',\n",
        "                                'capacity', 'voltage_measured',\n",
        "                                'current_measured', 'temperature_measured',\n",
        "                                'current_load', 'voltage_load', 'time']),\n",
        "          pd.DataFrame(data=capacity_data,\n",
        "                       columns=['cycle', 'ambient_temperature', 'datetime',\n",
        "                                'capacity'])]\n",
        "dataset, capacity = load_data('B0006')\n",
        "pd.set_option('display.max_columns', 10)\n",
        "print(dataset.head())\n",
        "dataset.describe()\n"
      ],
      "metadata": {
        "colab": {
          "base_uri": "https://localhost:8080/",
          "height": 574
        },
        "id": "tzEIqbsrJsyT",
        "outputId": "40cd7d5c-ccef-4381-e7d3-df4652b10cee"
      },
      "execution_count": 218,
      "outputs": [
        {
          "output_type": "stream",
          "name": "stdout",
          "text": [
            "Total data in dataset:  616\n",
            "[1, 24, datetime.datetime(2008, 4, 2, 15, 25, 41), 2.035337591005598, 4.179799607333447, -0.0023663271409738672, 24.277567510331888, -0.0006, 0.0, 0.0]\n",
            "   cycle  ambient_temperature            datetime  capacity  voltage_measured  \\\n",
            "0      1                   24 2008-04-02 15:25:41  2.035338          4.179800   \n",
            "1      1                   24 2008-04-02 15:25:41  2.035338          4.179823   \n",
            "2      1                   24 2008-04-02 15:25:41  2.035338          3.966528   \n",
            "3      1                   24 2008-04-02 15:25:41  2.035338          3.945886   \n",
            "4      1                   24 2008-04-02 15:25:41  2.035338          3.930354   \n",
            "\n",
            "   current_measured  temperature_measured  current_load  voltage_load    time  \n",
            "0         -0.002366             24.277568       -0.0006         0.000   0.000  \n",
            "1          0.000434             24.277073       -0.0006         4.195  16.781  \n",
            "2         -2.014242             24.366226       -1.9990         3.070  35.703  \n",
            "3         -2.008730             24.515123       -1.9990         3.045  53.781  \n",
            "4         -2.013381             24.676053       -1.9990         3.026  71.922  \n"
          ]
        },
        {
          "output_type": "execute_result",
          "data": {
            "text/plain": [
              "              cycle  ambient_temperature      capacity  voltage_measured  \\\n",
              "count  50285.000000              50285.0  50285.000000      50285.000000   \n",
              "mean      88.125942                 24.0      1.524719          3.457464   \n",
              "std       45.699687                  0.0      0.233458          0.249892   \n",
              "min        1.000000                 24.0      1.153818          2.120698   \n",
              "25%       50.000000                 24.0      1.347410          3.321433   \n",
              "50%       88.000000                 24.0      1.473215          3.466565   \n",
              "75%      127.000000                 24.0      1.729207          3.621686   \n",
              "max      168.000000                 24.0      2.035338          4.222516   \n",
              "\n",
              "       current_measured  temperature_measured  current_load  voltage_load  \\\n",
              "count      50285.000000          50285.000000  50285.000000  50285.000000   \n",
              "mean          -1.773513             32.844374      1.306434      2.262837   \n",
              "std            0.647669              4.143796      1.348294      0.851166   \n",
              "min           -2.027018             23.201272     -1.999200      0.000000   \n",
              "25%           -2.011178             29.653775      1.998800      2.330000   \n",
              "50%           -2.010095             32.940629      1.999000      2.525000   \n",
              "75%           -2.008816             36.092889      1.999000      2.693000   \n",
              "max            0.008809             42.007540      1.999200      4.238000   \n",
              "\n",
              "               time  \n",
              "count  50285.000000  \n",
              "mean    1546.208924  \n",
              "std      906.640295  \n",
              "min        0.000000  \n",
              "25%      768.563000  \n",
              "50%     1537.031000  \n",
              "75%     2305.984000  \n",
              "max     3690.234000  "
            ],
            "text/html": [
              "\n",
              "  <div id=\"df-72f14214-99b0-4780-8d69-faa26f08f1d3\">\n",
              "    <div class=\"colab-df-container\">\n",
              "      <div>\n",
              "<style scoped>\n",
              "    .dataframe tbody tr th:only-of-type {\n",
              "        vertical-align: middle;\n",
              "    }\n",
              "\n",
              "    .dataframe tbody tr th {\n",
              "        vertical-align: top;\n",
              "    }\n",
              "\n",
              "    .dataframe thead th {\n",
              "        text-align: right;\n",
              "    }\n",
              "</style>\n",
              "<table border=\"1\" class=\"dataframe\">\n",
              "  <thead>\n",
              "    <tr style=\"text-align: right;\">\n",
              "      <th></th>\n",
              "      <th>cycle</th>\n",
              "      <th>ambient_temperature</th>\n",
              "      <th>capacity</th>\n",
              "      <th>voltage_measured</th>\n",
              "      <th>current_measured</th>\n",
              "      <th>temperature_measured</th>\n",
              "      <th>current_load</th>\n",
              "      <th>voltage_load</th>\n",
              "      <th>time</th>\n",
              "    </tr>\n",
              "  </thead>\n",
              "  <tbody>\n",
              "    <tr>\n",
              "      <th>count</th>\n",
              "      <td>50285.000000</td>\n",
              "      <td>50285.0</td>\n",
              "      <td>50285.000000</td>\n",
              "      <td>50285.000000</td>\n",
              "      <td>50285.000000</td>\n",
              "      <td>50285.000000</td>\n",
              "      <td>50285.000000</td>\n",
              "      <td>50285.000000</td>\n",
              "      <td>50285.000000</td>\n",
              "    </tr>\n",
              "    <tr>\n",
              "      <th>mean</th>\n",
              "      <td>88.125942</td>\n",
              "      <td>24.0</td>\n",
              "      <td>1.524719</td>\n",
              "      <td>3.457464</td>\n",
              "      <td>-1.773513</td>\n",
              "      <td>32.844374</td>\n",
              "      <td>1.306434</td>\n",
              "      <td>2.262837</td>\n",
              "      <td>1546.208924</td>\n",
              "    </tr>\n",
              "    <tr>\n",
              "      <th>std</th>\n",
              "      <td>45.699687</td>\n",
              "      <td>0.0</td>\n",
              "      <td>0.233458</td>\n",
              "      <td>0.249892</td>\n",
              "      <td>0.647669</td>\n",
              "      <td>4.143796</td>\n",
              "      <td>1.348294</td>\n",
              "      <td>0.851166</td>\n",
              "      <td>906.640295</td>\n",
              "    </tr>\n",
              "    <tr>\n",
              "      <th>min</th>\n",
              "      <td>1.000000</td>\n",
              "      <td>24.0</td>\n",
              "      <td>1.153818</td>\n",
              "      <td>2.120698</td>\n",
              "      <td>-2.027018</td>\n",
              "      <td>23.201272</td>\n",
              "      <td>-1.999200</td>\n",
              "      <td>0.000000</td>\n",
              "      <td>0.000000</td>\n",
              "    </tr>\n",
              "    <tr>\n",
              "      <th>25%</th>\n",
              "      <td>50.000000</td>\n",
              "      <td>24.0</td>\n",
              "      <td>1.347410</td>\n",
              "      <td>3.321433</td>\n",
              "      <td>-2.011178</td>\n",
              "      <td>29.653775</td>\n",
              "      <td>1.998800</td>\n",
              "      <td>2.330000</td>\n",
              "      <td>768.563000</td>\n",
              "    </tr>\n",
              "    <tr>\n",
              "      <th>50%</th>\n",
              "      <td>88.000000</td>\n",
              "      <td>24.0</td>\n",
              "      <td>1.473215</td>\n",
              "      <td>3.466565</td>\n",
              "      <td>-2.010095</td>\n",
              "      <td>32.940629</td>\n",
              "      <td>1.999000</td>\n",
              "      <td>2.525000</td>\n",
              "      <td>1537.031000</td>\n",
              "    </tr>\n",
              "    <tr>\n",
              "      <th>75%</th>\n",
              "      <td>127.000000</td>\n",
              "      <td>24.0</td>\n",
              "      <td>1.729207</td>\n",
              "      <td>3.621686</td>\n",
              "      <td>-2.008816</td>\n",
              "      <td>36.092889</td>\n",
              "      <td>1.999000</td>\n",
              "      <td>2.693000</td>\n",
              "      <td>2305.984000</td>\n",
              "    </tr>\n",
              "    <tr>\n",
              "      <th>max</th>\n",
              "      <td>168.000000</td>\n",
              "      <td>24.0</td>\n",
              "      <td>2.035338</td>\n",
              "      <td>4.222516</td>\n",
              "      <td>0.008809</td>\n",
              "      <td>42.007540</td>\n",
              "      <td>1.999200</td>\n",
              "      <td>4.238000</td>\n",
              "      <td>3690.234000</td>\n",
              "    </tr>\n",
              "  </tbody>\n",
              "</table>\n",
              "</div>\n",
              "      <button class=\"colab-df-convert\" onclick=\"convertToInteractive('df-72f14214-99b0-4780-8d69-faa26f08f1d3')\"\n",
              "              title=\"Convert this dataframe to an interactive table.\"\n",
              "              style=\"display:none;\">\n",
              "        \n",
              "  <svg xmlns=\"http://www.w3.org/2000/svg\" height=\"24px\"viewBox=\"0 0 24 24\"\n",
              "       width=\"24px\">\n",
              "    <path d=\"M0 0h24v24H0V0z\" fill=\"none\"/>\n",
              "    <path d=\"M18.56 5.44l.94 2.06.94-2.06 2.06-.94-2.06-.94-.94-2.06-.94 2.06-2.06.94zm-11 1L8.5 8.5l.94-2.06 2.06-.94-2.06-.94L8.5 2.5l-.94 2.06-2.06.94zm10 10l.94 2.06.94-2.06 2.06-.94-2.06-.94-.94-2.06-.94 2.06-2.06.94z\"/><path d=\"M17.41 7.96l-1.37-1.37c-.4-.4-.92-.59-1.43-.59-.52 0-1.04.2-1.43.59L10.3 9.45l-7.72 7.72c-.78.78-.78 2.05 0 2.83L4 21.41c.39.39.9.59 1.41.59.51 0 1.02-.2 1.41-.59l7.78-7.78 2.81-2.81c.8-.78.8-2.07 0-2.86zM5.41 20L4 18.59l7.72-7.72 1.47 1.35L5.41 20z\"/>\n",
              "  </svg>\n",
              "      </button>\n",
              "      \n",
              "  <style>\n",
              "    .colab-df-container {\n",
              "      display:flex;\n",
              "      flex-wrap:wrap;\n",
              "      gap: 12px;\n",
              "    }\n",
              "\n",
              "    .colab-df-convert {\n",
              "      background-color: #E8F0FE;\n",
              "      border: none;\n",
              "      border-radius: 50%;\n",
              "      cursor: pointer;\n",
              "      display: none;\n",
              "      fill: #1967D2;\n",
              "      height: 32px;\n",
              "      padding: 0 0 0 0;\n",
              "      width: 32px;\n",
              "    }\n",
              "\n",
              "    .colab-df-convert:hover {\n",
              "      background-color: #E2EBFA;\n",
              "      box-shadow: 0px 1px 2px rgba(60, 64, 67, 0.3), 0px 1px 3px 1px rgba(60, 64, 67, 0.15);\n",
              "      fill: #174EA6;\n",
              "    }\n",
              "\n",
              "    [theme=dark] .colab-df-convert {\n",
              "      background-color: #3B4455;\n",
              "      fill: #D2E3FC;\n",
              "    }\n",
              "\n",
              "    [theme=dark] .colab-df-convert:hover {\n",
              "      background-color: #434B5C;\n",
              "      box-shadow: 0px 1px 3px 1px rgba(0, 0, 0, 0.15);\n",
              "      filter: drop-shadow(0px 1px 2px rgba(0, 0, 0, 0.3));\n",
              "      fill: #FFFFFF;\n",
              "    }\n",
              "  </style>\n",
              "\n",
              "      <script>\n",
              "        const buttonEl =\n",
              "          document.querySelector('#df-72f14214-99b0-4780-8d69-faa26f08f1d3 button.colab-df-convert');\n",
              "        buttonEl.style.display =\n",
              "          google.colab.kernel.accessAllowed ? 'block' : 'none';\n",
              "\n",
              "        async function convertToInteractive(key) {\n",
              "          const element = document.querySelector('#df-72f14214-99b0-4780-8d69-faa26f08f1d3');\n",
              "          const dataTable =\n",
              "            await google.colab.kernel.invokeFunction('convertToInteractive',\n",
              "                                                     [key], {});\n",
              "          if (!dataTable) return;\n",
              "\n",
              "          const docLinkHtml = 'Like what you see? Visit the ' +\n",
              "            '<a target=\"_blank\" href=https://colab.research.google.com/notebooks/data_table.ipynb>data table notebook</a>'\n",
              "            + ' to learn more about interactive tables.';\n",
              "          element.innerHTML = '';\n",
              "          dataTable['output_type'] = 'display_data';\n",
              "          await google.colab.output.renderOutput(dataTable, element);\n",
              "          const docLink = document.createElement('div');\n",
              "          docLink.innerHTML = docLinkHtml;\n",
              "          element.appendChild(docLink);\n",
              "        }\n",
              "      </script>\n",
              "    </div>\n",
              "  </div>\n",
              "  "
            ]
          },
          "metadata": {},
          "execution_count": 218
        }
      ]
    },
    {
      "cell_type": "code",
      "source": [
        "plot_df = capacity.loc[(capacity['cycle']>=1),['cycle','capacity']]\n",
        "sns.set_style(\"darkgrid\")\n",
        "plt.figure(figsize=(12, 8))\n",
        "plt.plot(plot_df['cycle'], plot_df['capacity'])\n",
        "#Draw threshold\n",
        "plt.plot([0.,len(capacity)], [1.4, 1.4])\n",
        "plt.ylabel('Capacity')\n",
        "# make x-axis ticks legible\n",
        "adf = plt.gca().get_xaxis().get_major_formatter()\n",
        "plt.xlabel('cycle')\n",
        "plt.title('Discharge B0006')"
      ],
      "metadata": {
        "colab": {
          "base_uri": "https://localhost:8080/",
          "height": 531
        },
        "id": "ZlCpde8KKaYk",
        "outputId": "8cbfa020-b3ed-42a2-cee2-3114c4d0b13b"
      },
      "execution_count": 219,
      "outputs": [
        {
          "output_type": "execute_result",
          "data": {
            "text/plain": [
              "Text(0.5, 1.0, 'Discharge B0006')"
            ]
          },
          "metadata": {},
          "execution_count": 219
        },
        {
          "output_type": "display_data",
          "data": {
            "text/plain": [
              "<Figure size 864x576 with 1 Axes>"
            ],
            "image/png": "[encoded data removed]"
          },
          "metadata": {}
        }
      ]
    },
    {
      "cell_type": "code",
      "source": [
        "attrib=['cycle', 'datetime', 'capacity']\n",
        "dis_ele = capacity[attrib]\n",
        "C = dis_ele['capacity'][0]\n",
        "for i in range(len(dis_ele)):\n",
        "    dis_ele['SoH']=(dis_ele['capacity'])/C\n",
        "print(dis_ele.head(5))"
      ],
      "metadata": {
        "colab": {
          "base_uri": "https://localhost:8080/"
        },
        "id": "lK4fjzLyKeZ_",
        "outputId": "3b42e9c2-0e37-441c-fcfc-3f47b79bbdb8"
      },
      "execution_count": 220,
      "outputs": [
        {
          "output_type": "stream",
          "name": "stdout",
          "text": [
            "   cycle            datetime  capacity       SoH\n",
            "0      1 2008-04-02 15:25:41  2.035338  1.000000\n",
            "1      2 2008-04-02 19:43:48  2.025140  0.994990\n",
            "2      3 2008-04-03 00:01:06  2.013326  0.989185\n",
            "3      4 2008-04-03 04:16:37  2.013285  0.989165\n",
            "4      5 2008-04-03 08:33:25  2.000528  0.982898\n"
          ]
        }
      ]
    },
    {
      "cell_type": "code",
      "source": [
        "plot_df = dis_ele.loc[(dis_ele['cycle']>=1),['cycle','SoH']]\n",
        "sns.set_style(\"white\")\n",
        "plt.figure(figsize=(8, 5))\n",
        "plt.plot(plot_df['cycle'], plot_df['SoH'])\n",
        "#Draw threshold\n",
        "plt.plot([0.,len(capacity)], [0.70, 0.70])\n",
        "plt.ylabel('SOH')\n",
        "# make x-axis ticks legible\n",
        "adf = plt.gca().get_xaxis().get_major_formatter()\n",
        "plt.xlabel('cycle')\n",
        "plt.title('Discharge B0006')"
      ],
      "metadata": {
        "colab": {
          "base_uri": "https://localhost:8080/",
          "height": 368
        },
        "id": "biiKuFJFKjOE",
        "outputId": "aa67fb49-a6c4-4b7a-b821-3ec278677187"
      },
      "execution_count": 221,
      "outputs": [
        {
          "output_type": "execute_result",
          "data": {
            "text/plain": [
              "Text(0.5, 1.0, 'Discharge B0006')"
            ]
          },
          "metadata": {},
          "execution_count": 221
        },
        {
          "output_type": "display_data",
          "data": {
            "text/plain": [
              "<Figure size 576x360 with 1 Axes>"
            ],
            "image/png": "[encoded data removed]"
          },
          "metadata": {}
        }
      ]
    },
    {
      "cell_type": "code",
      "source": [
        "C = dataset['capacity'][0]\n",
        "soh = []\n",
        "for i in range(len(dataset)):\n",
        "  soh.append([dataset['capacity'][i] / C])\n",
        "soh = pd.DataFrame(data=soh, columns=['SoH'])\n",
        "\n",
        "attribs=['capacity', 'voltage_measured', 'current_measured',\n",
        "         'temperature_measured', 'current_load', 'voltage_load', 'time']\n",
        "train_dataset = dataset[attribs]\n",
        "sc = MinMaxScaler(feature_range=(0,1))\n",
        "train_dataset = sc.fit_transform(train_dataset)\n",
        "print(train_dataset.shape)\n",
        "print(soh.shape)"
      ],
      "metadata": {
        "colab": {
          "base_uri": "https://localhost:8080/"
        },
        "id": "gNOg-S9wKrSA",
        "outputId": "78a9c93e-13d9-497f-b195-6baf4862dc97"
      },
      "execution_count": 222,
      "outputs": [
        {
          "output_type": "stream",
          "name": "stdout",
          "text": [
            "(50285, 7)\n",
            "(50285, 1)\n"
          ]
        }
      ]
    },
    {
      "cell_type": "code",
      "source": [
        "import tensorflow as tf\n",
        "from tensorflow.keras.models import Sequential\n",
        "from tensorflow.keras.layers import Dense\n",
        "from tensorflow.keras.layers import Dropout\n",
        "from tensorflow.keras.layers import Flatten\n",
        "from tensorflow.keras.layers import LSTM\n",
        "from tensorflow.keras.optimizers import Adam"
      ],
      "metadata": {
        "id": "tE4efD6JLxkd"
      },
      "execution_count": 223,
      "outputs": []
    },
    {
      "cell_type": "code",
      "source": [
        "model = Sequential()\n",
        "model.add(Dense(8, activation='relu', input_dim=train_dataset.shape[1]))\n",
        "model.add(Dense(8, activation='relu'))\n",
        "model.add(Dense(8, activation='relu'))\n",
        "model.add(Dropout(rate=0.25))\n",
        "model.add(Dense(1))\n",
        "model.summary()\n",
        "model.compile(optimizer=Adam(beta_1=0.9, beta_2=0.999, epsilon=1e-08), loss='mean_absolute_error')"
      ],
      "metadata": {
        "colab": {
          "base_uri": "https://localhost:8080/"
        },
        "id": "pdBiGw6FL3zr",
        "outputId": "cf6dd688-7c1d-4014-b6e8-23845a19b57b"
      },
      "execution_count": 224,
      "outputs": [
        {
          "output_type": "stream",
          "name": "stdout",
          "text": [
            "Model: \"sequential_19\"\n",
            "_________________________________________________________________\n",
            " Layer (type)                Output Shape              Param #   \n",
            "=================================================================\n",
            " dense_46 (Dense)            (None, 8)                 64        \n",
            "                                                                 \n",
            " dense_47 (Dense)            (None, 8)                 72        \n",
            "                                                                 \n",
            " dense_48 (Dense)            (None, 8)                 72        \n",
            "                                                                 \n",
            " dropout_49 (Dropout)        (None, 8)                 0         \n",
            "                                                                 \n",
            " dense_49 (Dense)            (None, 1)                 9         \n",
            "                                                                 \n",
            "=================================================================\n",
            "Total params: 217\n",
            "Trainable params: 217\n",
            "Non-trainable params: 0\n",
            "_________________________________________________________________\n"
          ]
        }
      ]
    },
    {
      "cell_type": "code",
      "source": [
        "model.fit(x=train_dataset, y=soh.to_numpy(), batch_size=25, epochs=50)"
      ],
      "metadata": {
        "colab": {
          "base_uri": "https://localhost:8080/"
        },
        "id": "bJ_aPgdeZuMo",
        "outputId": "595e39c1-99b7-493f-cd33-c7252813c1d4"
      },
      "execution_count": 225,
      "outputs": [
        {
          "output_type": "stream",
          "name": "stdout",
          "text": [
            "Epoch 1/50\n",
            "2012/2012 [==============================] - 4s 2ms/step - loss: 0.0846\n",
            "Epoch 2/50\n",
            "2012/2012 [==============================] - 3s 2ms/step - loss: 0.0239\n",
            "Epoch 3/50\n",
            "2012/2012 [==============================] - 4s 2ms/step - loss: 0.0230\n",
            "Epoch 4/50\n",
            "2012/2012 [==============================] - 4s 2ms/step - loss: 0.0227\n",
            "Epoch 5/50\n",
            "2012/2012 [==============================] - 4s 2ms/step - loss: 0.0226\n",
            "Epoch 6/50\n",
            "2012/2012 [==============================] - 3s 2ms/step - loss: 0.0222\n",
            "Epoch 7/50\n",
            "2012/2012 [==============================] - 3s 2ms/step - loss: 0.0223\n",
            "Epoch 8/50\n",
            "2012/2012 [==============================] - 3s 2ms/step - loss: 0.0223\n",
            "Epoch 9/50\n",
            "2012/2012 [==============================] - 3s 2ms/step - loss: 0.0222\n",
            "Epoch 10/50\n",
            "2012/2012 [==============================] - 3s 2ms/step - loss: 0.0220\n",
            "Epoch 11/50\n",
            "2012/2012 [==============================] - 3s 2ms/step - loss: 0.0219\n",
            "Epoch 12/50\n",
            "2012/2012 [==============================] - 3s 2ms/step - loss: 0.0218\n",
            "Epoch 13/50\n",
            "2012/2012 [==============================] - 3s 2ms/step - loss: 0.0219\n",
            "Epoch 14/50\n",
            "2012/2012 [==============================] - 3s 2ms/step - loss: 0.0219\n",
            "Epoch 15/50\n",
            "2012/2012 [==============================] - 3s 2ms/step - loss: 0.0218\n",
            "Epoch 16/50\n",
            "2012/2012 [==============================] - 3s 2ms/step - loss: 0.0219\n",
            "Epoch 17/50\n",
            "2012/2012 [==============================] - 3s 2ms/step - loss: 0.0220\n",
            "Epoch 18/50\n",
            "2012/2012 [==============================] - 3s 2ms/step - loss: 0.0219\n",
            "Epoch 19/50\n",
            "2012/2012 [==============================] - 3s 2ms/step - loss: 0.0218\n",
            "Epoch 20/50\n",
            "2012/2012 [==============================] - 3s 2ms/step - loss: 0.0220\n",
            "Epoch 21/50\n",
            "2012/2012 [==============================] - 3s 2ms/step - loss: 0.0217\n",
            "Epoch 22/50\n",
            "2012/2012 [==============================] - 3s 2ms/step - loss: 0.0220\n",
            "Epoch 23/50\n",
            "2012/2012 [==============================] - 3s 2ms/step - loss: 0.0219\n",
            "Epoch 24/50\n",
            "2012/2012 [==============================] - 3s 2ms/step - loss: 0.0218\n",
            "Epoch 25/50\n",
            "2012/2012 [==============================] - 3s 2ms/step - loss: 0.0215\n",
            "Epoch 26/50\n",
            "2012/2012 [==============================] - 3s 2ms/step - loss: 0.0219\n",
            "Epoch 27/50\n",
            "2012/2012 [==============================] - 3s 2ms/step - loss: 0.0216\n",
            "Epoch 28/50\n",
            "2012/2012 [==============================] - 3s 2ms/step - loss: 0.0217\n",
            "Epoch 29/50\n",
            "2012/2012 [==============================] - 3s 2ms/step - loss: 0.0216\n",
            "Epoch 30/50\n",
            "2012/2012 [==============================] - 3s 2ms/step - loss: 0.0219\n",
            "Epoch 31/50\n",
            "2012/2012 [==============================] - 3s 2ms/step - loss: 0.0218\n",
            "Epoch 32/50\n",
            "2012/2012 [==============================] - 3s 2ms/step - loss: 0.0217\n",
            "Epoch 33/50\n",
            "2012/2012 [==============================] - 3s 2ms/step - loss: 0.0219\n",
            "Epoch 34/50\n",
            "2012/2012 [==============================] - 3s 2ms/step - loss: 0.0219\n",
            "Epoch 35/50\n",
            "2012/2012 [==============================] - 3s 2ms/step - loss: 0.0219\n",
            "Epoch 36/50\n",
            "2012/2012 [==============================] - 3s 2ms/step - loss: 0.0217\n",
            "Epoch 37/50\n",
            "2012/2012 [==============================] - 3s 2ms/step - loss: 0.0218\n",
            "Epoch 38/50\n",
            "2012/2012 [==============================] - 3s 2ms/step - loss: 0.0216\n",
            "Epoch 39/50\n",
            "2012/2012 [==============================] - 3s 2ms/step - loss: 0.0216\n",
            "Epoch 40/50\n",
            "2012/2012 [==============================] - 3s 2ms/step - loss: 0.0217\n",
            "Epoch 41/50\n",
            "2012/2012 [==============================] - 3s 2ms/step - loss: 0.0218\n",
            "Epoch 42/50\n",
            "2012/2012 [==============================] - 3s 2ms/step - loss: 0.0216\n",
            "Epoch 43/50\n",
            "2012/2012 [==============================] - 3s 2ms/step - loss: 0.0217\n",
            "Epoch 44/50\n",
            "2012/2012 [==============================] - 3s 2ms/step - loss: 0.0218\n",
            "Epoch 45/50\n",
            "2012/2012 [==============================] - 3s 2ms/step - loss: 0.0217\n",
            "Epoch 46/50\n",
            "2012/2012 [==============================] - 3s 2ms/step - loss: 0.0217\n",
            "Epoch 47/50\n",
            "2012/2012 [==============================] - 3s 2ms/step - loss: 0.0215\n",
            "Epoch 48/50\n",
            "2012/2012 [==============================] - 3s 2ms/step - loss: 0.0217\n",
            "Epoch 49/50\n",
            "2012/2012 [==============================] - 3s 2ms/step - loss: 0.0216\n",
            "Epoch 50/50\n",
            "2012/2012 [==============================] - 3s 2ms/step - loss: 0.0216\n"
          ]
        },
        {
          "output_type": "execute_result",
          "data": {
            "text/plain": [
              "<keras.callbacks.History at 0x7fa411665ad0>"
            ]
          },
          "metadata": {},
          "execution_count": 225
        }
      ]
    },
    {
      "cell_type": "code",
      "source": [
        "dataset_val, capacity_val = load_data('B0006')\n",
        "attrib=['cycle', 'datetime', 'capacity']\n",
        "dis_ele = capacity_val[attrib]\n",
        "C = dis_ele['capacity'][0]\n",
        "for i in range(len(dis_ele)):\n",
        "    dis_ele['SoH']=(dis_ele['capacity']) / C\n",
        "print(dataset_val.head(5))\n",
        "print(dis_ele.head(5))"
      ],
      "metadata": {
        "colab": {
          "base_uri": "https://localhost:8080/"
        },
        "id": "JLLcGcBhL-IO",
        "outputId": "876dc031-ae78-4fc5-9f28-96792008e728"
      },
      "execution_count": 227,
      "outputs": [
        {
          "output_type": "stream",
          "name": "stdout",
          "text": [
            "Total data in dataset:  616\n",
            "[1, 24, datetime.datetime(2008, 4, 2, 15, 25, 41), 2.035337591005598, 4.179799607333447, -0.0023663271409738672, 24.277567510331888, -0.0006, 0.0, 0.0]\n",
            "   cycle  ambient_temperature            datetime  capacity  voltage_measured  \\\n",
            "0      1                   24 2008-04-02 15:25:41  2.035338          4.179800   \n",
            "1      1                   24 2008-04-02 15:25:41  2.035338          4.179823   \n",
            "2      1                   24 2008-04-02 15:25:41  2.035338          3.966528   \n",
            "3      1                   24 2008-04-02 15:25:41  2.035338          3.945886   \n",
            "4      1                   24 2008-04-02 15:25:41  2.035338          3.930354   \n",
            "\n",
            "   current_measured  temperature_measured  current_load  voltage_load    time  \n",
            "0         -0.002366             24.277568       -0.0006         0.000   0.000  \n",
            "1          0.000434             24.277073       -0.0006         4.195  16.781  \n",
            "2         -2.014242             24.366226       -1.9990         3.070  35.703  \n",
            "3         -2.008730             24.515123       -1.9990         3.045  53.781  \n",
            "4         -2.013381             24.676053       -1.9990         3.026  71.922  \n",
            "   cycle            datetime  capacity       SoH\n",
            "0      1 2008-04-02 15:25:41  2.035338  1.000000\n",
            "1      2 2008-04-02 19:43:48  2.025140  0.994990\n",
            "2      3 2008-04-03 00:01:06  2.013326  0.989185\n",
            "3      4 2008-04-03 04:16:37  2.013285  0.989165\n",
            "4      5 2008-04-03 08:33:25  2.000528  0.982898\n"
          ]
        }
      ]
    },
    {
      "cell_type": "code",
      "source": [
        ""
      ],
      "metadata": {
        "id": "IXlRC4G1Zpvf"
      },
      "execution_count": 227,
      "outputs": []
    },
    {
      "cell_type": "code",
      "source": [
        "attrib=['capacity', 'voltage_measured', 'current_measured',\n",
        "        'temperature_measured', 'current_load', 'voltage_load', 'time']\n",
        "soh_pred = model.predict(sc.fit_transform(dataset_val[attrib]))\n",
        "print(soh_pred.shape)\n",
        "\n",
        "C = dataset_val['capacity'][0]\n",
        "soh = []\n",
        "for i in range(len(dataset_val)):\n",
        "  soh.append(dataset_val['capacity'][i] / C)\n",
        "new_soh = dataset_val.loc[(dataset_val['cycle'] >= 1), ['cycle']]\n",
        "new_soh['SoH'] =  soh\n",
        "new_soh['NewSoH'] = soh_pred\n",
        "new_soh = new_soh.groupby(['cycle']).mean().reset_index()\n",
        "print(new_soh.head(10))\n",
        "rms = np.sqrt(mean_squared_error(new_soh['SoH'], new_soh['NewSoH']))\n",
        "print('Root Mean Square Error: ', rms)"
      ],
      "metadata": {
        "colab": {
          "base_uri": "https://localhost:8080/"
        },
        "id": "-91WoM1DMaoG",
        "outputId": "0ea44c22-43b0-4e96-c57f-52b551e3d31f"
      },
      "execution_count": 228,
      "outputs": [
        {
          "output_type": "stream",
          "name": "stdout",
          "text": [
            "(50285, 1)\n",
            "   cycle       SoH    NewSoH\n",
            "0      1  1.000000  0.999485\n",
            "1      2  0.994990  0.994464\n",
            "2      3  0.989185  0.988677\n",
            "3      4  0.989165  0.988676\n",
            "4      5  0.982898  0.982350\n",
            "5      6  0.989467  0.988944\n",
            "6      7  0.989075  0.988532\n",
            "7      8  0.967304  0.966680\n",
            "8      9  0.966997  0.966389\n",
            "9     10  0.961625  0.960953\n",
            "Root Mean Square Error:  0.012078898192973725\n"
          ]
        }
      ]
    },
    {
      "cell_type": "code",
      "source": [
        ""
      ],
      "metadata": {
        "id": "Q0BOcdxfTnr_"
      },
      "execution_count": 228,
      "outputs": []
    },
    {
      "cell_type": "code",
      "source": [
        "plot_df = new_soh.loc[(new_soh['cycle']>=1),['cycle','SoH', 'NewSoH']]\n",
        "sns.set_style(\"white\")\n",
        "plt.figure(figsize=(16, 10))\n",
        "plt.plot(plot_df['cycle'], plot_df['SoH'], label='SoH')\n",
        "plt.plot(plot_df['cycle'], plot_df['NewSoH'], label='Predicted SoH')\n",
        "#Draw threshold\n",
        "#plt.plot([0.,len(capacity)], [0.70, 0.70], label='Threshold')\n",
        "plt.ylabel('SOH')\n",
        "# make x-axis ticks legible\n",
        "adf = plt.gca().get_xaxis().get_major_formatter()\n",
        "plt.xlabel('cycle')\n",
        "plt.legend()\n",
        "plt.title('Discharge B0006')"
      ],
      "metadata": {
        "id": "aiRUmM5BpxJH",
        "outputId": "cc76e076-1346-4819-90df-ffa6b3d0d675",
        "colab": {
          "base_uri": "https://localhost:8080/",
          "height": 639
        }
      },
      "execution_count": 229,
      "outputs": [
        {
          "output_type": "execute_result",
          "data": {
            "text/plain": [
              "Text(0.5, 1.0, 'Discharge B0006')"
            ]
          },
          "metadata": {},
          "execution_count": 229
        },
        {
          "output_type": "display_data",
          "data": {
            "text/plain": [
              "<Figure size 1152x720 with 1 Axes>"
            ],
            "image/png": "[encoded data removed]"
          },
          "metadata": {}
        }
      ]
    },
    {
      "cell_type": "code",
      "source": [
        "dataset_val, capacity_val = load_data('B0006')\n",
        "attrib=['cycle', 'datetime', 'capacity']\n",
        "dis_ele = capacity_val[attrib]\n",
        "rows=['cycle','capacity']\n",
        "dataset=dis_ele[rows]\n",
        "data_train=dataset[(dataset['cycle']<50)]\n",
        "data_set_train=data_train.iloc[:,1:2].values\n",
        "data_test=dataset[(dataset['cycle']>=50)]\n",
        "data_set_test=data_test.iloc[:,1:2].values\n",
        "\n",
        "sc=MinMaxScaler(feature_range=(0,1))\n",
        "data_set_train=sc.fit_transform(data_set_train)\n",
        "data_set_test=sc.transform(data_set_test)\n",
        "\n",
        "X_train=[]\n",
        "y_train=[]\n",
        "#take the last 10t to predict 10t+1\n",
        "for i in range(10,49):\n",
        "    X_train.append(data_set_train[i-10:i,0])\n",
        "    y_train.append(data_set_train[i,0])\n",
        "X_train,y_train=np.array(X_train),np.array(y_train)\n",
        " \n",
        "X_train=np.reshape(X_train,(X_train.shape[0],X_train.shape[1],1))"
      ],
      "metadata": {
        "id": "TSsKq2LCrkhq",
        "outputId": "92b4207e-a3e1-4a36-ca57-60fe011828de",
        "colab": {
          "base_uri": "https://localhost:8080/"
        }
      },
      "execution_count": 230,
      "outputs": [
        {
          "output_type": "stream",
          "name": "stdout",
          "text": [
            "Total data in dataset:  616\n",
            "[1, 24, datetime.datetime(2008, 4, 2, 15, 25, 41), 2.035337591005598, 4.179799607333447, -0.0023663271409738672, 24.277567510331888, -0.0006, 0.0, 0.0]\n"
          ]
        }
      ]
    },
    {
      "cell_type": "code",
      "source": [
        "regress = Sequential()\n",
        "regress.add(LSTM(units=200, return_sequences=True, input_shape=(X_train.shape[1],1)))\n",
        "regress.add(Dropout(0.3))\n",
        "regress.add(LSTM(units=200, return_sequences=True))\n",
        "regress.add(Dropout(0.3))\n",
        "regress.add(LSTM(units=200, return_sequences=True))\n",
        "regress.add(Dropout(0.3))\n",
        "regress.add(LSTM(units=200))\n",
        "regress.add(Dropout(0.3))\n",
        "regress.add(Dense(units=1))\n",
        "regress.compile(optimizer='adam',loss='mean_squared_error')\n",
        "regress.summary()"
      ],
      "metadata": {
        "id": "ZmmSjVK-ro_J",
        "outputId": "5c39bcb8-df0c-4e72-dab0-d65523a40486",
        "colab": {
          "base_uri": "https://localhost:8080/"
        }
      },
      "execution_count": 231,
      "outputs": [
        {
          "output_type": "stream",
          "name": "stdout",
          "text": [
            "Model: \"sequential_20\"\n",
            "_________________________________________________________________\n",
            " Layer (type)                Output Shape              Param #   \n",
            "=================================================================\n",
            " lstm_40 (LSTM)              (None, 10, 200)           161600    \n",
            "                                                                 \n",
            " dropout_50 (Dropout)        (None, 10, 200)           0         \n",
            "                                                                 \n",
            " lstm_41 (LSTM)              (None, 10, 200)           320800    \n",
            "                                                                 \n",
            " dropout_51 (Dropout)        (None, 10, 200)           0         \n",
            "                                                                 \n",
            " lstm_42 (LSTM)              (None, 10, 200)           320800    \n",
            "                                                                 \n",
            " dropout_52 (Dropout)        (None, 10, 200)           0         \n",
            "                                                                 \n",
            " lstm_43 (LSTM)              (None, 200)               320800    \n",
            "                                                                 \n",
            " dropout_53 (Dropout)        (None, 200)               0         \n",
            "                                                                 \n",
            " dense_50 (Dense)            (None, 1)                 201       \n",
            "                                                                 \n",
            "=================================================================\n",
            "Total params: 1,124,201\n",
            "Trainable params: 1,124,201\n",
            "Non-trainable params: 0\n",
            "_________________________________________________________________\n"
          ]
        }
      ]
    },
    {
      "cell_type": "code",
      "source": [
        "regress.fit(X_train,y_train,epochs=200,batch_size=25)"
      ],
      "metadata": {
        "id": "-6psmuVTrtiT",
        "outputId": "711282fa-6681-455e-cc53-b675eee2652d",
        "colab": {
          "base_uri": "https://localhost:8080/"
        }
      },
      "execution_count": 232,
      "outputs": [
        {
          "output_type": "stream",
          "name": "stdout",
          "text": [
            "Epoch 1/200\n",
            "2/2 [==============================] - 8s 108ms/step - loss: 0.2184\n",
            "Epoch 2/200\n",
            "2/2 [==============================] - 0s 106ms/step - loss: 0.0630\n",
            "Epoch 3/200\n",
            "2/2 [==============================] - 0s 114ms/step - loss: 0.1567\n",
            "Epoch 4/200\n",
            "2/2 [==============================] - 0s 94ms/step - loss: 0.0338\n",
            "Epoch 5/200\n",
            "2/2 [==============================] - 0s 98ms/step - loss: 0.0819\n",
            "Epoch 6/200\n",
            "2/2 [==============================] - 0s 111ms/step - loss: 0.0793\n",
            "Epoch 7/200\n",
            "2/2 [==============================] - 0s 107ms/step - loss: 0.0537\n",
            "Epoch 8/200\n",
            "2/2 [==============================] - 0s 100ms/step - loss: 0.0362\n",
            "Epoch 9/200\n",
            "2/2 [==============================] - 0s 98ms/step - loss: 0.0312\n",
            "Epoch 10/200\n",
            "2/2 [==============================] - 0s 107ms/step - loss: 0.0493\n",
            "Epoch 11/200\n",
            "2/2 [==============================] - 0s 94ms/step - loss: 0.0317\n",
            "Epoch 12/200\n",
            "2/2 [==============================] - 0s 102ms/step - loss: 0.0296\n",
            "Epoch 13/200\n",
            "2/2 [==============================] - 0s 95ms/step - loss: 0.0416\n",
            "Epoch 14/200\n",
            "2/2 [==============================] - 0s 111ms/step - loss: 0.0447\n",
            "Epoch 15/200\n",
            "2/2 [==============================] - 0s 112ms/step - loss: 0.0365\n",
            "Epoch 16/200\n",
            "2/2 [==============================] - 0s 96ms/step - loss: 0.0292\n",
            "Epoch 17/200\n",
            "2/2 [==============================] - 0s 108ms/step - loss: 0.0320\n",
            "Epoch 18/200\n",
            "2/2 [==============================] - 0s 110ms/step - loss: 0.0304\n",
            "Epoch 19/200\n",
            "2/2 [==============================] - 0s 93ms/step - loss: 0.0282\n",
            "Epoch 20/200\n",
            "2/2 [==============================] - 0s 95ms/step - loss: 0.0263\n",
            "Epoch 21/200\n",
            "2/2 [==============================] - 0s 99ms/step - loss: 0.0266\n",
            "Epoch 22/200\n",
            "2/2 [==============================] - 0s 98ms/step - loss: 0.0263\n",
            "Epoch 23/200\n",
            "2/2 [==============================] - 0s 98ms/step - loss: 0.0254\n",
            "Epoch 24/200\n",
            "2/2 [==============================] - 0s 96ms/step - loss: 0.0227\n",
            "Epoch 25/200\n",
            "2/2 [==============================] - 0s 98ms/step - loss: 0.0262\n",
            "Epoch 26/200\n",
            "2/2 [==============================] - 0s 96ms/step - loss: 0.0233\n",
            "Epoch 27/200\n",
            "2/2 [==============================] - 0s 99ms/step - loss: 0.0219\n",
            "Epoch 28/200\n",
            "2/2 [==============================] - 0s 101ms/step - loss: 0.0225\n",
            "Epoch 29/200\n",
            "2/2 [==============================] - 0s 103ms/step - loss: 0.0206\n",
            "Epoch 30/200\n",
            "2/2 [==============================] - 0s 96ms/step - loss: 0.0239\n",
            "Epoch 31/200\n",
            "2/2 [==============================] - 0s 107ms/step - loss: 0.0218\n",
            "Epoch 32/200\n",
            "2/2 [==============================] - 0s 98ms/step - loss: 0.0243\n",
            "Epoch 33/200\n",
            "2/2 [==============================] - 0s 109ms/step - loss: 0.0220\n",
            "Epoch 34/200\n",
            "2/2 [==============================] - 0s 91ms/step - loss: 0.0225\n",
            "Epoch 35/200\n",
            "2/2 [==============================] - 0s 103ms/step - loss: 0.0254\n",
            "Epoch 36/200\n",
            "2/2 [==============================] - 0s 104ms/step - loss: 0.0203\n",
            "Epoch 37/200\n",
            "2/2 [==============================] - 0s 108ms/step - loss: 0.0267\n",
            "Epoch 38/200\n",
            "2/2 [==============================] - 0s 148ms/step - loss: 0.0220\n",
            "Epoch 39/200\n",
            "2/2 [==============================] - 0s 177ms/step - loss: 0.0219\n",
            "Epoch 40/200\n",
            "2/2 [==============================] - 0s 141ms/step - loss: 0.0206\n",
            "Epoch 41/200\n",
            "2/2 [==============================] - 0s 142ms/step - loss: 0.0205\n",
            "Epoch 42/200\n",
            "2/2 [==============================] - 0s 163ms/step - loss: 0.0211\n",
            "Epoch 43/200\n",
            "2/2 [==============================] - 0s 169ms/step - loss: 0.0210\n",
            "Epoch 44/200\n",
            "2/2 [==============================] - 0s 157ms/step - loss: 0.0204\n",
            "Epoch 45/200\n",
            "2/2 [==============================] - 0s 213ms/step - loss: 0.0204\n",
            "Epoch 46/200\n",
            "2/2 [==============================] - 0s 170ms/step - loss: 0.0208\n",
            "Epoch 47/200\n",
            "2/2 [==============================] - 0s 179ms/step - loss: 0.0235\n",
            "Epoch 48/200\n",
            "2/2 [==============================] - 0s 102ms/step - loss: 0.0188\n",
            "Epoch 49/200\n",
            "2/2 [==============================] - 0s 106ms/step - loss: 0.0240\n",
            "Epoch 50/200\n",
            "2/2 [==============================] - 0s 100ms/step - loss: 0.0238\n",
            "Epoch 51/200\n",
            "2/2 [==============================] - 0s 96ms/step - loss: 0.0214\n",
            "Epoch 52/200\n",
            "2/2 [==============================] - 0s 96ms/step - loss: 0.0206\n",
            "Epoch 53/200\n",
            "2/2 [==============================] - 0s 114ms/step - loss: 0.0238\n",
            "Epoch 54/200\n",
            "2/2 [==============================] - 0s 107ms/step - loss: 0.0207\n",
            "Epoch 55/200\n",
            "2/2 [==============================] - 0s 98ms/step - loss: 0.0226\n",
            "Epoch 56/200\n",
            "2/2 [==============================] - 0s 95ms/step - loss: 0.0217\n",
            "Epoch 57/200\n",
            "2/2 [==============================] - 0s 92ms/step - loss: 0.0230\n",
            "Epoch 58/200\n",
            "2/2 [==============================] - 0s 98ms/step - loss: 0.0188\n",
            "Epoch 59/200\n",
            "2/2 [==============================] - 0s 98ms/step - loss: 0.0225\n",
            "Epoch 60/200\n",
            "2/2 [==============================] - 0s 98ms/step - loss: 0.0194\n",
            "Epoch 61/200\n",
            "2/2 [==============================] - 0s 98ms/step - loss: 0.0221\n",
            "Epoch 62/200\n",
            "2/2 [==============================] - 0s 99ms/step - loss: 0.0191\n",
            "Epoch 63/200\n",
            "2/2 [==============================] - 0s 90ms/step - loss: 0.0183\n",
            "Epoch 64/200\n",
            "2/2 [==============================] - 0s 100ms/step - loss: 0.0203\n",
            "Epoch 65/200\n",
            "2/2 [==============================] - 0s 95ms/step - loss: 0.0183\n",
            "Epoch 66/200\n",
            "2/2 [==============================] - 0s 94ms/step - loss: 0.0216\n",
            "Epoch 67/200\n",
            "2/2 [==============================] - 0s 112ms/step - loss: 0.0208\n",
            "Epoch 68/200\n",
            "2/2 [==============================] - 0s 99ms/step - loss: 0.0196\n",
            "Epoch 69/200\n",
            "2/2 [==============================] - 0s 108ms/step - loss: 0.0189\n",
            "Epoch 70/200\n",
            "2/2 [==============================] - 0s 104ms/step - loss: 0.0200\n",
            "Epoch 71/200\n",
            "2/2 [==============================] - 0s 99ms/step - loss: 0.0203\n",
            "Epoch 72/200\n",
            "2/2 [==============================] - 0s 98ms/step - loss: 0.0186\n",
            "Epoch 73/200\n",
            "2/2 [==============================] - 0s 95ms/step - loss: 0.0214\n",
            "Epoch 74/200\n",
            "2/2 [==============================] - 0s 101ms/step - loss: 0.0200\n",
            "Epoch 75/200\n",
            "2/2 [==============================] - 0s 100ms/step - loss: 0.0219\n",
            "Epoch 76/200\n",
            "2/2 [==============================] - 0s 95ms/step - loss: 0.0223\n",
            "Epoch 77/200\n",
            "2/2 [==============================] - 0s 101ms/step - loss: 0.0247\n",
            "Epoch 78/200\n",
            "2/2 [==============================] - 0s 91ms/step - loss: 0.0212\n",
            "Epoch 79/200\n",
            "2/2 [==============================] - 0s 100ms/step - loss: 0.0191\n",
            "Epoch 80/200\n",
            "2/2 [==============================] - 0s 96ms/step - loss: 0.0205\n",
            "Epoch 81/200\n",
            "2/2 [==============================] - 0s 100ms/step - loss: 0.0212\n",
            "Epoch 82/200\n",
            "2/2 [==============================] - 0s 89ms/step - loss: 0.0192\n",
            "Epoch 83/200\n",
            "2/2 [==============================] - 0s 95ms/step - loss: 0.0205\n",
            "Epoch 84/200\n",
            "2/2 [==============================] - 0s 114ms/step - loss: 0.0210\n",
            "Epoch 85/200\n",
            "2/2 [==============================] - 0s 106ms/step - loss: 0.0217\n",
            "Epoch 86/200\n",
            "2/2 [==============================] - 0s 112ms/step - loss: 0.0221\n",
            "Epoch 87/200\n",
            "2/2 [==============================] - 0s 114ms/step - loss: 0.0238\n",
            "Epoch 88/200\n",
            "2/2 [==============================] - 0s 98ms/step - loss: 0.0180\n",
            "Epoch 89/200\n",
            "2/2 [==============================] - 0s 94ms/step - loss: 0.0183\n",
            "Epoch 90/200\n",
            "2/2 [==============================] - 0s 114ms/step - loss: 0.0189\n",
            "Epoch 91/200\n",
            "2/2 [==============================] - 0s 93ms/step - loss: 0.0187\n",
            "Epoch 92/200\n",
            "2/2 [==============================] - 0s 96ms/step - loss: 0.0208\n",
            "Epoch 93/200\n",
            "2/2 [==============================] - 0s 102ms/step - loss: 0.0218\n",
            "Epoch 94/200\n",
            "2/2 [==============================] - 0s 103ms/step - loss: 0.0217\n",
            "Epoch 95/200\n",
            "2/2 [==============================] - 0s 105ms/step - loss: 0.0214\n",
            "Epoch 96/200\n",
            "2/2 [==============================] - 0s 96ms/step - loss: 0.0208\n",
            "Epoch 97/200\n",
            "2/2 [==============================] - 0s 93ms/step - loss: 0.0210\n",
            "Epoch 98/200\n",
            "2/2 [==============================] - 0s 100ms/step - loss: 0.0238\n",
            "Epoch 99/200\n",
            "2/2 [==============================] - 0s 107ms/step - loss: 0.0210\n",
            "Epoch 100/200\n",
            "2/2 [==============================] - 0s 114ms/step - loss: 0.0246\n",
            "Epoch 101/200\n",
            "2/2 [==============================] - 0s 112ms/step - loss: 0.0226\n",
            "Epoch 102/200\n",
            "2/2 [==============================] - 0s 95ms/step - loss: 0.0211\n",
            "Epoch 103/200\n",
            "2/2 [==============================] - 0s 96ms/step - loss: 0.0194\n",
            "Epoch 104/200\n",
            "2/2 [==============================] - 0s 95ms/step - loss: 0.0195\n",
            "Epoch 105/200\n",
            "2/2 [==============================] - 0s 95ms/step - loss: 0.0229\n",
            "Epoch 106/200\n",
            "2/2 [==============================] - 0s 101ms/step - loss: 0.0198\n",
            "Epoch 107/200\n",
            "2/2 [==============================] - 0s 109ms/step - loss: 0.0179\n",
            "Epoch 108/200\n",
            "2/2 [==============================] - 0s 108ms/step - loss: 0.0187\n",
            "Epoch 109/200\n",
            "2/2 [==============================] - 0s 106ms/step - loss: 0.0202\n",
            "Epoch 110/200\n",
            "2/2 [==============================] - 0s 103ms/step - loss: 0.0196\n",
            "Epoch 111/200\n",
            "2/2 [==============================] - 0s 99ms/step - loss: 0.0177\n",
            "Epoch 112/200\n",
            "2/2 [==============================] - 0s 108ms/step - loss: 0.0182\n",
            "Epoch 113/200\n",
            "2/2 [==============================] - 0s 101ms/step - loss: 0.0218\n",
            "Epoch 114/200\n",
            "2/2 [==============================] - 0s 102ms/step - loss: 0.0209\n",
            "Epoch 115/200\n",
            "2/2 [==============================] - 0s 104ms/step - loss: 0.0191\n",
            "Epoch 116/200\n",
            "2/2 [==============================] - 0s 96ms/step - loss: 0.0218\n",
            "Epoch 117/200\n",
            "2/2 [==============================] - 0s 98ms/step - loss: 0.0215\n",
            "Epoch 118/200\n",
            "2/2 [==============================] - 0s 100ms/step - loss: 0.0232\n",
            "Epoch 119/200\n",
            "2/2 [==============================] - 0s 93ms/step - loss: 0.0231\n",
            "Epoch 120/200\n",
            "2/2 [==============================] - 0s 98ms/step - loss: 0.0213\n",
            "Epoch 121/200\n",
            "2/2 [==============================] - 0s 99ms/step - loss: 0.0224\n",
            "Epoch 122/200\n",
            "2/2 [==============================] - 0s 92ms/step - loss: 0.0215\n",
            "Epoch 123/200\n",
            "2/2 [==============================] - 0s 95ms/step - loss: 0.0199\n",
            "Epoch 124/200\n",
            "2/2 [==============================] - 0s 100ms/step - loss: 0.0192\n",
            "Epoch 125/200\n",
            "2/2 [==============================] - 0s 106ms/step - loss: 0.0185\n",
            "Epoch 126/200\n",
            "2/2 [==============================] - 0s 104ms/step - loss: 0.0193\n",
            "Epoch 127/200\n",
            "2/2 [==============================] - 0s 103ms/step - loss: 0.0219\n",
            "Epoch 128/200\n",
            "2/2 [==============================] - 0s 116ms/step - loss: 0.0198\n",
            "Epoch 129/200\n",
            "2/2 [==============================] - 0s 98ms/step - loss: 0.0205\n",
            "Epoch 130/200\n",
            "2/2 [==============================] - 0s 106ms/step - loss: 0.0184\n",
            "Epoch 131/200\n",
            "2/2 [==============================] - 0s 110ms/step - loss: 0.0195\n",
            "Epoch 132/200\n",
            "2/2 [==============================] - 0s 101ms/step - loss: 0.0196\n",
            "Epoch 133/200\n",
            "2/2 [==============================] - 0s 91ms/step - loss: 0.0179\n",
            "Epoch 134/200\n",
            "2/2 [==============================] - 0s 120ms/step - loss: 0.0214\n",
            "Epoch 135/200\n",
            "2/2 [==============================] - 0s 93ms/step - loss: 0.0201\n",
            "Epoch 136/200\n",
            "2/2 [==============================] - 0s 93ms/step - loss: 0.0212\n",
            "Epoch 137/200\n",
            "2/2 [==============================] - 0s 116ms/step - loss: 0.0186\n",
            "Epoch 138/200\n",
            "2/2 [==============================] - 0s 112ms/step - loss: 0.0220\n",
            "Epoch 139/200\n",
            "2/2 [==============================] - 0s 96ms/step - loss: 0.0228\n",
            "Epoch 140/200\n",
            "2/2 [==============================] - 0s 99ms/step - loss: 0.0203\n",
            "Epoch 141/200\n",
            "2/2 [==============================] - 0s 95ms/step - loss: 0.0199\n",
            "Epoch 142/200\n",
            "2/2 [==============================] - 0s 104ms/step - loss: 0.0184\n",
            "Epoch 143/200\n",
            "2/2 [==============================] - 0s 90ms/step - loss: 0.0201\n",
            "Epoch 144/200\n",
            "2/2 [==============================] - 0s 96ms/step - loss: 0.0192\n",
            "Epoch 145/200\n",
            "2/2 [==============================] - 0s 106ms/step - loss: 0.0189\n",
            "Epoch 146/200\n",
            "2/2 [==============================] - 0s 103ms/step - loss: 0.0198\n",
            "Epoch 147/200\n",
            "2/2 [==============================] - 0s 105ms/step - loss: 0.0224\n",
            "Epoch 148/200\n",
            "2/2 [==============================] - 0s 104ms/step - loss: 0.0213\n",
            "Epoch 149/200\n",
            "2/2 [==============================] - 0s 103ms/step - loss: 0.0208\n",
            "Epoch 150/200\n",
            "2/2 [==============================] - 0s 95ms/step - loss: 0.0217\n",
            "Epoch 151/200\n",
            "2/2 [==============================] - 0s 105ms/step - loss: 0.0191\n",
            "Epoch 152/200\n",
            "2/2 [==============================] - 0s 97ms/step - loss: 0.0186\n",
            "Epoch 153/200\n",
            "2/2 [==============================] - 0s 116ms/step - loss: 0.0192\n",
            "Epoch 154/200\n",
            "2/2 [==============================] - 0s 103ms/step - loss: 0.0201\n",
            "Epoch 155/200\n",
            "2/2 [==============================] - 0s 96ms/step - loss: 0.0213\n",
            "Epoch 156/200\n",
            "2/2 [==============================] - 0s 103ms/step - loss: 0.0190\n",
            "Epoch 157/200\n",
            "2/2 [==============================] - 0s 103ms/step - loss: 0.0206\n",
            "Epoch 158/200\n",
            "2/2 [==============================] - 0s 96ms/step - loss: 0.0205\n",
            "Epoch 159/200\n",
            "2/2 [==============================] - 0s 104ms/step - loss: 0.0203\n",
            "Epoch 160/200\n",
            "2/2 [==============================] - 0s 130ms/step - loss: 0.0179\n",
            "Epoch 161/200\n",
            "2/2 [==============================] - 0s 110ms/step - loss: 0.0215\n",
            "Epoch 162/200\n",
            "2/2 [==============================] - 0s 99ms/step - loss: 0.0225\n",
            "Epoch 163/200\n",
            "2/2 [==============================] - 0s 101ms/step - loss: 0.0217\n",
            "Epoch 164/200\n",
            "2/2 [==============================] - 0s 101ms/step - loss: 0.0199\n",
            "Epoch 165/200\n",
            "2/2 [==============================] - 0s 106ms/step - loss: 0.0176\n",
            "Epoch 166/200\n",
            "2/2 [==============================] - 0s 98ms/step - loss: 0.0187\n",
            "Epoch 167/200\n",
            "2/2 [==============================] - 0s 98ms/step - loss: 0.0175\n",
            "Epoch 168/200\n",
            "2/2 [==============================] - 0s 108ms/step - loss: 0.0190\n",
            "Epoch 169/200\n",
            "2/2 [==============================] - 0s 121ms/step - loss: 0.0223\n",
            "Epoch 170/200\n",
            "2/2 [==============================] - 0s 100ms/step - loss: 0.0199\n",
            "Epoch 171/200\n",
            "2/2 [==============================] - 0s 97ms/step - loss: 0.0197\n",
            "Epoch 172/200\n",
            "2/2 [==============================] - 0s 106ms/step - loss: 0.0189\n",
            "Epoch 173/200\n",
            "2/2 [==============================] - 0s 97ms/step - loss: 0.0204\n",
            "Epoch 174/200\n",
            "2/2 [==============================] - 0s 93ms/step - loss: 0.0199\n",
            "Epoch 175/200\n",
            "2/2 [==============================] - 0s 107ms/step - loss: 0.0184\n",
            "Epoch 176/200\n",
            "2/2 [==============================] - 0s 102ms/step - loss: 0.0211\n",
            "Epoch 177/200\n",
            "2/2 [==============================] - 0s 105ms/step - loss: 0.0217\n",
            "Epoch 178/200\n",
            "2/2 [==============================] - 0s 105ms/step - loss: 0.0177\n",
            "Epoch 179/200\n",
            "2/2 [==============================] - 0s 107ms/step - loss: 0.0223\n",
            "Epoch 180/200\n",
            "2/2 [==============================] - 0s 100ms/step - loss: 0.0200\n",
            "Epoch 181/200\n",
            "2/2 [==============================] - 0s 102ms/step - loss: 0.0214\n",
            "Epoch 182/200\n",
            "2/2 [==============================] - 0s 100ms/step - loss: 0.0258\n",
            "Epoch 183/200\n",
            "2/2 [==============================] - 0s 106ms/step - loss: 0.0205\n",
            "Epoch 184/200\n",
            "2/2 [==============================] - 0s 99ms/step - loss: 0.0221\n",
            "Epoch 185/200\n",
            "2/2 [==============================] - 0s 98ms/step - loss: 0.0181\n",
            "Epoch 186/200\n",
            "2/2 [==============================] - 0s 100ms/step - loss: 0.0208\n",
            "Epoch 187/200\n",
            "2/2 [==============================] - 0s 100ms/step - loss: 0.0229\n",
            "Epoch 188/200\n",
            "2/2 [==============================] - 0s 101ms/step - loss: 0.0271\n",
            "Epoch 189/200\n",
            "2/2 [==============================] - 0s 102ms/step - loss: 0.0201\n",
            "Epoch 190/200\n",
            "2/2 [==============================] - 0s 107ms/step - loss: 0.0218\n",
            "Epoch 191/200\n",
            "2/2 [==============================] - 0s 106ms/step - loss: 0.0176\n",
            "Epoch 192/200\n",
            "2/2 [==============================] - 0s 115ms/step - loss: 0.0221\n",
            "Epoch 193/200\n",
            "2/2 [==============================] - 0s 94ms/step - loss: 0.0212\n",
            "Epoch 194/200\n",
            "2/2 [==============================] - 0s 95ms/step - loss: 0.0184\n",
            "Epoch 195/200\n",
            "2/2 [==============================] - 0s 112ms/step - loss: 0.0210\n",
            "Epoch 196/200\n",
            "2/2 [==============================] - 0s 94ms/step - loss: 0.0186\n",
            "Epoch 197/200\n",
            "2/2 [==============================] - 0s 102ms/step - loss: 0.0205\n",
            "Epoch 198/200\n",
            "2/2 [==============================] - 0s 109ms/step - loss: 0.0185\n",
            "Epoch 199/200\n",
            "2/2 [==============================] - 0s 97ms/step - loss: 0.0221\n",
            "Epoch 200/200\n",
            "2/2 [==============================] - 0s 101ms/step - loss: 0.0217\n"
          ]
        },
        {
          "output_type": "execute_result",
          "data": {
            "text/plain": [
              "<keras.callbacks.History at 0x7fa40e318410>"
            ]
          },
          "metadata": {},
          "execution_count": 232
        }
      ]
    },
    {
      "cell_type": "code",
      "source": [
        "print(len(data_test))\n",
        "data_total=pd.concat((data_train['capacity'], data_test['capacity']),axis=0)\n",
        "inputs=data_total[len(data_total)-len(data_test)-10:].values\n",
        "inputs=inputs.reshape(-1,1)\n",
        "inputs=sc.transform(inputs)"
      ],
      "metadata": {
        "id": "SHlnjFBPrwOR",
        "outputId": "60e5497e-177a-4b3c-c7af-01d425406ab8",
        "colab": {
          "base_uri": "https://localhost:8080/"
        }
      },
      "execution_count": 234,
      "outputs": [
        {
          "output_type": "stream",
          "name": "stdout",
          "text": [
            "119\n"
          ]
        }
      ]
    },
    {
      "cell_type": "code",
      "source": [
        "X_test=[]\n",
        "for i in range(10,129):\n",
        "    X_test.append(inputs[i-10:i,0])\n",
        "X_test=np.array(X_test)\n",
        "X_test=np.reshape(X_test,(X_test.shape[0],X_test.shape[1],1))\n",
        "pred=regress.predict(X_test)\n",
        "print(pred.shape)\n",
        "pred=sc.inverse_transform(pred)\n",
        "pred=pred[:,0]\n",
        "tests=data_test.iloc[:,1:2]\n",
        "rmse = np.sqrt(mean_squared_error(tests, pred))\n",
        "print('Test RMSE: %.3f' % rmse)\n",
        "metrics.r2_score(tests,pred)"
      ],
      "metadata": {
        "id": "2fspYuNJr0Ra",
        "outputId": "aa36e772-3865-4cf7-a2cf-141d43d5298d",
        "colab": {
          "base_uri": "https://localhost:8080/"
        }
      },
      "execution_count": 235,
      "outputs": [
        {
          "output_type": "stream",
          "name": "stdout",
          "text": [
            "(119, 1)\n",
            "Test RMSE: 0.038\n"
          ]
        },
        {
          "output_type": "execute_result",
          "data": {
            "text/plain": [
              "0.9315687416256112"
            ]
          },
          "metadata": {},
          "execution_count": 235
        }
      ]
    },
    {
      "cell_type": "code",
      "source": [
        "\n",
        "ln = len(data_train)\n",
        "data_test['pre']=pred\n",
        "plot_df = dataset.loc[(dataset['cycle']>=1),['cycle','capacity']]\n",
        "plot_per = data_test.loc[(data_test['cycle']>=ln),['cycle','pre']]\n",
        "plt.figure(figsize=(16, 10))\n",
        "plt.plot(plot_df['cycle'], plot_df['capacity'], label=\"Actual data\", color='blue')\n",
        "plt.plot(plot_per['cycle'],plot_per['pre'],label=\"Prediction data\", color='red')\n",
        "#Draw threshold\n",
        "plt.plot([0.,168], [1.38, 1.38],dashes=[6, 2], label=\"treshold\")\n",
        "plt.ylabel('Capacity')\n",
        "# make x-axis ticks legible\n",
        "adf = plt.gca().get_xaxis().get_major_formatter()\n",
        "plt.xlabel('cycle')\n",
        "plt.legend()\n",
        "plt.title('Discharge B0006 (prediction) start in cycle 50 -RULe=-8, window-size=10')"
      ],
      "metadata": {
        "id": "ejrvqp6Sr3uA",
        "outputId": "bab6743e-6feb-49b3-fc7f-c010cabb9b00",
        "colab": {
          "base_uri": "https://localhost:8080/",
          "height": 749
        }
      },
      "execution_count": 237,
      "outputs": [
        {
          "output_type": "stream",
          "name": "stderr",
          "text": [
            "/usr/local/lib/python3.7/dist-packages/ipykernel_launcher.py:3: SettingWithCopyWarning: \n",
            "A value is trying to be set on a copy of a slice from a DataFrame.\n",
            "Try using .loc[row_indexer,col_indexer] = value instead\n",
            "\n",
            "See the caveats in the documentation: https://pandas.pydata.org/pandas-docs/stable/user_guide/indexing.html#returning-a-view-versus-a-copy\n",
            "  This is separate from the ipykernel package so we can avoid doing imports until\n"
          ]
        },
        {
          "output_type": "execute_result",
          "data": {
            "text/plain": [
              "Text(0.5, 1.0, 'Discharge B0006 (prediction) start in cycle 50 -RULe=-8, window-size=10')"
            ]
          },
          "metadata": {},
          "execution_count": 237
        },
        {
          "output_type": "display_data",
          "data": {
            "text/plain": [
              "<Figure size 1152x720 with 1 Axes>"
            ],
            "image/png": "[encoded data removed]"
          },
          "metadata": {}
        }
      ]
    },
    {
      "cell_type": "code",
      "source": [
        "pred=0\n",
        "Afil=0\n",
        "Pfil=0\n",
        "a=data_test['capacity'].values\n",
        "b=data_test['pre'].values\n",
        "j=0\n",
        "k=0\n",
        "for i in range(len(a)):\n",
        "    actual=a[i]\n",
        "    \n",
        "    if actual<=1.38:\n",
        "        j=i\n",
        "        Afil=j\n",
        "        break\n",
        "for i in range(len(a)):\n",
        "    pred=b[i]\n",
        "    if pred< 1.38:\n",
        "        k=i\n",
        "        Pfil=k\n",
        "        break\n",
        "print(\"The Actual fail at cycle number: \"+ str(Afil+ln))\n",
        "print(\"The prediction fail at cycle number: \"+ str(Pfil+ln))\n",
        "RULerror=Pfil-Afil\n",
        "print(\"The error of RUL= \"+ str(RULerror)+ \" Cycle(s)\")"
      ],
      "metadata": {
        "id": "67DCC3Lfr8Gu",
        "outputId": "274d716e-3119-45f0-9948-f41fdfb6332a",
        "colab": {
          "base_uri": "https://localhost:8080/"
        }
      },
      "execution_count": 238,
      "outputs": [
        {
          "output_type": "stream",
          "name": "stdout",
          "text": [
            "The Actual fail at cycle number: 112\n",
            "The prediction fail at cycle number: 118\n",
            "The error of RUL= 6 Cycle(s)\n"
          ]
        }
      ]
    },
    {
      "cell_type": "code",
      "source": [
        ""
      ],
      "metadata": {
        "id": "jBu3l_AcueMD"
      },
      "execution_count": 213,
      "outputs": []
    }
  ]
}
