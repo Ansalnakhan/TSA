{
  "nbformat": 4,
  "nbformat_minor": 0,
  "metadata": {
    "colab": {
      "provenance": [],
      "include_colab_link": true
    },
    "kernelspec": {
      "name": "python3",
      "display_name": "Python 3"
    },
    "language_info": {
      "name": "python"
    },
    "accelerator": "GPU"
  },
  "cells": [
    {
      "cell_type": "markdown",
      "metadata": {
        "id": "view-in-github",
        "colab_type": "text"
      },
      "source": [
        "<a href=\"https://colab.research.google.com/github/Ansalnakhan/TSA/blob/main/ansalnaSOHandRUL.ipynb\" target=\"_parent\"><img src=\"https://colab.research.google.com/assets/colab-badge.svg\" alt=\"Open In Colab\"/></a>"
      ]
    },
    {
      "cell_type": "code",
      "source": [
        "import tensorflow as tf\n",
        "from tensorflow import keras\n",
        "\n",
        "import numpy as np"
      ],
      "metadata": {
        "id": "PGNP9R9S9ApK"
      },
      "execution_count": null,
      "outputs": []
    },
    {
      "cell_type": "code",
      "source": [
        "import pandas as pd"
      ],
      "metadata": {
        "id": "93pnEOlX9EBh"
      },
      "execution_count": null,
      "outputs": []
    },
    {
      "cell_type": "code",
      "source": [
        "data=pd.read_csv(\"/content/B0018.csv\")\n",
        "data"
      ],
      "metadata": {
        "colab": {
          "base_uri": "https://localhost:8080/",
          "height": 852
        },
        "id": "AWaOdyLR9Hbi",
        "outputId": "7f46d2ae-e581-4a2e-e05b-3f2c954088be"
      },
      "execution_count": null,
      "outputs": [
        {
          "output_type": "execute_result",
          "data": {
            "text/plain": [
              "       Unnamed: 0  cycle  ambient_temperature             datetime  capacity  \\\n",
              "0               0      1                   24  2008-04-02 15:25:41  1.856487   \n",
              "1               1      1                   24  2008-04-02 15:25:41  1.856487   \n",
              "2               2      1                   24  2008-04-02 15:25:41  1.856487   \n",
              "3               3      1                   24  2008-04-02 15:25:41  1.856487   \n",
              "4               4      1                   24  2008-04-02 15:25:41  1.856487   \n",
              "...           ...    ...                  ...                  ...       ...   \n",
              "50280       50280    168                   24  2008-05-27 20:45:42  1.325079   \n",
              "50281       50281    168                   24  2008-05-27 20:45:42  1.325079   \n",
              "50282       50282    168                   24  2008-05-27 20:45:42  1.325079   \n",
              "50283       50283    168                   24  2008-05-27 20:45:42  1.325079   \n",
              "50284       50284    168                   24  2008-05-27 20:45:42  1.325079   \n",
              "\n",
              "       voltage_measured  current_measured  temperature_measured  current_load  \\\n",
              "0              4.191492         -0.004902             24.330034       -0.0006   \n",
              "1              4.190749         -0.001478             24.325993       -0.0006   \n",
              "2              3.974871         -2.012528             24.389085       -1.9982   \n",
              "3              3.951717         -2.013979             24.544752       -1.9982   \n",
              "4              3.934352         -2.011144             24.731385       -1.9982   \n",
              "...                 ...               ...                   ...           ...   \n",
              "50280          3.579262         -0.001569             34.864823        0.0006   \n",
              "50281          3.581964         -0.003067             34.814770        0.0006   \n",
              "50282          3.584484         -0.003079             34.676258        0.0006   \n",
              "50283          3.587336          0.001219             34.565580        0.0006   \n",
              "50284          3.589937         -0.000583             34.405920        0.0006   \n",
              "\n",
              "       voltage_load      time  \n",
              "0             0.000     0.000  \n",
              "1             4.206    16.781  \n",
              "2             3.062    35.703  \n",
              "3             3.030    53.781  \n",
              "4             3.011    71.922  \n",
              "...             ...       ...  \n",
              "50280         0.000  2781.312  \n",
              "50281         0.000  2791.062  \n",
              "50282         0.000  2800.828  \n",
              "50283         0.000  2810.640  \n",
              "50284         0.000  2820.390  \n",
              "\n",
              "[50285 rows x 11 columns]"
            ],
            "text/html": [
              "\n",
              "  <div id=\"df-15cbbf97-0c3f-4137-9a5b-368d118c87a5\">\n",
              "    <div class=\"colab-df-container\">\n",
              "      <div>\n",
              "<style scoped>\n",
              "    .dataframe tbody tr th:only-of-type {\n",
              "        vertical-align: middle;\n",
              "    }\n",
              "\n",
              "    .dataframe tbody tr th {\n",
              "        vertical-align: top;\n",
              "    }\n",
              "\n",
              "    .dataframe thead th {\n",
              "        text-align: right;\n",
              "    }\n",
              "</style>\n",
              "<table border=\"1\" class=\"dataframe\">\n",
              "  <thead>\n",
              "    <tr style=\"text-align: right;\">\n",
              "      <th></th>\n",
              "      <th>Unnamed: 0</th>\n",
              "      <th>cycle</th>\n",
              "      <th>ambient_temperature</th>\n",
              "      <th>datetime</th>\n",
              "      <th>capacity</th>\n",
              "      <th>voltage_measured</th>\n",
              "      <th>current_measured</th>\n",
              "      <th>temperature_measured</th>\n",
              "      <th>current_load</th>\n",
              "      <th>voltage_load</th>\n",
              "      <th>time</th>\n",
              "    </tr>\n",
              "  </thead>\n",
              "  <tbody>\n",
              "    <tr>\n",
              "      <th>0</th>\n",
              "      <td>0</td>\n",
              "      <td>1</td>\n",
              "      <td>24</td>\n",
              "      <td>2008-04-02 15:25:41</td>\n",
              "      <td>1.856487</td>\n",
              "      <td>4.191492</td>\n",
              "      <td>-0.004902</td>\n",
              "      <td>24.330034</td>\n",
              "      <td>-0.0006</td>\n",
              "      <td>0.000</td>\n",
              "      <td>0.000</td>\n",
              "    </tr>\n",
              "    <tr>\n",
              "      <th>1</th>\n",
              "      <td>1</td>\n",
              "      <td>1</td>\n",
              "      <td>24</td>\n",
              "      <td>2008-04-02 15:25:41</td>\n",
              "      <td>1.856487</td>\n",
              "      <td>4.190749</td>\n",
              "      <td>-0.001478</td>\n",
              "      <td>24.325993</td>\n",
              "      <td>-0.0006</td>\n",
              "      <td>4.206</td>\n",
              "      <td>16.781</td>\n",
              "    </tr>\n",
              "    <tr>\n",
              "      <th>2</th>\n",
              "      <td>2</td>\n",
              "      <td>1</td>\n",
              "      <td>24</td>\n",
              "      <td>2008-04-02 15:25:41</td>\n",
              "      <td>1.856487</td>\n",
              "      <td>3.974871</td>\n",
              "      <td>-2.012528</td>\n",
              "      <td>24.389085</td>\n",
              "      <td>-1.9982</td>\n",
              "      <td>3.062</td>\n",
              "      <td>35.703</td>\n",
              "    </tr>\n",
              "    <tr>\n",
              "      <th>3</th>\n",
              "      <td>3</td>\n",
              "      <td>1</td>\n",
              "      <td>24</td>\n",
              "      <td>2008-04-02 15:25:41</td>\n",
              "      <td>1.856487</td>\n",
              "      <td>3.951717</td>\n",
              "      <td>-2.013979</td>\n",
              "      <td>24.544752</td>\n",
              "      <td>-1.9982</td>\n",
              "      <td>3.030</td>\n",
              "      <td>53.781</td>\n",
              "    </tr>\n",
              "    <tr>\n",
              "      <th>4</th>\n",
              "      <td>4</td>\n",
              "      <td>1</td>\n",
              "      <td>24</td>\n",
              "      <td>2008-04-02 15:25:41</td>\n",
              "      <td>1.856487</td>\n",
              "      <td>3.934352</td>\n",
              "      <td>-2.011144</td>\n",
              "      <td>24.731385</td>\n",
              "      <td>-1.9982</td>\n",
              "      <td>3.011</td>\n",
              "      <td>71.922</td>\n",
              "    </tr>\n",
              "    <tr>\n",
              "      <th>...</th>\n",
              "      <td>...</td>\n",
              "      <td>...</td>\n",
              "      <td>...</td>\n",
              "      <td>...</td>\n",
              "      <td>...</td>\n",
              "      <td>...</td>\n",
              "      <td>...</td>\n",
              "      <td>...</td>\n",
              "      <td>...</td>\n",
              "      <td>...</td>\n",
              "      <td>...</td>\n",
              "    </tr>\n",
              "    <tr>\n",
              "      <th>50280</th>\n",
              "      <td>50280</td>\n",
              "      <td>168</td>\n",
              "      <td>24</td>\n",
              "      <td>2008-05-27 20:45:42</td>\n",
              "      <td>1.325079</td>\n",
              "      <td>3.579262</td>\n",
              "      <td>-0.001569</td>\n",
              "      <td>34.864823</td>\n",
              "      <td>0.0006</td>\n",
              "      <td>0.000</td>\n",
              "      <td>2781.312</td>\n",
              "    </tr>\n",
              "    <tr>\n",
              "      <th>50281</th>\n",
              "      <td>50281</td>\n",
              "      <td>168</td>\n",
              "      <td>24</td>\n",
              "      <td>2008-05-27 20:45:42</td>\n",
              "      <td>1.325079</td>\n",
              "      <td>3.581964</td>\n",
              "      <td>-0.003067</td>\n",
              "      <td>34.814770</td>\n",
              "      <td>0.0006</td>\n",
              "      <td>0.000</td>\n",
              "      <td>2791.062</td>\n",
              "    </tr>\n",
              "    <tr>\n",
              "      <th>50282</th>\n",
              "      <td>50282</td>\n",
              "      <td>168</td>\n",
              "      <td>24</td>\n",
              "      <td>2008-05-27 20:45:42</td>\n",
              "      <td>1.325079</td>\n",
              "      <td>3.584484</td>\n",
              "      <td>-0.003079</td>\n",
              "      <td>34.676258</td>\n",
              "      <td>0.0006</td>\n",
              "      <td>0.000</td>\n",
              "      <td>2800.828</td>\n",
              "    </tr>\n",
              "    <tr>\n",
              "      <th>50283</th>\n",
              "      <td>50283</td>\n",
              "      <td>168</td>\n",
              "      <td>24</td>\n",
              "      <td>2008-05-27 20:45:42</td>\n",
              "      <td>1.325079</td>\n",
              "      <td>3.587336</td>\n",
              "      <td>0.001219</td>\n",
              "      <td>34.565580</td>\n",
              "      <td>0.0006</td>\n",
              "      <td>0.000</td>\n",
              "      <td>2810.640</td>\n",
              "    </tr>\n",
              "    <tr>\n",
              "      <th>50284</th>\n",
              "      <td>50284</td>\n",
              "      <td>168</td>\n",
              "      <td>24</td>\n",
              "      <td>2008-05-27 20:45:42</td>\n",
              "      <td>1.325079</td>\n",
              "      <td>3.589937</td>\n",
              "      <td>-0.000583</td>\n",
              "      <td>34.405920</td>\n",
              "      <td>0.0006</td>\n",
              "      <td>0.000</td>\n",
              "      <td>2820.390</td>\n",
              "    </tr>\n",
              "  </tbody>\n",
              "</table>\n",
              "<p>50285 rows × 11 columns</p>\n",
              "</div>\n",
              "      <button class=\"colab-df-convert\" onclick=\"convertToInteractive('df-15cbbf97-0c3f-4137-9a5b-368d118c87a5')\"\n",
              "              title=\"Convert this dataframe to an interactive table.\"\n",
              "              style=\"display:none;\">\n",
              "        \n",
              "  <svg xmlns=\"http://www.w3.org/2000/svg\" height=\"24px\"viewBox=\"0 0 24 24\"\n",
              "       width=\"24px\">\n",
              "    <path d=\"M0 0h24v24H0V0z\" fill=\"none\"/>\n",
              "    <path d=\"M18.56 5.44l.94 2.06.94-2.06 2.06-.94-2.06-.94-.94-2.06-.94 2.06-2.06.94zm-11 1L8.5 8.5l.94-2.06 2.06-.94-2.06-.94L8.5 2.5l-.94 2.06-2.06.94zm10 10l.94 2.06.94-2.06 2.06-.94-2.06-.94-.94-2.06-.94 2.06-2.06.94z\"/><path d=\"M17.41 7.96l-1.37-1.37c-.4-.4-.92-.59-1.43-.59-.52 0-1.04.2-1.43.59L10.3 9.45l-7.72 7.72c-.78.78-.78 2.05 0 2.83L4 21.41c.39.39.9.59 1.41.59.51 0 1.02-.2 1.41-.59l7.78-7.78 2.81-2.81c.8-.78.8-2.07 0-2.86zM5.41 20L4 18.59l7.72-7.72 1.47 1.35L5.41 20z\"/>\n",
              "  </svg>\n",
              "      </button>\n",
              "      \n",
              "  <style>\n",
              "    .colab-df-container {\n",
              "      display:flex;\n",
              "      flex-wrap:wrap;\n",
              "      gap: 12px;\n",
              "    }\n",
              "\n",
              "    .colab-df-convert {\n",
              "      background-color: #E8F0FE;\n",
              "      border: none;\n",
              "      border-radius: 50%;\n",
              "      cursor: pointer;\n",
              "      display: none;\n",
              "      fill: #1967D2;\n",
              "      height: 32px;\n",
              "      padding: 0 0 0 0;\n",
              "      width: 32px;\n",
              "    }\n",
              "\n",
              "    .colab-df-convert:hover {\n",
              "      background-color: #E2EBFA;\n",
              "      box-shadow: 0px 1px 2px rgba(60, 64, 67, 0.3), 0px 1px 3px 1px rgba(60, 64, 67, 0.15);\n",
              "      fill: #174EA6;\n",
              "    }\n",
              "\n",
              "    [theme=dark] .colab-df-convert {\n",
              "      background-color: #3B4455;\n",
              "      fill: #D2E3FC;\n",
              "    }\n",
              "\n",
              "    [theme=dark] .colab-df-convert:hover {\n",
              "      background-color: #434B5C;\n",
              "      box-shadow: 0px 1px 3px 1px rgba(0, 0, 0, 0.15);\n",
              "      filter: drop-shadow(0px 1px 2px rgba(0, 0, 0, 0.3));\n",
              "      fill: #FFFFFF;\n",
              "    }\n",
              "  </style>\n",
              "\n",
              "      <script>\n",
              "        const buttonEl =\n",
              "          document.querySelector('#df-15cbbf97-0c3f-4137-9a5b-368d118c87a5 button.colab-df-convert');\n",
              "        buttonEl.style.display =\n",
              "          google.colab.kernel.accessAllowed ? 'block' : 'none';\n",
              "\n",
              "        async function convertToInteractive(key) {\n",
              "          const element = document.querySelector('#df-15cbbf97-0c3f-4137-9a5b-368d118c87a5');\n",
              "          const dataTable =\n",
              "            await google.colab.kernel.invokeFunction('convertToInteractive',\n",
              "                                                     [key], {});\n",
              "          if (!dataTable) return;\n",
              "\n",
              "          const docLinkHtml = 'Like what you see? Visit the ' +\n",
              "            '<a target=\"_blank\" href=https://colab.research.google.com/notebooks/data_table.ipynb>data table notebook</a>'\n",
              "            + ' to learn more about interactive tables.';\n",
              "          element.innerHTML = '';\n",
              "          dataTable['output_type'] = 'display_data';\n",
              "          await google.colab.output.renderOutput(dataTable, element);\n",
              "          const docLink = document.createElement('div');\n",
              "          docLink.innerHTML = docLinkHtml;\n",
              "          element.appendChild(docLink);\n",
              "        }\n",
              "      </script>\n",
              "    </div>\n",
              "  </div>\n",
              "  "
            ]
          },
          "metadata": {},
          "execution_count": 84
        }
      ]
    },
    {
      "cell_type": "code",
      "source": [
        "data=data.drop_duplicates(subset=['cycle'], keep='last')\n",
        "data"
      ],
      "metadata": {
        "colab": {
          "base_uri": "https://localhost:8080/",
          "height": 852
        },
        "id": "R-d6HTbi9HVj",
        "outputId": "83eb5bdf-2359-41e3-e667-f1c03bcdae33"
      },
      "execution_count": null,
      "outputs": [
        {
          "output_type": "execute_result",
          "data": {
            "text/plain": [
              "       Unnamed: 0  cycle  ambient_temperature             datetime  capacity  \\\n",
              "196           196      1                   24  2008-04-02 15:25:41  1.856487   \n",
              "392           392      2                   24  2008-04-02 19:43:48  1.846327   \n",
              "587           587      3                   24  2008-04-03 00:01:06  1.835349   \n",
              "781           781      4                   24  2008-04-03 04:16:37  1.835263   \n",
              "975           975      5                   24  2008-04-03 08:33:25  1.834646   \n",
              "...           ...    ...                  ...                  ...       ...   \n",
              "49092       49092    164                   24  2008-05-26 10:44:38  1.293464   \n",
              "49389       49389    165                   24  2008-05-26 15:30:43  1.288003   \n",
              "49686       49686    166                   24  2008-05-26 20:21:04  1.287453   \n",
              "49984       49984    167                   24  2008-05-27 15:52:41  1.309015   \n",
              "50284       50284    168                   24  2008-05-27 20:45:42  1.325079   \n",
              "\n",
              "       voltage_measured  current_measured  temperature_measured  current_load  \\\n",
              "196            3.277170         -0.006528             34.230853       -0.0006   \n",
              "392            3.300245         -0.000448             34.392137       -0.0006   \n",
              "587            3.327451          0.001026             34.232779       -0.0006   \n",
              "781            3.314182         -0.002234             34.413450       -0.0006   \n",
              "975            3.305497          0.000009             34.345885       -0.0006   \n",
              "...                 ...               ...                   ...           ...   \n",
              "49092          3.615561         -0.002548             34.075649        0.0006   \n",
              "49389          3.621191         -0.002460             33.991350        0.0006   \n",
              "49686          3.619185          0.000478             34.059198        0.0006   \n",
              "49984          3.595365         -0.002342             34.556514        0.0006   \n",
              "50284          3.589937         -0.000583             34.405920        0.0006   \n",
              "\n",
              "       voltage_load      time  \n",
              "196             0.0  3690.234  \n",
              "392             0.0  3672.344  \n",
              "587             0.0  3651.641  \n",
              "781             0.0  3631.563  \n",
              "975             0.0  3629.172  \n",
              "...             ...       ...  \n",
              "49092           0.0  2793.390  \n",
              "49389           0.0  2793.390  \n",
              "49686           0.0  2792.485  \n",
              "49984           0.0  2802.016  \n",
              "50284           0.0  2820.390  \n",
              "\n",
              "[168 rows x 11 columns]"
            ],
            "text/html": [
              "\n",
              "  <div id=\"df-f7580bb7-8283-4ad5-9e40-b64c876c7446\">\n",
              "    <div class=\"colab-df-container\">\n",
              "      <div>\n",
              "<style scoped>\n",
              "    .dataframe tbody tr th:only-of-type {\n",
              "        vertical-align: middle;\n",
              "    }\n",
              "\n",
              "    .dataframe tbody tr th {\n",
              "        vertical-align: top;\n",
              "    }\n",
              "\n",
              "    .dataframe thead th {\n",
              "        text-align: right;\n",
              "    }\n",
              "</style>\n",
              "<table border=\"1\" class=\"dataframe\">\n",
              "  <thead>\n",
              "    <tr style=\"text-align: right;\">\n",
              "      <th></th>\n",
              "      <th>Unnamed: 0</th>\n",
              "      <th>cycle</th>\n",
              "      <th>ambient_temperature</th>\n",
              "      <th>datetime</th>\n",
              "      <th>capacity</th>\n",
              "      <th>voltage_measured</th>\n",
              "      <th>current_measured</th>\n",
              "      <th>temperature_measured</th>\n",
              "      <th>current_load</th>\n",
              "      <th>voltage_load</th>\n",
              "      <th>time</th>\n",
              "    </tr>\n",
              "  </thead>\n",
              "  <tbody>\n",
              "    <tr>\n",
              "      <th>196</th>\n",
              "      <td>196</td>\n",
              "      <td>1</td>\n",
              "      <td>24</td>\n",
              "      <td>2008-04-02 15:25:41</td>\n",
              "      <td>1.856487</td>\n",
              "      <td>3.277170</td>\n",
              "      <td>-0.006528</td>\n",
              "      <td>34.230853</td>\n",
              "      <td>-0.0006</td>\n",
              "      <td>0.0</td>\n",
              "      <td>3690.234</td>\n",
              "    </tr>\n",
              "    <tr>\n",
              "      <th>392</th>\n",
              "      <td>392</td>\n",
              "      <td>2</td>\n",
              "      <td>24</td>\n",
              "      <td>2008-04-02 19:43:48</td>\n",
              "      <td>1.846327</td>\n",
              "      <td>3.300245</td>\n",
              "      <td>-0.000448</td>\n",
              "      <td>34.392137</td>\n",
              "      <td>-0.0006</td>\n",
              "      <td>0.0</td>\n",
              "      <td>3672.344</td>\n",
              "    </tr>\n",
              "    <tr>\n",
              "      <th>587</th>\n",
              "      <td>587</td>\n",
              "      <td>3</td>\n",
              "      <td>24</td>\n",
              "      <td>2008-04-03 00:01:06</td>\n",
              "      <td>1.835349</td>\n",
              "      <td>3.327451</td>\n",
              "      <td>0.001026</td>\n",
              "      <td>34.232779</td>\n",
              "      <td>-0.0006</td>\n",
              "      <td>0.0</td>\n",
              "      <td>3651.641</td>\n",
              "    </tr>\n",
              "    <tr>\n",
              "      <th>781</th>\n",
              "      <td>781</td>\n",
              "      <td>4</td>\n",
              "      <td>24</td>\n",
              "      <td>2008-04-03 04:16:37</td>\n",
              "      <td>1.835263</td>\n",
              "      <td>3.314182</td>\n",
              "      <td>-0.002234</td>\n",
              "      <td>34.413450</td>\n",
              "      <td>-0.0006</td>\n",
              "      <td>0.0</td>\n",
              "      <td>3631.563</td>\n",
              "    </tr>\n",
              "    <tr>\n",
              "      <th>975</th>\n",
              "      <td>975</td>\n",
              "      <td>5</td>\n",
              "      <td>24</td>\n",
              "      <td>2008-04-03 08:33:25</td>\n",
              "      <td>1.834646</td>\n",
              "      <td>3.305497</td>\n",
              "      <td>0.000009</td>\n",
              "      <td>34.345885</td>\n",
              "      <td>-0.0006</td>\n",
              "      <td>0.0</td>\n",
              "      <td>3629.172</td>\n",
              "    </tr>\n",
              "    <tr>\n",
              "      <th>...</th>\n",
              "      <td>...</td>\n",
              "      <td>...</td>\n",
              "      <td>...</td>\n",
              "      <td>...</td>\n",
              "      <td>...</td>\n",
              "      <td>...</td>\n",
              "      <td>...</td>\n",
              "      <td>...</td>\n",
              "      <td>...</td>\n",
              "      <td>...</td>\n",
              "      <td>...</td>\n",
              "    </tr>\n",
              "    <tr>\n",
              "      <th>49092</th>\n",
              "      <td>49092</td>\n",
              "      <td>164</td>\n",
              "      <td>24</td>\n",
              "      <td>2008-05-26 10:44:38</td>\n",
              "      <td>1.293464</td>\n",
              "      <td>3.615561</td>\n",
              "      <td>-0.002548</td>\n",
              "      <td>34.075649</td>\n",
              "      <td>0.0006</td>\n",
              "      <td>0.0</td>\n",
              "      <td>2793.390</td>\n",
              "    </tr>\n",
              "    <tr>\n",
              "      <th>49389</th>\n",
              "      <td>49389</td>\n",
              "      <td>165</td>\n",
              "      <td>24</td>\n",
              "      <td>2008-05-26 15:30:43</td>\n",
              "      <td>1.288003</td>\n",
              "      <td>3.621191</td>\n",
              "      <td>-0.002460</td>\n",
              "      <td>33.991350</td>\n",
              "      <td>0.0006</td>\n",
              "      <td>0.0</td>\n",
              "      <td>2793.390</td>\n",
              "    </tr>\n",
              "    <tr>\n",
              "      <th>49686</th>\n",
              "      <td>49686</td>\n",
              "      <td>166</td>\n",
              "      <td>24</td>\n",
              "      <td>2008-05-26 20:21:04</td>\n",
              "      <td>1.287453</td>\n",
              "      <td>3.619185</td>\n",
              "      <td>0.000478</td>\n",
              "      <td>34.059198</td>\n",
              "      <td>0.0006</td>\n",
              "      <td>0.0</td>\n",
              "      <td>2792.485</td>\n",
              "    </tr>\n",
              "    <tr>\n",
              "      <th>49984</th>\n",
              "      <td>49984</td>\n",
              "      <td>167</td>\n",
              "      <td>24</td>\n",
              "      <td>2008-05-27 15:52:41</td>\n",
              "      <td>1.309015</td>\n",
              "      <td>3.595365</td>\n",
              "      <td>-0.002342</td>\n",
              "      <td>34.556514</td>\n",
              "      <td>0.0006</td>\n",
              "      <td>0.0</td>\n",
              "      <td>2802.016</td>\n",
              "    </tr>\n",
              "    <tr>\n",
              "      <th>50284</th>\n",
              "      <td>50284</td>\n",
              "      <td>168</td>\n",
              "      <td>24</td>\n",
              "      <td>2008-05-27 20:45:42</td>\n",
              "      <td>1.325079</td>\n",
              "      <td>3.589937</td>\n",
              "      <td>-0.000583</td>\n",
              "      <td>34.405920</td>\n",
              "      <td>0.0006</td>\n",
              "      <td>0.0</td>\n",
              "      <td>2820.390</td>\n",
              "    </tr>\n",
              "  </tbody>\n",
              "</table>\n",
              "<p>168 rows × 11 columns</p>\n",
              "</div>\n",
              "      <button class=\"colab-df-convert\" onclick=\"convertToInteractive('df-f7580bb7-8283-4ad5-9e40-b64c876c7446')\"\n",
              "              title=\"Convert this dataframe to an interactive table.\"\n",
              "              style=\"display:none;\">\n",
              "        \n",
              "  <svg xmlns=\"http://www.w3.org/2000/svg\" height=\"24px\"viewBox=\"0 0 24 24\"\n",
              "       width=\"24px\">\n",
              "    <path d=\"M0 0h24v24H0V0z\" fill=\"none\"/>\n",
              "    <path d=\"M18.56 5.44l.94 2.06.94-2.06 2.06-.94-2.06-.94-.94-2.06-.94 2.06-2.06.94zm-11 1L8.5 8.5l.94-2.06 2.06-.94-2.06-.94L8.5 2.5l-.94 2.06-2.06.94zm10 10l.94 2.06.94-2.06 2.06-.94-2.06-.94-.94-2.06-.94 2.06-2.06.94z\"/><path d=\"M17.41 7.96l-1.37-1.37c-.4-.4-.92-.59-1.43-.59-.52 0-1.04.2-1.43.59L10.3 9.45l-7.72 7.72c-.78.78-.78 2.05 0 2.83L4 21.41c.39.39.9.59 1.41.59.51 0 1.02-.2 1.41-.59l7.78-7.78 2.81-2.81c.8-.78.8-2.07 0-2.86zM5.41 20L4 18.59l7.72-7.72 1.47 1.35L5.41 20z\"/>\n",
              "  </svg>\n",
              "      </button>\n",
              "      \n",
              "  <style>\n",
              "    .colab-df-container {\n",
              "      display:flex;\n",
              "      flex-wrap:wrap;\n",
              "      gap: 12px;\n",
              "    }\n",
              "\n",
              "    .colab-df-convert {\n",
              "      background-color: #E8F0FE;\n",
              "      border: none;\n",
              "      border-radius: 50%;\n",
              "      cursor: pointer;\n",
              "      display: none;\n",
              "      fill: #1967D2;\n",
              "      height: 32px;\n",
              "      padding: 0 0 0 0;\n",
              "      width: 32px;\n",
              "    }\n",
              "\n",
              "    .colab-df-convert:hover {\n",
              "      background-color: #E2EBFA;\n",
              "      box-shadow: 0px 1px 2px rgba(60, 64, 67, 0.3), 0px 1px 3px 1px rgba(60, 64, 67, 0.15);\n",
              "      fill: #174EA6;\n",
              "    }\n",
              "\n",
              "    [theme=dark] .colab-df-convert {\n",
              "      background-color: #3B4455;\n",
              "      fill: #D2E3FC;\n",
              "    }\n",
              "\n",
              "    [theme=dark] .colab-df-convert:hover {\n",
              "      background-color: #434B5C;\n",
              "      box-shadow: 0px 1px 3px 1px rgba(0, 0, 0, 0.15);\n",
              "      filter: drop-shadow(0px 1px 2px rgba(0, 0, 0, 0.3));\n",
              "      fill: #FFFFFF;\n",
              "    }\n",
              "  </style>\n",
              "\n",
              "      <script>\n",
              "        const buttonEl =\n",
              "          document.querySelector('#df-f7580bb7-8283-4ad5-9e40-b64c876c7446 button.colab-df-convert');\n",
              "        buttonEl.style.display =\n",
              "          google.colab.kernel.accessAllowed ? 'block' : 'none';\n",
              "\n",
              "        async function convertToInteractive(key) {\n",
              "          const element = document.querySelector('#df-f7580bb7-8283-4ad5-9e40-b64c876c7446');\n",
              "          const dataTable =\n",
              "            await google.colab.kernel.invokeFunction('convertToInteractive',\n",
              "                                                     [key], {});\n",
              "          if (!dataTable) return;\n",
              "\n",
              "          const docLinkHtml = 'Like what you see? Visit the ' +\n",
              "            '<a target=\"_blank\" href=https://colab.research.google.com/notebooks/data_table.ipynb>data table notebook</a>'\n",
              "            + ' to learn more about interactive tables.';\n",
              "          element.innerHTML = '';\n",
              "          dataTable['output_type'] = 'display_data';\n",
              "          await google.colab.output.renderOutput(dataTable, element);\n",
              "          const docLink = document.createElement('div');\n",
              "          docLink.innerHTML = docLinkHtml;\n",
              "          element.appendChild(docLink);\n",
              "        }\n",
              "      </script>\n",
              "    </div>\n",
              "  </div>\n",
              "  "
            ]
          },
          "metadata": {},
          "execution_count": 85
        }
      ]
    },
    {
      "cell_type": "code",
      "source": [
        "import matplotlib.pyplot as plt\n",
        "plt.plot(range(len(data[\"capacity\"])),data[\"capacity\"])\n",
        "plt.show()"
      ],
      "metadata": {
        "colab": {
          "base_uri": "https://localhost:8080/",
          "height": 265
        },
        "id": "6RRhYwuU9HRJ",
        "outputId": "114d02bf-341a-4f7b-988d-321b182fb26d"
      },
      "execution_count": null,
      "outputs": [
        {
          "output_type": "display_data",
          "data": {
            "text/plain": [
              "<Figure size 432x288 with 1 Axes>"
            ],
            "image/png": "[encoded data removed]"
          },
          "metadata": {
            "needs_background": "light"
          }
        }
      ]
    },
    {
      "cell_type": "code",
      "source": [
        "capacity=data[[\"capacity\"]]\n",
        "capacity=capacity.set_index(pd.Index(range(len(capacity))))\n",
        "capacity"
      ],
      "metadata": {
        "colab": {
          "base_uri": "https://localhost:8080/",
          "height": 424
        },
        "id": "ompghabq9HMB",
        "outputId": "a34b8b5d-b791-46a6-e83e-bf39bf122134"
      },
      "execution_count": null,
      "outputs": [
        {
          "output_type": "execute_result",
          "data": {
            "text/plain": [
              "     capacity\n",
              "0    1.856487\n",
              "1    1.846327\n",
              "2    1.835349\n",
              "3    1.835263\n",
              "4    1.834646\n",
              "..        ...\n",
              "163  1.293464\n",
              "164  1.288003\n",
              "165  1.287453\n",
              "166  1.309015\n",
              "167  1.325079\n",
              "\n",
              "[168 rows x 1 columns]"
            ],
            "text/html": [
              "\n",
              "  <div id=\"df-05e31429-1ee4-46f0-963a-0c82c18c5e76\">\n",
              "    <div class=\"colab-df-container\">\n",
              "      <div>\n",
              "<style scoped>\n",
              "    .dataframe tbody tr th:only-of-type {\n",
              "        vertical-align: middle;\n",
              "    }\n",
              "\n",
              "    .dataframe tbody tr th {\n",
              "        vertical-align: top;\n",
              "    }\n",
              "\n",
              "    .dataframe thead th {\n",
              "        text-align: right;\n",
              "    }\n",
              "</style>\n",
              "<table border=\"1\" class=\"dataframe\">\n",
              "  <thead>\n",
              "    <tr style=\"text-align: right;\">\n",
              "      <th></th>\n",
              "      <th>capacity</th>\n",
              "    </tr>\n",
              "  </thead>\n",
              "  <tbody>\n",
              "    <tr>\n",
              "      <th>0</th>\n",
              "      <td>1.856487</td>\n",
              "    </tr>\n",
              "    <tr>\n",
              "      <th>1</th>\n",
              "      <td>1.846327</td>\n",
              "    </tr>\n",
              "    <tr>\n",
              "      <th>2</th>\n",
              "      <td>1.835349</td>\n",
              "    </tr>\n",
              "    <tr>\n",
              "      <th>3</th>\n",
              "      <td>1.835263</td>\n",
              "    </tr>\n",
              "    <tr>\n",
              "      <th>4</th>\n",
              "      <td>1.834646</td>\n",
              "    </tr>\n",
              "    <tr>\n",
              "      <th>...</th>\n",
              "      <td>...</td>\n",
              "    </tr>\n",
              "    <tr>\n",
              "      <th>163</th>\n",
              "      <td>1.293464</td>\n",
              "    </tr>\n",
              "    <tr>\n",
              "      <th>164</th>\n",
              "      <td>1.288003</td>\n",
              "    </tr>\n",
              "    <tr>\n",
              "      <th>165</th>\n",
              "      <td>1.287453</td>\n",
              "    </tr>\n",
              "    <tr>\n",
              "      <th>166</th>\n",
              "      <td>1.309015</td>\n",
              "    </tr>\n",
              "    <tr>\n",
              "      <th>167</th>\n",
              "      <td>1.325079</td>\n",
              "    </tr>\n",
              "  </tbody>\n",
              "</table>\n",
              "<p>168 rows × 1 columns</p>\n",
              "</div>\n",
              "      <button class=\"colab-df-convert\" onclick=\"convertToInteractive('df-05e31429-1ee4-46f0-963a-0c82c18c5e76')\"\n",
              "              title=\"Convert this dataframe to an interactive table.\"\n",
              "              style=\"display:none;\">\n",
              "        \n",
              "  <svg xmlns=\"http://www.w3.org/2000/svg\" height=\"24px\"viewBox=\"0 0 24 24\"\n",
              "       width=\"24px\">\n",
              "    <path d=\"M0 0h24v24H0V0z\" fill=\"none\"/>\n",
              "    <path d=\"M18.56 5.44l.94 2.06.94-2.06 2.06-.94-2.06-.94-.94-2.06-.94 2.06-2.06.94zm-11 1L8.5 8.5l.94-2.06 2.06-.94-2.06-.94L8.5 2.5l-.94 2.06-2.06.94zm10 10l.94 2.06.94-2.06 2.06-.94-2.06-.94-.94-2.06-.94 2.06-2.06.94z\"/><path d=\"M17.41 7.96l-1.37-1.37c-.4-.4-.92-.59-1.43-.59-.52 0-1.04.2-1.43.59L10.3 9.45l-7.72 7.72c-.78.78-.78 2.05 0 2.83L4 21.41c.39.39.9.59 1.41.59.51 0 1.02-.2 1.41-.59l7.78-7.78 2.81-2.81c.8-.78.8-2.07 0-2.86zM5.41 20L4 18.59l7.72-7.72 1.47 1.35L5.41 20z\"/>\n",
              "  </svg>\n",
              "      </button>\n",
              "      \n",
              "  <style>\n",
              "    .colab-df-container {\n",
              "      display:flex;\n",
              "      flex-wrap:wrap;\n",
              "      gap: 12px;\n",
              "    }\n",
              "\n",
              "    .colab-df-convert {\n",
              "      background-color: #E8F0FE;\n",
              "      border: none;\n",
              "      border-radius: 50%;\n",
              "      cursor: pointer;\n",
              "      display: none;\n",
              "      fill: #1967D2;\n",
              "      height: 32px;\n",
              "      padding: 0 0 0 0;\n",
              "      width: 32px;\n",
              "    }\n",
              "\n",
              "    .colab-df-convert:hover {\n",
              "      background-color: #E2EBFA;\n",
              "      box-shadow: 0px 1px 2px rgba(60, 64, 67, 0.3), 0px 1px 3px 1px rgba(60, 64, 67, 0.15);\n",
              "      fill: #174EA6;\n",
              "    }\n",
              "\n",
              "    [theme=dark] .colab-df-convert {\n",
              "      background-color: #3B4455;\n",
              "      fill: #D2E3FC;\n",
              "    }\n",
              "\n",
              "    [theme=dark] .colab-df-convert:hover {\n",
              "      background-color: #434B5C;\n",
              "      box-shadow: 0px 1px 3px 1px rgba(0, 0, 0, 0.15);\n",
              "      filter: drop-shadow(0px 1px 2px rgba(0, 0, 0, 0.3));\n",
              "      fill: #FFFFFF;\n",
              "    }\n",
              "  </style>\n",
              "\n",
              "      <script>\n",
              "        const buttonEl =\n",
              "          document.querySelector('#df-05e31429-1ee4-46f0-963a-0c82c18c5e76 button.colab-df-convert');\n",
              "        buttonEl.style.display =\n",
              "          google.colab.kernel.accessAllowed ? 'block' : 'none';\n",
              "\n",
              "        async function convertToInteractive(key) {\n",
              "          const element = document.querySelector('#df-05e31429-1ee4-46f0-963a-0c82c18c5e76');\n",
              "          const dataTable =\n",
              "            await google.colab.kernel.invokeFunction('convertToInteractive',\n",
              "                                                     [key], {});\n",
              "          if (!dataTable) return;\n",
              "\n",
              "          const docLinkHtml = 'Like what you see? Visit the ' +\n",
              "            '<a target=\"_blank\" href=https://colab.research.google.com/notebooks/data_table.ipynb>data table notebook</a>'\n",
              "            + ' to learn more about interactive tables.';\n",
              "          element.innerHTML = '';\n",
              "          dataTable['output_type'] = 'display_data';\n",
              "          await google.colab.output.renderOutput(dataTable, element);\n",
              "          const docLink = document.createElement('div');\n",
              "          docLink.innerHTML = docLinkHtml;\n",
              "          element.appendChild(docLink);\n",
              "        }\n",
              "      </script>\n",
              "    </div>\n",
              "  </div>\n",
              "  "
            ]
          },
          "metadata": {},
          "execution_count": 87
        }
      ]
    },
    {
      "cell_type": "code",
      "source": [
        "soh=[]\n",
        "for i in range(len(capacity)):\n",
        "  soh.append(capacity.loc[i].at[\"capacity\"]/capacity.loc[0].at[\"capacity\"])"
      ],
      "metadata": {
        "id": "6_g6MRNA9dhT"
      },
      "execution_count": null,
      "outputs": []
    },
    {
      "cell_type": "code",
      "source": [
        "plt.plot(range(len(soh)),soh)\n",
        "plt.show()"
      ],
      "metadata": {
        "colab": {
          "base_uri": "https://localhost:8080/",
          "height": 265
        },
        "id": "n6SiftOG9da6",
        "outputId": "06464487-b802-44f0-b1de-ca3a7b866254"
      },
      "execution_count": null,
      "outputs": [
        {
          "output_type": "display_data",
          "data": {
            "text/plain": [
              "<Figure size 432x288 with 1 Axes>"
            ],
            "image/png": "[encoded data removed]"
          },
          "metadata": {
            "needs_background": "light"
          }
        }
      ]
    },
    {
      "cell_type": "code",
      "source": [
        "capacity=np.asarray(capacity)"
      ],
      "metadata": {
        "id": "WRBvPXg19_cF"
      },
      "execution_count": null,
      "outputs": []
    },
    {
      "cell_type": "code",
      "source": [
        "type(capacity)"
      ],
      "metadata": {
        "colab": {
          "base_uri": "https://localhost:8080/"
        },
        "id": "Z0pj0c2r-D4n",
        "outputId": "d0f74e6a-88cf-4a86-a0f1-f6dec11f3943"
      },
      "execution_count": null,
      "outputs": [
        {
          "output_type": "execute_result",
          "data": {
            "text/plain": [
              "numpy.ndarray"
            ]
          },
          "metadata": {},
          "execution_count": 91
        }
      ]
    },
    {
      "cell_type": "code",
      "source": [
        "timestep = 5\n",
        "\n",
        "X= []\n",
        "Y=[]\n",
        "\n",
        "cap=capacity\n",
        "\n",
        "for i in range(len(capacity)- (timestep)):\n",
        "    X.append(capacity[i:i+timestep])\n",
        "    Y.append(soh[i+timestep])\n",
        "\n",
        "\n",
        "X=np.asanyarray(X)\n",
        "Y=np.asanyarray(Y)\n",
        "\n",
        "\n",
        "k = 100\n",
        "Xtrain = X[:k,:,:]  \n",
        "Ytrain = Y[:k]  "
      ],
      "metadata": {
        "id": "Cznc33Md9z3V"
      },
      "execution_count": null,
      "outputs": []
    },
    {
      "cell_type": "code",
      "source": [
        "from keras.models import Sequential\n",
        "from keras.layers import Dense,RepeatVector\n",
        "from keras.layers import Flatten\n",
        "from keras.layers import TimeDistributed\n",
        "from keras.layers.convolutional import Conv1D\n",
        "from keras.layers.convolutional import MaxPooling1D"
      ],
      "metadata": {
        "id": "qTcxmCyr-juv"
      },
      "execution_count": null,
      "outputs": []
    },
    {
      "cell_type": "code",
      "execution_count": null,
      "metadata": {
        "colab": {
          "base_uri": "https://localhost:8080/"
        },
        "id": "NWdRySu_8-on",
        "outputId": "9b14a104-3abd-4817-b83f-40288bca05d0"
      },
      "outputs": [
        {
          "output_type": "stream",
          "name": "stdout",
          "text": [
            "Epoch 1/10\n",
            "4/4 [==============================] - 1s 6ms/step - loss: 0.6384\n",
            "Epoch 2/10\n",
            "4/4 [==============================] - 0s 5ms/step - loss: 0.0621\n",
            "Epoch 3/10\n",
            "4/4 [==============================] - 0s 5ms/step - loss: 0.0558\n",
            "Epoch 4/10\n",
            "4/4 [==============================] - 0s 5ms/step - loss: 0.0419\n",
            "Epoch 5/10\n",
            "4/4 [==============================] - 0s 5ms/step - loss: 0.0131\n",
            "Epoch 6/10\n",
            "4/4 [==============================] - 0s 5ms/step - loss: 0.0173\n",
            "Epoch 7/10\n",
            "4/4 [==============================] - 0s 5ms/step - loss: 0.0019\n",
            "Epoch 8/10\n",
            "4/4 [==============================] - 0s 5ms/step - loss: 0.0077\n",
            "Epoch 9/10\n",
            "4/4 [==============================] - 0s 5ms/step - loss: 8.5601e-04\n",
            "Epoch 10/10\n",
            "4/4 [==============================] - 0s 5ms/step - loss: 0.0027\n"
          ]
        },
        {
          "output_type": "execute_result",
          "data": {
            "text/plain": [
              "<keras.callbacks.History at 0x7f9a042807d0>"
            ]
          },
          "metadata": {},
          "execution_count": 94
        }
      ],
      "source": [
        "model = Sequential()\n",
        "model.add(Conv1D(filters=256, kernel_size=2, activation='relu', input_shape=(5, 1)))\n",
        "model.add(Conv1D(filters=256, kernel_size=2, activation='relu'))\n",
        "model.add(Conv1D(filters=128, kernel_size=2, activation='relu'))\n",
        "model.add(Conv1D(filters=128, kernel_size=2, activation='relu'))\n",
        "\n",
        "model.add(Flatten())\n",
        "model.add(Dense(100, activation='relu'))\n",
        "model.add(Dense(1))\n",
        "model.compile(optimizer='adam', loss='mse')\n",
        "# fit model\n",
        "model.fit(Xtrain, Ytrain, epochs=10)"
      ]
    },
    {
      "cell_type": "code",
      "source": [
        "Xtest = X[k:,:,:]  \n",
        "Ytest= Y[k:]  "
      ],
      "metadata": {
        "id": "9Upz_yjr-q3Q"
      },
      "execution_count": null,
      "outputs": []
    },
    {
      "cell_type": "code",
      "source": [
        "from sklearn.preprocessing import MinMaxScaler\n",
        "from sklearn.metrics import mean_squared_error"
      ],
      "metadata": {
        "id": "YQS_fo2c_Wp7"
      },
      "execution_count": null,
      "outputs": []
    },
    {
      "cell_type": "code",
      "source": [
        "preds = model.predict(Xtest)\n",
        "\n",
        "\n",
        "\n",
        "Ytest=np.asanyarray(Ytest)  \n",
        "Ytest=Ytest.reshape(-1,1) \n",
        "\n",
        "\n",
        "\n",
        "Ytrain=np.asanyarray(Ytrain)  \n",
        "Ytrain=Ytrain.reshape(-1,1) \n",
        "\n",
        "\n",
        "mean_squared_error(Ytest,preds)"
      ],
      "metadata": {
        "colab": {
          "base_uri": "https://localhost:8080/"
        },
        "id": "5z4yx_kF-9Bm",
        "outputId": "58157f8a-7dd4-42b3-ea02-30d29a58a03e"
      },
      "execution_count": null,
      "outputs": [
        {
          "output_type": "stream",
          "name": "stdout",
          "text": [
            "2/2 [==============================] - 0s 6ms/step\n"
          ]
        },
        {
          "output_type": "execute_result",
          "data": {
            "text/plain": [
              "0.00029889434082960625"
            ]
          },
          "metadata": {},
          "execution_count": 97
        }
      ]
    },
    {
      "cell_type": "code",
      "source": [
        "plt.plot(range(len(preds)),preds)\n",
        "plt.plot(range(len(Ytest)),Ytest)"
      ],
      "metadata": {
        "colab": {
          "base_uri": "https://localhost:8080/",
          "height": 282
        },
        "id": "V4Zq6b2F_vJd",
        "outputId": "ae22bff0-3e3a-4df5-d0f9-3a000bed7176"
      },
      "execution_count": null,
      "outputs": [
        {
          "output_type": "execute_result",
          "data": {
            "text/plain": [
              "[<matplotlib.lines.Line2D at 0x7f9a76521d90>]"
            ]
          },
          "metadata": {},
          "execution_count": 98
        },
        {
          "output_type": "display_data",
          "data": {
            "text/plain": [
              "<Figure size 432x288 with 1 Axes>"
            ],
            "image/png": "[encoded data removed]"
          },
          "metadata": {
            "needs_background": "light"
          }
        }
      ]
    },
    {
      "cell_type": "code",
      "source": [
        "preds = model.predict(X)"
      ],
      "metadata": {
        "colab": {
          "base_uri": "https://localhost:8080/"
        },
        "id": "qVBAZPnoACQV",
        "outputId": "4dfea386-2537-4cf0-e7f3-e871d736ebd2"
      },
      "execution_count": null,
      "outputs": [
        {
          "output_type": "stream",
          "name": "stdout",
          "text": [
            "6/6 [==============================] - 0s 3ms/step\n"
          ]
        }
      ]
    },
    {
      "cell_type": "code",
      "source": [
        "preds"
      ],
      "metadata": {
        "colab": {
          "base_uri": "https://localhost:8080/"
        },
        "id": "Gb9lbCeMaaVH",
        "outputId": "a4e82fad-486d-4f3f-aa2a-c663dfb57182"
      },
      "execution_count": null,
      "outputs": [
        {
          "output_type": "execute_result",
          "data": {
            "text/plain": [
              "array([[0.9701741 ],\n",
              "       [0.96864283],\n",
              "       [0.96835864],\n",
              "       [0.9680851 ],\n",
              "       [0.9667711 ],\n",
              "       [0.96505153],\n",
              "       [0.96383524],\n",
              "       [0.9631153 ],\n",
              "       [0.96162564],\n",
              "       [0.9598297 ],\n",
              "       [0.95823497],\n",
              "       [0.95634735],\n",
              "       [0.9544584 ],\n",
              "       [0.9532738 ],\n",
              "       [0.95306414],\n",
              "       [0.9545608 ],\n",
              "       [0.9606742 ],\n",
              "       [0.96767175],\n",
              "       [0.97064114],\n",
              "       [0.96856457],\n",
              "       [0.96556205],\n",
              "       [0.9637149 ],\n",
              "       [0.9618752 ],\n",
              "       [0.9600763 ],\n",
              "       [0.95848846],\n",
              "       [0.9566268 ],\n",
              "       [0.95641905],\n",
              "       [0.9612838 ],\n",
              "       [0.96577513],\n",
              "       [0.96566886],\n",
              "       [0.9612701 ],\n",
              "       [0.95696604],\n",
              "       [0.9536795 ],\n",
              "       [0.9503397 ],\n",
              "       [0.94676334],\n",
              "       [0.9431652 ],\n",
              "       [0.94047326],\n",
              "       [0.9383641 ],\n",
              "       [0.9366509 ],\n",
              "       [0.93574315],\n",
              "       [0.9348453 ],\n",
              "       [0.9326323 ],\n",
              "       [0.9288888 ],\n",
              "       [0.92699325],\n",
              "       [0.9322527 ],\n",
              "       [0.9389347 ],\n",
              "       [0.94078064],\n",
              "       [0.93682885],\n",
              "       [0.931562  ],\n",
              "       [0.92745894],\n",
              "       [0.9241762 ],\n",
              "       [0.9207431 ],\n",
              "       [0.9167468 ],\n",
              "       [0.9129019 ],\n",
              "       [0.909814  ],\n",
              "       [0.90724415],\n",
              "       [0.9045715 ],\n",
              "       [0.9012194 ],\n",
              "       [0.8974152 ],\n",
              "       [0.89415354],\n",
              "       [0.89113426],\n",
              "       [0.8882589 ],\n",
              "       [0.88523877],\n",
              "       [0.8818904 ],\n",
              "       [0.87853056],\n",
              "       [0.8755203 ],\n",
              "       [0.8729865 ],\n",
              "       [0.8703585 ],\n",
              "       [0.86711305],\n",
              "       [0.86376804],\n",
              "       [0.8606065 ],\n",
              "       [0.8572856 ],\n",
              "       [0.85411227],\n",
              "       [0.85223997],\n",
              "       [0.8520892 ],\n",
              "       [0.8504371 ],\n",
              "       [0.8466174 ],\n",
              "       [0.842311  ],\n",
              "       [0.83964497],\n",
              "       [0.8379265 ],\n",
              "       [0.8358232 ],\n",
              "       [0.8325427 ],\n",
              "       [0.8286311 ],\n",
              "       [0.8255154 ],\n",
              "       [0.82323164],\n",
              "       [0.82419604],\n",
              "       [0.83355045],\n",
              "       [0.8411357 ],\n",
              "       [0.8409339 ],\n",
              "       [0.83381796],\n",
              "       [0.82731926],\n",
              "       [0.8227602 ],\n",
              "       [0.8192326 ],\n",
              "       [0.81627303],\n",
              "       [0.8135371 ],\n",
              "       [0.810362  ],\n",
              "       [0.80705255],\n",
              "       [0.80401874],\n",
              "       [0.8019224 ],\n",
              "       [0.80214244],\n",
              "       [0.80409527],\n",
              "       [0.8043223 ],\n",
              "       [0.80116844],\n",
              "       [0.79580075],\n",
              "       [0.79164433],\n",
              "       [0.78959155],\n",
              "       [0.788169  ],\n",
              "       [0.7856909 ],\n",
              "       [0.7826423 ],\n",
              "       [0.7803167 ],\n",
              "       [0.778558  ],\n",
              "       [0.77664775],\n",
              "       [0.77430475],\n",
              "       [0.7720143 ],\n",
              "       [0.77031577],\n",
              "       [0.7697994 ],\n",
              "       [0.77256733],\n",
              "       [0.77628744],\n",
              "       [0.7765157 ],\n",
              "       [0.77269256],\n",
              "       [0.7679146 ],\n",
              "       [0.7644752 ],\n",
              "       [0.7619165 ],\n",
              "       [0.759497  ],\n",
              "       [0.7569903 ],\n",
              "       [0.75447375],\n",
              "       [0.75220376],\n",
              "       [0.75051785],\n",
              "       [0.74941397],\n",
              "       [0.75014776],\n",
              "       [0.7522297 ],\n",
              "       [0.75258946],\n",
              "       [0.7503248 ],\n",
              "       [0.7465919 ],\n",
              "       [0.74392647],\n",
              "       [0.74254066],\n",
              "       [0.7413915 ],\n",
              "       [0.7396472 ],\n",
              "       [0.7375052 ],\n",
              "       [0.7357786 ],\n",
              "       [0.73421323],\n",
              "       [0.73234063],\n",
              "       [0.73001   ],\n",
              "       [0.72771674],\n",
              "       [0.7261904 ],\n",
              "       [0.7257063 ],\n",
              "       [0.72751176],\n",
              "       [0.7327498 ],\n",
              "       [0.7361585 ],\n",
              "       [0.73521036],\n",
              "       [0.73133445],\n",
              "       [0.7278938 ],\n",
              "       [0.7254799 ],\n",
              "       [0.7237265 ],\n",
              "       [0.7220879 ],\n",
              "       [0.72038317],\n",
              "       [0.7190526 ],\n",
              "       [0.7182726 ],\n",
              "       [0.717433  ],\n",
              "       [0.7164134 ],\n",
              "       [0.715038  ],\n",
              "       [0.7133784 ],\n",
              "       [0.71260744]], dtype=float32)"
            ]
          },
          "metadata": {},
          "execution_count": 100
        }
      ]
    },
    {
      "cell_type": "code",
      "source": [
        "plt.plot(range(len(preds)),preds)\n",
        "plt.plot(range(len(Y)),Y)"
      ],
      "metadata": {
        "colab": {
          "base_uri": "https://localhost:8080/",
          "height": 282
        },
        "id": "FdkTwLPXBMaQ",
        "outputId": "e3227e1d-c4be-47a4-a796-3894b08dcf2c"
      },
      "execution_count": null,
      "outputs": [
        {
          "output_type": "execute_result",
          "data": {
            "text/plain": [
              "[<matplotlib.lines.Line2D at 0x7f9a8a4476d0>]"
            ]
          },
          "metadata": {},
          "execution_count": 101
        },
        {
          "output_type": "display_data",
          "data": {
            "text/plain": [
              "<Figure size 432x288 with 1 Axes>"
            ],
            "image/png": "[encoded data removed]"
          },
          "metadata": {
            "needs_background": "light"
          }
        }
      ]
    },
    {
      "cell_type": "markdown",
      "source": [
        "Predicting Capacity"
      ],
      "metadata": {
        "id": "h-BjWD-YGiJr"
      }
    },
    {
      "cell_type": "code",
      "source": [
        "timestep = 5\n",
        "\n",
        "X= []\n",
        "Y=[]\n",
        "\n",
        "cap=capacity\n",
        "\n",
        "for i in range(len(capacity)- (timestep)):\n",
        "    X.append(capacity[i:i+timestep])\n",
        "    Y.append(capacity[i+timestep])\n",
        "\n",
        "\n",
        "X=np.asanyarray(X)\n",
        "Y=np.asanyarray(Y)\n",
        "\n",
        "\n",
        "k = 100\n",
        "Xtrain = X[:k,:,:]  \n",
        "Ytrain = Y[:k] "
      ],
      "metadata": {
        "id": "0Cbk-Uu7BS8H"
      },
      "execution_count": null,
      "outputs": []
    },
    {
      "cell_type": "code",
      "source": [
        "model = Sequential()\n",
        "model.add(Conv1D(filters=256, kernel_size=2, activation='relu', input_shape=(5, 1)))\n",
        "model.add(Conv1D(filters=256, kernel_size=2, activation='relu'))\n",
        "model.add(Conv1D(filters=128, kernel_size=2, activation='relu'))\n",
        "model.add(Conv1D(filters=128, kernel_size=2, activation='relu'))\n",
        "\n",
        "model.add(Flatten())\n",
        "model.add(Dense(100, activation='relu'))\n",
        "model.add(Dense(1))\n",
        "model.compile(optimizer='adam', loss='mse')\n",
        "# fit model\n",
        "model.fit(Xtrain, Ytrain, epochs=10)"
      ],
      "metadata": {
        "colab": {
          "base_uri": "https://localhost:8080/"
        },
        "id": "zNdZu5HwGtzf",
        "outputId": "f11a5efd-3c37-4af5-bcb8-55797f23f336"
      },
      "execution_count": null,
      "outputs": [
        {
          "output_type": "stream",
          "name": "stdout",
          "text": [
            "Epoch 1/10\n",
            "4/4 [==============================] - 1s 6ms/step - loss: 2.0107\n",
            "Epoch 2/10\n",
            "4/4 [==============================] - 0s 5ms/step - loss: 0.2740\n",
            "Epoch 3/10\n",
            "4/4 [==============================] - 0s 5ms/step - loss: 0.0867\n",
            "Epoch 4/10\n",
            "4/4 [==============================] - 0s 5ms/step - loss: 0.2010\n",
            "Epoch 5/10\n",
            "4/4 [==============================] - 0s 5ms/step - loss: 0.0416\n",
            "Epoch 6/10\n",
            "4/4 [==============================] - 0s 5ms/step - loss: 0.0727\n",
            "Epoch 7/10\n",
            "4/4 [==============================] - 0s 4ms/step - loss: 0.0091\n",
            "Epoch 8/10\n",
            "4/4 [==============================] - 0s 5ms/step - loss: 0.0347\n",
            "Epoch 9/10\n",
            "4/4 [==============================] - 0s 5ms/step - loss: 0.0044\n",
            "Epoch 10/10\n",
            "4/4 [==============================] - 0s 6ms/step - loss: 0.0143\n"
          ]
        },
        {
          "output_type": "execute_result",
          "data": {
            "text/plain": [
              "<keras.callbacks.History at 0x7f9a8aa01ed0>"
            ]
          },
          "metadata": {},
          "execution_count": 103
        }
      ]
    },
    {
      "cell_type": "code",
      "source": [
        "Xtest = X[k:,:,:]  \n",
        "Ytest= Y[k:]  "
      ],
      "metadata": {
        "id": "PWh3D0x3HEsp"
      },
      "execution_count": null,
      "outputs": []
    },
    {
      "cell_type": "code",
      "source": [
        "preds = model.predict(Xtest)\n",
        "\n",
        "\n",
        "\n",
        "Ytest=np.asanyarray(Ytest)  \n",
        "Ytest=Ytest.reshape(-1,1) \n",
        "\n",
        "\n",
        "\n",
        "Ytrain=np.asanyarray(Ytrain)  \n",
        "Ytrain=Ytrain.reshape(-1,1) \n",
        "\n",
        "\n",
        "mean_squared_error(Ytest,preds)"
      ],
      "metadata": {
        "colab": {
          "base_uri": "https://localhost:8080/"
        },
        "id": "ZU5CyBKFHFE-",
        "outputId": "ac6a8281-7d9f-4a08-b2e7-ee078885e792"
      },
      "execution_count": null,
      "outputs": [
        {
          "output_type": "stream",
          "name": "stdout",
          "text": [
            "2/2 [==============================] - 0s 7ms/step\n"
          ]
        },
        {
          "output_type": "execute_result",
          "data": {
            "text/plain": [
              "0.0023133880209421404"
            ]
          },
          "metadata": {},
          "execution_count": 105
        }
      ]
    },
    {
      "cell_type": "code",
      "source": [
        "plt.plot(range(len(preds)),preds)\n",
        "plt.plot(range(len(Ytest)),Ytest)\n",
        "plt.show()"
      ],
      "metadata": {
        "colab": {
          "base_uri": "https://localhost:8080/",
          "height": 265
        },
        "id": "lBZVJUI8HIPq",
        "outputId": "52b599d6-9bbd-44ed-fb46-e9a32b180288"
      },
      "execution_count": null,
      "outputs": [
        {
          "output_type": "display_data",
          "data": {
            "text/plain": [
              "<Figure size 432x288 with 1 Axes>"
            ],
            "image/png": "[encoded data removed]"
          },
          "metadata": {
            "needs_background": "light"
          }
        }
      ]
    },
    {
      "cell_type": "code",
      "source": [
        "preds = model.predict(X)"
      ],
      "metadata": {
        "colab": {
          "base_uri": "https://localhost:8080/"
        },
        "id": "toBf2pImHMHi",
        "outputId": "c2a60841-f318-453c-c248-5c09e4b74d85"
      },
      "execution_count": null,
      "outputs": [
        {
          "output_type": "stream",
          "name": "stdout",
          "text": [
            "6/6 [==============================] - 0s 4ms/step\n"
          ]
        }
      ]
    },
    {
      "cell_type": "code",
      "source": [
        "preds"
      ],
      "metadata": {
        "colab": {
          "base_uri": "https://localhost:8080/"
        },
        "id": "zwkytPdcZ09D",
        "outputId": "1d3ebb3f-4743-4885-b01a-7ece95278126"
      },
      "execution_count": null,
      "outputs": [
        {
          "output_type": "execute_result",
          "data": {
            "text/plain": [
              "array([[1.8357178],\n",
              "       [1.832893 ],\n",
              "       [1.8325558],\n",
              "       [1.8320001],\n",
              "       [1.8295189],\n",
              "       [1.8260205],\n",
              "       [1.8235887],\n",
              "       [1.8223364],\n",
              "       [1.81953  ],\n",
              "       [1.8158928],\n",
              "       [1.8126711],\n",
              "       [1.8092864],\n",
              "       [1.8054696],\n",
              "       [1.8030916],\n",
              "       [1.802914 ],\n",
              "       [1.8060669],\n",
              "       [1.817613 ],\n",
              "       [1.831712 ],\n",
              "       [1.8379124],\n",
              "       [1.83283  ],\n",
              "       [1.8267677],\n",
              "       [1.8232872],\n",
              "       [1.8200157],\n",
              "       [1.8163598],\n",
              "       [1.8131539],\n",
              "       [1.8098552],\n",
              "       [1.8094981],\n",
              "       [1.8184692],\n",
              "       [1.8281473],\n",
              "       [1.8280435],\n",
              "       [1.818213 ],\n",
              "       [1.8100888],\n",
              "       [1.8037828],\n",
              "       [1.7974538],\n",
              "       [1.7904001],\n",
              "       [1.7834322],\n",
              "       [1.7782334],\n",
              "       [1.774198 ],\n",
              "       [1.7710637],\n",
              "       [1.7691249],\n",
              "       [1.7675169],\n",
              "       [1.7633213],\n",
              "       [1.7557724],\n",
              "       [1.7523075],\n",
              "       [1.7621416],\n",
              "       [1.7760357],\n",
              "       [1.7801534],\n",
              "       [1.7709538],\n",
              "       [1.7607331],\n",
              "       [1.7528971],\n",
              "       [1.7465892],\n",
              "       [1.7400379],\n",
              "       [1.7322402],\n",
              "       [1.7246783],\n",
              "       [1.7187562],\n",
              "       [1.7138984],\n",
              "       [1.7086964],\n",
              "       [1.7021697],\n",
              "       [1.6947851],\n",
              "       [1.6883093],\n",
              "       [1.6826324],\n",
              "       [1.6771184],\n",
              "       [1.6710874],\n",
              "       [1.6647545],\n",
              "       [1.6581458],\n",
              "       [1.652273 ],\n",
              "       [1.6474859],\n",
              "       [1.6423566],\n",
              "       [1.6360939],\n",
              "       [1.629527 ],\n",
              "       [1.6233383],\n",
              "       [1.6170596],\n",
              "       [1.6108433],\n",
              "       [1.607216 ],\n",
              "       [1.6069388],\n",
              "       [1.6040735],\n",
              "       [1.5964962],\n",
              "       [1.5876604],\n",
              "       [1.5827535],\n",
              "       [1.5795858],\n",
              "       [1.5755254],\n",
              "       [1.5690598],\n",
              "       [1.5614458],\n",
              "       [1.5552671],\n",
              "       [1.5510046],\n",
              "       [1.5536088],\n",
              "       [1.5705891],\n",
              "       [1.5868404],\n",
              "       [1.5868677],\n",
              "       [1.570662 ],\n",
              "       [1.5585757],\n",
              "       [1.5498992],\n",
              "       [1.5432088],\n",
              "       [1.537444 ],\n",
              "       [1.5322142],\n",
              "       [1.5260913],\n",
              "       [1.5195957],\n",
              "       [1.5136738],\n",
              "       [1.5098023],\n",
              "       [1.5101919],\n",
              "       [1.5140674],\n",
              "       [1.5149   ],\n",
              "       [1.5084059],\n",
              "       [1.4975988],\n",
              "       [1.489551 ],\n",
              "       [1.4856571],\n",
              "       [1.4832379],\n",
              "       [1.4783825],\n",
              "       [1.4722849],\n",
              "       [1.4677228],\n",
              "       [1.4645016],\n",
              "       [1.4608338],\n",
              "       [1.4561841],\n",
              "       [1.4517676],\n",
              "       [1.4484435],\n",
              "       [1.4476907],\n",
              "       [1.4529363],\n",
              "       [1.4603016],\n",
              "       [1.4612658],\n",
              "       [1.4530609],\n",
              "       [1.443396 ],\n",
              "       [1.4370102],\n",
              "       [1.4321679],\n",
              "       [1.4274883],\n",
              "       [1.4226184],\n",
              "       [1.417739 ],\n",
              "       [1.4133528],\n",
              "       [1.410071 ],\n",
              "       [1.408094 ],\n",
              "       [1.4095185],\n",
              "       [1.4135058],\n",
              "       [1.4146376],\n",
              "       [1.4098568],\n",
              "       [1.4022607],\n",
              "       [1.3972448],\n",
              "       [1.3945657],\n",
              "       [1.3925717],\n",
              "       [1.3891093],\n",
              "       [1.3848687],\n",
              "       [1.3814975],\n",
              "       [1.3785344],\n",
              "       [1.3749475],\n",
              "       [1.3703223],\n",
              "       [1.3658911],\n",
              "       [1.3629291],\n",
              "       [1.3621001],\n",
              "       [1.3659039],\n",
              "       [1.3757173],\n",
              "       [1.3829293],\n",
              "       [1.3810844],\n",
              "       [1.3724854],\n",
              "       [1.3661   ],\n",
              "       [1.3615583],\n",
              "       [1.3581346],\n",
              "       [1.3550283],\n",
              "       [1.3517834],\n",
              "       [1.349099 ],\n",
              "       [1.3476387],\n",
              "       [1.3461481],\n",
              "       [1.3440648],\n",
              "       [1.3413538],\n",
              "       [1.3382214],\n",
              "       [1.3367397]], dtype=float32)"
            ]
          },
          "metadata": {},
          "execution_count": 108
        }
      ]
    },
    {
      "cell_type": "code",
      "source": [
        "plt.plot(range(len(preds)),preds)\n",
        "plt.plot(range(len(Y)),Y)\n",
        "plt.show()"
      ],
      "metadata": {
        "colab": {
          "base_uri": "https://localhost:8080/",
          "height": 265
        },
        "id": "JLrSZvZjHQJ-",
        "outputId": "741c54ea-2360-4907-c325-b698bba71477"
      },
      "execution_count": null,
      "outputs": [
        {
          "output_type": "display_data",
          "data": {
            "text/plain": [
              "<Figure size 432x288 with 1 Axes>"
            ],
            "image/png": "[encoded data removed]"
          },
          "metadata": {
            "needs_background": "light"
          }
        }
      ]
    },
    {
      "cell_type": "code",
      "source": [],
      "metadata": {
        "id": "HCPEFm9JHU9B"
      },
      "execution_count": null,
      "outputs": []
    }
  ]
}