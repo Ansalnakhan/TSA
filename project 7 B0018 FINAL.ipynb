{
  "nbformat": 4,
  "nbformat_minor": 0,
  "metadata": {
    "colab": {
      "name": "Untitled41.ipynb",
      "provenance": [],
      "collapsed_sections": [],
      "authorship_tag": "ABX9TyNV1Q0ArPMH0kGs/EeiwHK+",
      "include_colab_link": true
    },
    "kernelspec": {
      "name": "python3",
      "display_name": "Python 3"
    },
    "language_info": {
      "name": "python"
    }
  },
  "cells": [
    {
      "cell_type": "markdown",
      "metadata": {
        "id": "view-in-github",
        "colab_type": "text"
      },
      "source": [
        "<a href=\"https://colab.research.google.com/github/Ansalnakhan/TSA/blob/main/project%207%20B0018%20FINAL.ipynb\" target=\"_parent\"><img src=\"https://colab.research.google.com/assets/colab-badge.svg\" alt=\"Open In Colab\"/></a>"
      ]
    },
    {
      "cell_type": "code",
      "execution_count": 17,
      "metadata": {
        "colab": {
          "base_uri": "https://localhost:8080/"
        },
        "id": "McbdgQooJD-C",
        "outputId": "3625b101-a46c-451e-b176-0e166c087d31"
      },
      "outputs": [
        {
          "output_type": "stream",
          "name": "stderr",
          "text": [
            "/usr/local/lib/python3.7/dist-packages/ipykernel_launcher.py:1: UserWarning: Config option `use_jedi` not recognized by `IPCompleter`.\n",
            "  \"\"\"Entry point for launching an IPython kernel.\n"
          ]
        }
      ],
      "source": [
        "%config Completer.use_jedi = False"
      ]
    },
    {
      "cell_type": "code",
      "source": [
        "%matplotlib inline\n",
        "!pip show tensorflow\n",
        "!wget -cq https://ti.arc.nasa.gov/c/5 -O naza.zip\n",
        "!unzip -qqo naza.zip -d battery_data"
      ],
      "metadata": {
        "colab": {
          "base_uri": "https://localhost:8080/"
        },
        "id": "04G9Li1GJguR",
        "outputId": "f62e1c2d-1112-4968-934f-a07dbaf69510"
      },
      "execution_count": 18,
      "outputs": [
        {
          "output_type": "stream",
          "name": "stdout",
          "text": [
            "Name: tensorflow\n",
            "Version: 2.8.2+zzzcolab20220527125636\n",
            "Summary: TensorFlow is an open source machine learning framework for everyone.\n",
            "Home-page: https://www.tensorflow.org/\n",
            "Author: Google Inc.\n",
            "Author-email: packages@tensorflow.org\n",
            "License: Apache 2.0\n",
            "Location: /usr/local/lib/python3.7/dist-packages\n",
            "Requires: libclang, wrapt, gast, absl-py, termcolor, keras-preprocessing, google-pasta, flatbuffers, keras, protobuf, tensorboard, numpy, tensorflow-estimator, opt-einsum, tensorflow-io-gcs-filesystem, astunparse, grpcio, setuptools, typing-extensions, six, h5py\n",
            "Required-by: kapre\n",
            "[naza.zip]\n",
            "  End-of-central-directory signature not found.  Either this file is not\n",
            "  a zipfile, or it constitutes one disk of a multi-part archive.  In the\n",
            "  latter case the central directory and zipfile comment will be found on\n",
            "  the last disk(s) of this archive.\n",
            "unzip:  cannot find zipfile directory in one of naza.zip or\n",
            "        naza.zip.zip, and cannot find naza.zip.ZIP, period.\n"
          ]
        }
      ]
    },
    {
      "cell_type": "code",
      "source": [
        "import datetime\n",
        "import numpy as np\n",
        "import pandas as pd\n",
        "from scipy.io import loadmat\n",
        "from sklearn.preprocessing import MinMaxScaler\n",
        "from sklearn.metrics import mean_squared_error\n",
        "from sklearn import metrics\n",
        "import matplotlib.pyplot as plt\n",
        "import seaborn as sns"
      ],
      "metadata": {
        "id": "cwQaAW7ZJluj"
      },
      "execution_count": 19,
      "outputs": []
    },
    {
      "cell_type": "code",
      "source": [
        "def load_data(battery):\n",
        "  mat = loadmat('/content/data/' + battery + '.mat')\n",
        "  print('Total data in dataset: ', len(mat[battery][0, 0]['cycle'][0]))\n",
        "  counter = 0\n",
        "  dataset = []\n",
        "  capacity_data = []\n",
        "  \n",
        "  for i in range(len(mat[battery][0, 0]['cycle'][0])):\n",
        "    row = mat[battery][0, 0]['cycle'][0, i]\n",
        "    if row['type'][0] == 'discharge':\n",
        "      ambient_temperature = row['ambient_temperature'][0][0]\n",
        "      date_time = datetime.datetime(int(row['time'][0][0]),\n",
        "                               int(row['time'][0][1]),\n",
        "                               int(row['time'][0][2]),\n",
        "                               int(row['time'][0][3]),\n",
        "                               int(row['time'][0][4])) + datetime.timedelta(seconds=int(row['time'][0][5]))\n",
        "      data = row['data']\n",
        "      capacity = data[0][0]['Capacity'][0][0]\n",
        "      for j in range(len(data[0][0]['Voltage_measured'][0])):\n",
        "        voltage_measured = data[0][0]['Voltage_measured'][0][j]\n",
        "        current_measured = data[0][0]['Current_measured'][0][j]\n",
        "        temperature_measured = data[0][0]['Temperature_measured'][0][j]\n",
        "        current_load = data[0][0]['Current_load'][0][j]\n",
        "        voltage_load = data[0][0]['Voltage_load'][0][j]\n",
        "        time = data[0][0]['Time'][0][j]\n",
        "        dataset.append([counter + 1, ambient_temperature, date_time, capacity,\n",
        "                        voltage_measured, current_measured,\n",
        "                        temperature_measured, current_load,\n",
        "                        voltage_load, time])\n",
        "      capacity_data.append([counter + 1, ambient_temperature, date_time, capacity])\n",
        "      counter = counter + 1\n",
        "  print(dataset[0])\n",
        "  return [pd.DataFrame(data=dataset,\n",
        "                       columns=['cycle', 'ambient_temperature', 'datetime',\n",
        "                                'capacity', 'voltage_measured',\n",
        "                                'current_measured', 'temperature_measured',\n",
        "                                'current_load', 'voltage_load', 'time']),\n",
        "          pd.DataFrame(data=capacity_data,\n",
        "                       columns=['cycle', 'ambient_temperature', 'datetime',\n",
        "                                'capacity'])]\n",
        "dataset, capacity = load_data('B0018')\n",
        "pd.set_option('display.max_columns', 10)\n",
        "print(dataset.head())\n",
        "dataset.describe()\n"
      ],
      "metadata": {
        "colab": {
          "base_uri": "https://localhost:8080/",
          "height": 574
        },
        "id": "tzEIqbsrJsyT",
        "outputId": "5b9da3c7-f173-4b00-a1e4-20565530ad81"
      },
      "execution_count": 20,
      "outputs": [
        {
          "output_type": "stream",
          "name": "stdout",
          "text": [
            "Total data in dataset:  319\n",
            "[1, 24, datetime.datetime(2008, 7, 7, 15, 15, 28), 1.8550045207910817, 4.188108651124536, 0.00013066734156636677, 23.8195202516044, 0.0006, 0.0, 0.0]\n",
            "   cycle  ambient_temperature            datetime  capacity  voltage_measured  \\\n",
            "0      1                   24 2008-07-07 15:15:28  1.855005          4.188109   \n",
            "1      1                   24 2008-07-07 15:15:28  1.855005          4.188196   \n",
            "2      1                   24 2008-07-07 15:15:28  1.855005          3.977432   \n",
            "3      1                   24 2008-07-07 15:15:28  1.855005          3.961974   \n",
            "4      1                   24 2008-07-07 15:15:28  1.855005          3.949835   \n",
            "\n",
            "   current_measured  temperature_measured  current_load  voltage_load    time  \n",
            "0          0.000131             23.819520        0.0006         0.000   0.000  \n",
            "1          0.001459             23.828807        0.0006         4.203   9.422  \n",
            "2         -2.005672             23.844944        1.9988         3.029  19.578  \n",
            "3         -2.012206             23.925577        1.9988         3.026  29.016  \n",
            "4         -2.012005             24.010628        1.9988         3.015  38.485  \n"
          ]
        },
        {
          "output_type": "execute_result",
          "data": {
            "text/plain": [
              "              cycle  ambient_temperature      capacity  voltage_measured  \\\n",
              "count  34866.000000              34866.0  34866.000000      34866.000000   \n",
              "mean      59.962657                 24.0      1.584405          3.501219   \n",
              "std       37.957008                  0.0      0.156427          0.250037   \n",
              "min        1.000000                 24.0      1.341051          2.278634   \n",
              "25%       27.000000                 24.0      1.428376          3.382813   \n",
              "50%       57.000000                 24.0      1.605737          3.497088   \n",
              "75%       92.000000                 24.0      1.711846          3.662815   \n",
              "max      132.000000                 24.0      1.855005          4.193543   \n",
              "\n",
              "       current_measured  temperature_measured  current_load  voltage_load  \\\n",
              "count      34866.000000          34866.000000  34866.000000  34866.000000   \n",
              "mean          -1.842923             31.083216      1.833923      2.408419   \n",
              "std            0.552445              3.649983      0.549609      0.744116   \n",
              "min           -2.026719             22.350256      0.000400      0.000000   \n",
              "25%           -2.009485             28.462162      1.998600      2.459000   \n",
              "50%           -2.008341             31.121895      1.998600      2.589000   \n",
              "75%           -2.007073             33.982822      1.998800      2.751000   \n",
              "max            0.014306             38.878688      1.999000      4.209000   \n",
              "\n",
              "               time  \n",
              "count  34866.000000  \n",
              "mean    1547.119848  \n",
              "std      908.373277  \n",
              "min        0.000000  \n",
              "25%      763.339250  \n",
              "50%     1537.289500  \n",
              "75%     2312.964500  \n",
              "max     3434.891000  "
            ],
            "text/html": [
              "\n",
              "  <div id=\"df-10e8522f-9cb7-4303-aaad-4fca836ba9a3\">\n",
              "    <div class=\"colab-df-container\">\n",
              "      <div>\n",
              "<style scoped>\n",
              "    .dataframe tbody tr th:only-of-type {\n",
              "        vertical-align: middle;\n",
              "    }\n",
              "\n",
              "    .dataframe tbody tr th {\n",
              "        vertical-align: top;\n",
              "    }\n",
              "\n",
              "    .dataframe thead th {\n",
              "        text-align: right;\n",
              "    }\n",
              "</style>\n",
              "<table border=\"1\" class=\"dataframe\">\n",
              "  <thead>\n",
              "    <tr style=\"text-align: right;\">\n",
              "      <th></th>\n",
              "      <th>cycle</th>\n",
              "      <th>ambient_temperature</th>\n",
              "      <th>capacity</th>\n",
              "      <th>voltage_measured</th>\n",
              "      <th>current_measured</th>\n",
              "      <th>temperature_measured</th>\n",
              "      <th>current_load</th>\n",
              "      <th>voltage_load</th>\n",
              "      <th>time</th>\n",
              "    </tr>\n",
              "  </thead>\n",
              "  <tbody>\n",
              "    <tr>\n",
              "      <th>count</th>\n",
              "      <td>34866.000000</td>\n",
              "      <td>34866.0</td>\n",
              "      <td>34866.000000</td>\n",
              "      <td>34866.000000</td>\n",
              "      <td>34866.000000</td>\n",
              "      <td>34866.000000</td>\n",
              "      <td>34866.000000</td>\n",
              "      <td>34866.000000</td>\n",
              "      <td>34866.000000</td>\n",
              "    </tr>\n",
              "    <tr>\n",
              "      <th>mean</th>\n",
              "      <td>59.962657</td>\n",
              "      <td>24.0</td>\n",
              "      <td>1.584405</td>\n",
              "      <td>3.501219</td>\n",
              "      <td>-1.842923</td>\n",
              "      <td>31.083216</td>\n",
              "      <td>1.833923</td>\n",
              "      <td>2.408419</td>\n",
              "      <td>1547.119848</td>\n",
              "    </tr>\n",
              "    <tr>\n",
              "      <th>std</th>\n",
              "      <td>37.957008</td>\n",
              "      <td>0.0</td>\n",
              "      <td>0.156427</td>\n",
              "      <td>0.250037</td>\n",
              "      <td>0.552445</td>\n",
              "      <td>3.649983</td>\n",
              "      <td>0.549609</td>\n",
              "      <td>0.744116</td>\n",
              "      <td>908.373277</td>\n",
              "    </tr>\n",
              "    <tr>\n",
              "      <th>min</th>\n",
              "      <td>1.000000</td>\n",
              "      <td>24.0</td>\n",
              "      <td>1.341051</td>\n",
              "      <td>2.278634</td>\n",
              "      <td>-2.026719</td>\n",
              "      <td>22.350256</td>\n",
              "      <td>0.000400</td>\n",
              "      <td>0.000000</td>\n",
              "      <td>0.000000</td>\n",
              "    </tr>\n",
              "    <tr>\n",
              "      <th>25%</th>\n",
              "      <td>27.000000</td>\n",
              "      <td>24.0</td>\n",
              "      <td>1.428376</td>\n",
              "      <td>3.382813</td>\n",
              "      <td>-2.009485</td>\n",
              "      <td>28.462162</td>\n",
              "      <td>1.998600</td>\n",
              "      <td>2.459000</td>\n",
              "      <td>763.339250</td>\n",
              "    </tr>\n",
              "    <tr>\n",
              "      <th>50%</th>\n",
              "      <td>57.000000</td>\n",
              "      <td>24.0</td>\n",
              "      <td>1.605737</td>\n",
              "      <td>3.497088</td>\n",
              "      <td>-2.008341</td>\n",
              "      <td>31.121895</td>\n",
              "      <td>1.998600</td>\n",
              "      <td>2.589000</td>\n",
              "      <td>1537.289500</td>\n",
              "    </tr>\n",
              "    <tr>\n",
              "      <th>75%</th>\n",
              "      <td>92.000000</td>\n",
              "      <td>24.0</td>\n",
              "      <td>1.711846</td>\n",
              "      <td>3.662815</td>\n",
              "      <td>-2.007073</td>\n",
              "      <td>33.982822</td>\n",
              "      <td>1.998800</td>\n",
              "      <td>2.751000</td>\n",
              "      <td>2312.964500</td>\n",
              "    </tr>\n",
              "    <tr>\n",
              "      <th>max</th>\n",
              "      <td>132.000000</td>\n",
              "      <td>24.0</td>\n",
              "      <td>1.855005</td>\n",
              "      <td>4.193543</td>\n",
              "      <td>0.014306</td>\n",
              "      <td>38.878688</td>\n",
              "      <td>1.999000</td>\n",
              "      <td>4.209000</td>\n",
              "      <td>3434.891000</td>\n",
              "    </tr>\n",
              "  </tbody>\n",
              "</table>\n",
              "</div>\n",
              "      <button class=\"colab-df-convert\" onclick=\"convertToInteractive('df-10e8522f-9cb7-4303-aaad-4fca836ba9a3')\"\n",
              "              title=\"Convert this dataframe to an interactive table.\"\n",
              "              style=\"display:none;\">\n",
              "        \n",
              "  <svg xmlns=\"http://www.w3.org/2000/svg\" height=\"24px\"viewBox=\"0 0 24 24\"\n",
              "       width=\"24px\">\n",
              "    <path d=\"M0 0h24v24H0V0z\" fill=\"none\"/>\n",
              "    <path d=\"M18.56 5.44l.94 2.06.94-2.06 2.06-.94-2.06-.94-.94-2.06-.94 2.06-2.06.94zm-11 1L8.5 8.5l.94-2.06 2.06-.94-2.06-.94L8.5 2.5l-.94 2.06-2.06.94zm10 10l.94 2.06.94-2.06 2.06-.94-2.06-.94-.94-2.06-.94 2.06-2.06.94z\"/><path d=\"M17.41 7.96l-1.37-1.37c-.4-.4-.92-.59-1.43-.59-.52 0-1.04.2-1.43.59L10.3 9.45l-7.72 7.72c-.78.78-.78 2.05 0 2.83L4 21.41c.39.39.9.59 1.41.59.51 0 1.02-.2 1.41-.59l7.78-7.78 2.81-2.81c.8-.78.8-2.07 0-2.86zM5.41 20L4 18.59l7.72-7.72 1.47 1.35L5.41 20z\"/>\n",
              "  </svg>\n",
              "      </button>\n",
              "      \n",
              "  <style>\n",
              "    .colab-df-container {\n",
              "      display:flex;\n",
              "      flex-wrap:wrap;\n",
              "      gap: 12px;\n",
              "    }\n",
              "\n",
              "    .colab-df-convert {\n",
              "      background-color: #E8F0FE;\n",
              "      border: none;\n",
              "      border-radius: 50%;\n",
              "      cursor: pointer;\n",
              "      display: none;\n",
              "      fill: #1967D2;\n",
              "      height: 32px;\n",
              "      padding: 0 0 0 0;\n",
              "      width: 32px;\n",
              "    }\n",
              "\n",
              "    .colab-df-convert:hover {\n",
              "      background-color: #E2EBFA;\n",
              "      box-shadow: 0px 1px 2px rgba(60, 64, 67, 0.3), 0px 1px 3px 1px rgba(60, 64, 67, 0.15);\n",
              "      fill: #174EA6;\n",
              "    }\n",
              "\n",
              "    [theme=dark] .colab-df-convert {\n",
              "      background-color: #3B4455;\n",
              "      fill: #D2E3FC;\n",
              "    }\n",
              "\n",
              "    [theme=dark] .colab-df-convert:hover {\n",
              "      background-color: #434B5C;\n",
              "      box-shadow: 0px 1px 3px 1px rgba(0, 0, 0, 0.15);\n",
              "      filter: drop-shadow(0px 1px 2px rgba(0, 0, 0, 0.3));\n",
              "      fill: #FFFFFF;\n",
              "    }\n",
              "  </style>\n",
              "\n",
              "      <script>\n",
              "        const buttonEl =\n",
              "          document.querySelector('#df-10e8522f-9cb7-4303-aaad-4fca836ba9a3 button.colab-df-convert');\n",
              "        buttonEl.style.display =\n",
              "          google.colab.kernel.accessAllowed ? 'block' : 'none';\n",
              "\n",
              "        async function convertToInteractive(key) {\n",
              "          const element = document.querySelector('#df-10e8522f-9cb7-4303-aaad-4fca836ba9a3');\n",
              "          const dataTable =\n",
              "            await google.colab.kernel.invokeFunction('convertToInteractive',\n",
              "                                                     [key], {});\n",
              "          if (!dataTable) return;\n",
              "\n",
              "          const docLinkHtml = 'Like what you see? Visit the ' +\n",
              "            '<a target=\"_blank\" href=https://colab.research.google.com/notebooks/data_table.ipynb>data table notebook</a>'\n",
              "            + ' to learn more about interactive tables.';\n",
              "          element.innerHTML = '';\n",
              "          dataTable['output_type'] = 'display_data';\n",
              "          await google.colab.output.renderOutput(dataTable, element);\n",
              "          const docLink = document.createElement('div');\n",
              "          docLink.innerHTML = docLinkHtml;\n",
              "          element.appendChild(docLink);\n",
              "        }\n",
              "      </script>\n",
              "    </div>\n",
              "  </div>\n",
              "  "
            ]
          },
          "metadata": {},
          "execution_count": 20
        }
      ]
    },
    {
      "cell_type": "code",
      "source": [
        "plot_df = capacity.loc[(capacity['cycle']>=1),['cycle','capacity']]\n",
        "sns.set_style(\"darkgrid\")\n",
        "plt.figure(figsize=(12, 8))\n",
        "plt.plot(plot_df['cycle'], plot_df['capacity'])\n",
        "#Draw threshold\n",
        "plt.plot([0.,len(capacity)], [1.4, 1.4])\n",
        "plt.ylabel('Capacity')\n",
        "# make x-axis ticks legible\n",
        "adf = plt.gca().get_xaxis().get_major_formatter()\n",
        "plt.xlabel('cycle')\n",
        "plt.title('Discharge B0018')"
      ],
      "metadata": {
        "colab": {
          "base_uri": "https://localhost:8080/",
          "height": 531
        },
        "id": "ZlCpde8KKaYk",
        "outputId": "78f7e390-fb97-4a62-d273-46d1490ac201"
      },
      "execution_count": 21,
      "outputs": [
        {
          "output_type": "execute_result",
          "data": {
            "text/plain": [
              "Text(0.5, 1.0, 'Discharge B0018')"
            ]
          },
          "metadata": {},
          "execution_count": 21
        },
        {
          "output_type": "display_data",
          "data": {
            "text/plain": [
              "<Figure size 864x576 with 1 Axes>"
            ],
            "image/png": "[encoded data removed]"
          },
          "metadata": {}
        }
      ]
    },
    {
      "cell_type": "code",
      "source": [
        "attrib=['cycle', 'datetime', 'capacity']\n",
        "dis_ele = capacity[attrib]\n",
        "C = dis_ele['capacity'][0]\n",
        "for i in range(len(dis_ele)):\n",
        "    dis_ele['SoH']=(dis_ele['capacity'])/C\n",
        "print(dis_ele.head(5))"
      ],
      "metadata": {
        "colab": {
          "base_uri": "https://localhost:8080/"
        },
        "id": "lK4fjzLyKeZ_",
        "outputId": "efa47c28-6ece-4861-d97b-91ebbaffe810"
      },
      "execution_count": 22,
      "outputs": [
        {
          "output_type": "stream",
          "name": "stdout",
          "text": [
            "   cycle            datetime  capacity       SoH\n",
            "0      1 2008-07-07 15:15:28  1.855005  1.000000\n",
            "1      2 2008-07-07 21:53:06  1.843196  0.993634\n",
            "2      3 2008-07-08 02:56:08  1.839602  0.991697\n",
            "3      4 2008-07-08 07:58:55  1.830674  0.986884\n",
            "4      5 2008-07-08 18:57:48  1.832700  0.987976\n"
          ]
        }
      ]
    },
    {
      "cell_type": "code",
      "source": [
        "plot_df = dis_ele.loc[(dis_ele['cycle']>=1),['cycle','SoH']]\n",
        "sns.set_style(\"white\")\n",
        "plt.figure(figsize=(8, 5))\n",
        "plt.plot(plot_df['cycle'], plot_df['SoH'])\n",
        "#Draw threshold\n",
        "plt.plot([0.,len(capacity)], [0.70, 0.70])\n",
        "plt.ylabel('SOH')\n",
        "# make x-axis ticks legible\n",
        "adf = plt.gca().get_xaxis().get_major_formatter()\n",
        "plt.xlabel('cycle')\n",
        "plt.title('Discharge B0018')"
      ],
      "metadata": {
        "colab": {
          "base_uri": "https://localhost:8080/",
          "height": 368
        },
        "id": "biiKuFJFKjOE",
        "outputId": "50e84ce1-e82b-4704-be4e-c4756cf4cd39"
      },
      "execution_count": 23,
      "outputs": [
        {
          "output_type": "execute_result",
          "data": {
            "text/plain": [
              "Text(0.5, 1.0, 'Discharge B0018')"
            ]
          },
          "metadata": {},
          "execution_count": 23
        },
        {
          "output_type": "display_data",
          "data": {
            "text/plain": [
              "<Figure size 576x360 with 1 Axes>"
            ],
            "image/png": "[encoded data removed]"
          },
          "metadata": {}
        }
      ]
    },
    {
      "cell_type": "code",
      "source": [
        "C = dataset['capacity'][0]\n",
        "soh = []\n",
        "for i in range(len(dataset)):\n",
        "  soh.append([dataset['capacity'][i] / C])\n",
        "soh = pd.DataFrame(data=soh, columns=['SoH'])\n",
        "\n",
        "attribs=['capacity', 'voltage_measured', 'current_measured',\n",
        "         'temperature_measured', 'current_load', 'voltage_load', 'time']\n",
        "train_dataset = dataset[attribs]\n",
        "sc = MinMaxScaler(feature_range=(0,1))\n",
        "train_dataset = sc.fit_transform(train_dataset)\n",
        "print(train_dataset.shape)\n",
        "print(soh.shape)"
      ],
      "metadata": {
        "colab": {
          "base_uri": "https://localhost:8080/"
        },
        "id": "gNOg-S9wKrSA",
        "outputId": "d88cf56d-b4d8-41fe-854d-ef4cc7432802"
      },
      "execution_count": 24,
      "outputs": [
        {
          "output_type": "stream",
          "name": "stdout",
          "text": [
            "(34866, 7)\n",
            "(34866, 1)\n"
          ]
        }
      ]
    },
    {
      "cell_type": "code",
      "source": [
        "import tensorflow as tf\n",
        "from tensorflow.keras.models import Sequential\n",
        "from tensorflow.keras.layers import Dense\n",
        "from tensorflow.keras.layers import Dropout\n",
        "from tensorflow.keras.layers import Flatten\n",
        "from tensorflow.keras.layers import LSTM\n",
        "from tensorflow.keras.optimizers import Adam"
      ],
      "metadata": {
        "id": "tE4efD6JLxkd"
      },
      "execution_count": 25,
      "outputs": []
    },
    {
      "cell_type": "code",
      "source": [
        "model = Sequential()\n",
        "model.add(Dense(8, activation='relu', input_dim=train_dataset.shape[1]))\n",
        "model.add(Dense(8, activation='relu'))\n",
        "model.add(Dense(8, activation='relu'))\n",
        "model.add(Dropout(rate=0.25))\n",
        "model.add(Dense(1))\n",
        "model.summary()\n",
        "model.compile(optimizer=Adam(beta_1=0.9, beta_2=0.999, epsilon=1e-08), loss='mean_absolute_error')"
      ],
      "metadata": {
        "colab": {
          "base_uri": "https://localhost:8080/"
        },
        "id": "pdBiGw6FL3zr",
        "outputId": "478be689-2b23-4b49-d05f-6e249ae022dd"
      },
      "execution_count": 26,
      "outputs": [
        {
          "output_type": "stream",
          "name": "stdout",
          "text": [
            "Model: \"sequential_1\"\n",
            "_________________________________________________________________\n",
            " Layer (type)                Output Shape              Param #   \n",
            "=================================================================\n",
            " dense_4 (Dense)             (None, 8)                 64        \n",
            "                                                                 \n",
            " dense_5 (Dense)             (None, 8)                 72        \n",
            "                                                                 \n",
            " dense_6 (Dense)             (None, 8)                 72        \n",
            "                                                                 \n",
            " dropout_1 (Dropout)         (None, 8)                 0         \n",
            "                                                                 \n",
            " dense_7 (Dense)             (None, 1)                 9         \n",
            "                                                                 \n",
            "=================================================================\n",
            "Total params: 217\n",
            "Trainable params: 217\n",
            "Non-trainable params: 0\n",
            "_________________________________________________________________\n"
          ]
        }
      ]
    },
    {
      "cell_type": "code",
      "source": [
        "model.fit(x=train_dataset, y=soh.to_numpy(), batch_size=25, epochs=50)"
      ],
      "metadata": {
        "colab": {
          "base_uri": "https://localhost:8080/"
        },
        "id": "bJ_aPgdeZuMo",
        "outputId": "db22ed57-7a7f-44b4-d9fd-deae2dab97a0"
      },
      "execution_count": 27,
      "outputs": [
        {
          "output_type": "stream",
          "name": "stdout",
          "text": [
            "Epoch 1/50\n",
            "1395/1395 [==============================] - 2s 1ms/step - loss: 0.1202\n",
            "Epoch 2/50\n",
            "1395/1395 [==============================] - 2s 1ms/step - loss: 0.0228\n",
            "Epoch 3/50\n",
            "1395/1395 [==============================] - 2s 1ms/step - loss: 0.0220\n",
            "Epoch 4/50\n",
            "1395/1395 [==============================] - 2s 1ms/step - loss: 0.0218\n",
            "Epoch 5/50\n",
            "1395/1395 [==============================] - 2s 1ms/step - loss: 0.0217\n",
            "Epoch 6/50\n",
            "1395/1395 [==============================] - 2s 1ms/step - loss: 0.0215\n",
            "Epoch 7/50\n",
            "1395/1395 [==============================] - 2s 1ms/step - loss: 0.0215\n",
            "Epoch 8/50\n",
            "1395/1395 [==============================] - 2s 1ms/step - loss: 0.0217\n",
            "Epoch 9/50\n",
            "1395/1395 [==============================] - 2s 1ms/step - loss: 0.0218\n",
            "Epoch 10/50\n",
            "1395/1395 [==============================] - 2s 1ms/step - loss: 0.0214\n",
            "Epoch 11/50\n",
            "1395/1395 [==============================] - 2s 1ms/step - loss: 0.0214\n",
            "Epoch 12/50\n",
            "1395/1395 [==============================] - 2s 1ms/step - loss: 0.0213\n",
            "Epoch 13/50\n",
            "1395/1395 [==============================] - 2s 1ms/step - loss: 0.0215\n",
            "Epoch 14/50\n",
            "1395/1395 [==============================] - 2s 1ms/step - loss: 0.0212\n",
            "Epoch 15/50\n",
            "1395/1395 [==============================] - 2s 1ms/step - loss: 0.0213\n",
            "Epoch 16/50\n",
            "1395/1395 [==============================] - 2s 1ms/step - loss: 0.0215\n",
            "Epoch 17/50\n",
            "1395/1395 [==============================] - 2s 1ms/step - loss: 0.0214\n",
            "Epoch 18/50\n",
            "1395/1395 [==============================] - 2s 1ms/step - loss: 0.0215\n",
            "Epoch 19/50\n",
            "1395/1395 [==============================] - 2s 1ms/step - loss: 0.0212\n",
            "Epoch 20/50\n",
            "1395/1395 [==============================] - 2s 1ms/step - loss: 0.0213\n",
            "Epoch 21/50\n",
            "1395/1395 [==============================] - 2s 1ms/step - loss: 0.0214\n",
            "Epoch 22/50\n",
            "1395/1395 [==============================] - 2s 1ms/step - loss: 0.0211\n",
            "Epoch 23/50\n",
            "1395/1395 [==============================] - 2s 1ms/step - loss: 0.0213\n",
            "Epoch 24/50\n",
            "1395/1395 [==============================] - 2s 1ms/step - loss: 0.0214\n",
            "Epoch 25/50\n",
            "1395/1395 [==============================] - 2s 1ms/step - loss: 0.0212\n",
            "Epoch 26/50\n",
            "1395/1395 [==============================] - 2s 1ms/step - loss: 0.0213\n",
            "Epoch 27/50\n",
            "1395/1395 [==============================] - 2s 1ms/step - loss: 0.0213\n",
            "Epoch 28/50\n",
            "1395/1395 [==============================] - 2s 1ms/step - loss: 0.0212\n",
            "Epoch 29/50\n",
            "1395/1395 [==============================] - 2s 1ms/step - loss: 0.0212\n",
            "Epoch 30/50\n",
            "1395/1395 [==============================] - 2s 1ms/step - loss: 0.0210\n",
            "Epoch 31/50\n",
            "1395/1395 [==============================] - 2s 1ms/step - loss: 0.0212\n",
            "Epoch 32/50\n",
            "1395/1395 [==============================] - 2s 1ms/step - loss: 0.0212\n",
            "Epoch 33/50\n",
            "1395/1395 [==============================] - 2s 1ms/step - loss: 0.0207\n",
            "Epoch 34/50\n",
            "1395/1395 [==============================] - 2s 1ms/step - loss: 0.0167\n",
            "Epoch 35/50\n",
            "1395/1395 [==============================] - 2s 1ms/step - loss: 0.0163\n",
            "Epoch 36/50\n",
            "1395/1395 [==============================] - 2s 1ms/step - loss: 0.0164\n",
            "Epoch 37/50\n",
            "1395/1395 [==============================] - 2s 1ms/step - loss: 0.0162\n",
            "Epoch 38/50\n",
            "1395/1395 [==============================] - 2s 1ms/step - loss: 0.0163\n",
            "Epoch 39/50\n",
            "1395/1395 [==============================] - 2s 1ms/step - loss: 0.0164\n",
            "Epoch 40/50\n",
            "1395/1395 [==============================] - 2s 1ms/step - loss: 0.0163\n",
            "Epoch 41/50\n",
            "1395/1395 [==============================] - 2s 1ms/step - loss: 0.0163\n",
            "Epoch 42/50\n",
            "1395/1395 [==============================] - 2s 1ms/step - loss: 0.0162\n",
            "Epoch 43/50\n",
            "1395/1395 [==============================] - 2s 1ms/step - loss: 0.0163\n",
            "Epoch 44/50\n",
            "1395/1395 [==============================] - 2s 1ms/step - loss: 0.0161\n",
            "Epoch 45/50\n",
            "1395/1395 [==============================] - 2s 1ms/step - loss: 0.0165\n",
            "Epoch 46/50\n",
            "1395/1395 [==============================] - 2s 1ms/step - loss: 0.0164\n",
            "Epoch 47/50\n",
            "1395/1395 [==============================] - 2s 1ms/step - loss: 0.0160\n",
            "Epoch 48/50\n",
            "1395/1395 [==============================] - 2s 1ms/step - loss: 0.0162\n",
            "Epoch 49/50\n",
            "1395/1395 [==============================] - 2s 1ms/step - loss: 0.0162\n",
            "Epoch 50/50\n",
            "1395/1395 [==============================] - 2s 1ms/step - loss: 0.0164\n"
          ]
        },
        {
          "output_type": "execute_result",
          "data": {
            "text/plain": [
              "<keras.callbacks.History at 0x7f16a1eaee50>"
            ]
          },
          "metadata": {},
          "execution_count": 27
        }
      ]
    },
    {
      "cell_type": "code",
      "source": [
        "dataset_val, capacity_val = load_data('B0018')\n",
        "attrib=['cycle', 'datetime', 'capacity']\n",
        "dis_ele = capacity_val[attrib]\n",
        "C = dis_ele['capacity'][0]\n",
        "for i in range(len(dis_ele)):\n",
        "    dis_ele['SoH']=(dis_ele['capacity']) / C\n",
        "print(dataset_val.head(5))\n",
        "print(dis_ele.head(5))"
      ],
      "metadata": {
        "colab": {
          "base_uri": "https://localhost:8080/"
        },
        "id": "JLLcGcBhL-IO",
        "outputId": "7e707cbc-9c88-481d-eb5c-461885f5bf10"
      },
      "execution_count": 28,
      "outputs": [
        {
          "output_type": "stream",
          "name": "stdout",
          "text": [
            "Total data in dataset:  319\n",
            "[1, 24, datetime.datetime(2008, 7, 7, 15, 15, 28), 1.8550045207910817, 4.188108651124536, 0.00013066734156636677, 23.8195202516044, 0.0006, 0.0, 0.0]\n",
            "   cycle  ambient_temperature            datetime  capacity  voltage_measured  \\\n",
            "0      1                   24 2008-07-07 15:15:28  1.855005          4.188109   \n",
            "1      1                   24 2008-07-07 15:15:28  1.855005          4.188196   \n",
            "2      1                   24 2008-07-07 15:15:28  1.855005          3.977432   \n",
            "3      1                   24 2008-07-07 15:15:28  1.855005          3.961974   \n",
            "4      1                   24 2008-07-07 15:15:28  1.855005          3.949835   \n",
            "\n",
            "   current_measured  temperature_measured  current_load  voltage_load    time  \n",
            "0          0.000131             23.819520        0.0006         0.000   0.000  \n",
            "1          0.001459             23.828807        0.0006         4.203   9.422  \n",
            "2         -2.005672             23.844944        1.9988         3.029  19.578  \n",
            "3         -2.012206             23.925577        1.9988         3.026  29.016  \n",
            "4         -2.012005             24.010628        1.9988         3.015  38.485  \n",
            "   cycle            datetime  capacity       SoH\n",
            "0      1 2008-07-07 15:15:28  1.855005  1.000000\n",
            "1      2 2008-07-07 21:53:06  1.843196  0.993634\n",
            "2      3 2008-07-08 02:56:08  1.839602  0.991697\n",
            "3      4 2008-07-08 07:58:55  1.830674  0.986884\n",
            "4      5 2008-07-08 18:57:48  1.832700  0.987976\n"
          ]
        }
      ]
    },
    {
      "cell_type": "code",
      "source": [
        ""
      ],
      "metadata": {
        "id": "IXlRC4G1Zpvf"
      },
      "execution_count": null,
      "outputs": []
    },
    {
      "cell_type": "code",
      "source": [
        "attrib=['capacity', 'voltage_measured', 'current_measured',\n",
        "        'temperature_measured', 'current_load', 'voltage_load', 'time']\n",
        "soh_pred = model.predict(sc.fit_transform(dataset_val[attrib]))\n",
        "print(soh_pred.shape)\n",
        "\n",
        "C = dataset_val['capacity'][0]\n",
        "soh = []\n",
        "for i in range(len(dataset_val)):\n",
        "  soh.append(dataset_val['capacity'][i] / C)\n",
        "new_soh = dataset_val.loc[(dataset_val['cycle'] >= 1), ['cycle']]\n",
        "new_soh['SoH'] =  soh\n",
        "new_soh['NewSoH'] = soh_pred\n",
        "new_soh = new_soh.groupby(['cycle']).mean().reset_index()\n",
        "print(new_soh.head(10))\n",
        "rms = np.sqrt(mean_squared_error(new_soh['SoH'], new_soh['NewSoH']))\n",
        "print('Root Mean Square Error: ', rms)"
      ],
      "metadata": {
        "colab": {
          "base_uri": "https://localhost:8080/"
        },
        "id": "-91WoM1DMaoG",
        "outputId": "e2645884-f2d0-4c9e-cedf-20468fdbe7d1"
      },
      "execution_count": 29,
      "outputs": [
        {
          "output_type": "stream",
          "name": "stdout",
          "text": [
            "(34866, 1)\n",
            "   cycle       SoH    NewSoH\n",
            "0      1  1.000000  0.988523\n",
            "1      2  0.993634  0.982557\n",
            "2      3  0.991697  0.980723\n",
            "3      4  0.986884  0.976190\n",
            "4      5  0.987976  0.977242\n",
            "5      6  0.985727  0.975138\n",
            "6      7  0.981777  0.971420\n",
            "7      8  0.978526  0.968357\n",
            "8      9  0.972665  0.962850\n",
            "9     10  0.982801  0.972365\n",
            "Root Mean Square Error:  0.012415556751766796\n"
          ]
        }
      ]
    },
    {
      "cell_type": "code",
      "source": [
        ""
      ],
      "metadata": {
        "id": "Q0BOcdxfTnr_"
      },
      "execution_count": null,
      "outputs": []
    },
    {
      "cell_type": "code",
      "source": [
        "plot_df = new_soh.loc[(new_soh['cycle']>=1),['cycle','SoH', 'NewSoH']]\n",
        "sns.set_style(\"white\")\n",
        "plt.figure(figsize=(16, 10))\n",
        "plt.plot(plot_df['cycle'], plot_df['SoH'], label='SoH')\n",
        "plt.plot(plot_df['cycle'], plot_df['NewSoH'], label='Predicted SoH')\n",
        "#Draw threshold\n",
        "#plt.plot([0.,len(capacity)], [0.70, 0.70], label='Threshold')\n",
        "plt.ylabel('SOH')\n",
        "# make x-axis ticks legible\n",
        "adf = plt.gca().get_xaxis().get_major_formatter()\n",
        "plt.xlabel('cycle')\n",
        "plt.legend()\n",
        "plt.title('Discharge B0018')"
      ],
      "metadata": {
        "id": "aiRUmM5BpxJH",
        "outputId": "df316f1f-b13a-4df9-97ec-c7d2508ccf4a",
        "colab": {
          "base_uri": "https://localhost:8080/",
          "height": 639
        }
      },
      "execution_count": 15,
      "outputs": [
        {
          "output_type": "execute_result",
          "data": {
            "text/plain": [
              "Text(0.5, 1.0, 'Discharge B0018')"
            ]
          },
          "metadata": {},
          "execution_count": 15
        },
        {
          "output_type": "display_data",
          "data": {
            "text/plain": [
              "<Figure size 1152x720 with 1 Axes>"
            ],
            "image/png": "[encoded data removed]"
          },
          "metadata": {}
        }
      ]
    },
    {
      "cell_type": "code",
      "source": [
        "dataset_val, capacity_val = load_data('B0018')\n",
        "attrib=['cycle', 'datetime', 'capacity']\n",
        "dis_ele = capacity_val[attrib]\n",
        "rows=['cycle','capacity']\n",
        "dataset=dis_ele[rows]\n",
        "data_train=dataset[(dataset['cycle']<50)]\n",
        "data_set_train=data_train.iloc[:,1:2].values\n",
        "data_test=dataset[(dataset['cycle']>=50)]\n",
        "data_set_test=data_test.iloc[:,1:2].values\n",
        "\n",
        "sc=MinMaxScaler(feature_range=(0,1))\n",
        "data_set_train=sc.fit_transform(data_set_train)\n",
        "data_set_test=sc.transform(data_set_test)\n",
        "\n",
        "X_train=[]\n",
        "y_train=[]\n",
        "#take the last 10t to predict 10t+1\n",
        "for i in range(10,49):\n",
        "    X_train.append(data_set_train[i-10:i,0])\n",
        "    y_train.append(data_set_train[i,0])\n",
        "X_train,y_train=np.array(X_train),np.array(y_train)\n",
        " \n",
        "X_train=np.reshape(X_train,(X_train.shape[0],X_train.shape[1],1))"
      ],
      "metadata": {
        "id": "TSsKq2LCrkhq",
        "outputId": "3793eb28-d928-42eb-8989-384d4b433cf0",
        "colab": {
          "base_uri": "https://localhost:8080/"
        }
      },
      "execution_count": null,
      "outputs": [
        {
          "output_type": "stream",
          "name": "stdout",
          "text": [
            "Total data in dataset:  616\n",
            "[1, 24, datetime.datetime(2008, 4, 2, 15, 25, 41), 1.89105229539079, 4.199359521791473, -0.0018658918833680202, 23.93704394613529, -0.0004, 0.0, 0.0]\n"
          ]
        }
      ]
    },
    {
      "cell_type": "code",
      "source": [
        "regress = Sequential()\n",
        "regress.add(LSTM(units=200, return_sequences=True, input_shape=(X_train.shape[1],1)))\n",
        "regress.add(Dropout(0.3))\n",
        "regress.add(LSTM(units=200, return_sequences=True))\n",
        "regress.add(Dropout(0.3))\n",
        "regress.add(LSTM(units=200, return_sequences=True))\n",
        "regress.add(Dropout(0.3))\n",
        "regress.add(LSTM(units=200))\n",
        "regress.add(Dropout(0.3))\n",
        "regress.add(Dense(units=1))\n",
        "regress.compile(optimizer='adam',loss='mean_squared_error')\n",
        "regress.summary()"
      ],
      "metadata": {
        "id": "ZmmSjVK-ro_J",
        "outputId": "ed3d03f3-7334-4dc4-cf75-14dfcef5a6d1",
        "colab": {
          "base_uri": "https://localhost:8080/"
        }
      },
      "execution_count": null,
      "outputs": [
        {
          "output_type": "stream",
          "name": "stdout",
          "text": [
            "Model: \"sequential_35\"\n",
            "_________________________________________________________________\n",
            " Layer (type)                Output Shape              Param #   \n",
            "=================================================================\n",
            " lstm_72 (LSTM)              (None, 10, 200)           161600    \n",
            "                                                                 \n",
            " dropout_89 (Dropout)        (None, 10, 200)           0         \n",
            "                                                                 \n",
            " lstm_73 (LSTM)              (None, 10, 200)           320800    \n",
            "                                                                 \n",
            " dropout_90 (Dropout)        (None, 10, 200)           0         \n",
            "                                                                 \n",
            " lstm_74 (LSTM)              (None, 10, 200)           320800    \n",
            "                                                                 \n",
            " dropout_91 (Dropout)        (None, 10, 200)           0         \n",
            "                                                                 \n",
            " lstm_75 (LSTM)              (None, 200)               320800    \n",
            "                                                                 \n",
            " dropout_92 (Dropout)        (None, 200)               0         \n",
            "                                                                 \n",
            " dense_86 (Dense)            (None, 1)                 201       \n",
            "                                                                 \n",
            "=================================================================\n",
            "Total params: 1,124,201\n",
            "Trainable params: 1,124,201\n",
            "Non-trainable params: 0\n",
            "_________________________________________________________________\n"
          ]
        }
      ]
    },
    {
      "cell_type": "code",
      "source": [
        "regress.fit(X_train,y_train,epochs=200,batch_size=25)"
      ],
      "metadata": {
        "id": "-6psmuVTrtiT",
        "outputId": "c87b78e9-c048-449d-ab4e-5a608749b476",
        "colab": {
          "base_uri": "https://localhost:8080/"
        }
      },
      "execution_count": null,
      "outputs": [
        {
          "output_type": "stream",
          "name": "stdout",
          "text": [
            "Epoch 1/200\n",
            "2/2 [==============================] - 9s 122ms/step - loss: 0.3404\n",
            "Epoch 2/200\n",
            "2/2 [==============================] - 0s 116ms/step - loss: 0.1096\n",
            "Epoch 3/200\n",
            "2/2 [==============================] - 0s 105ms/step - loss: 0.2111\n",
            "Epoch 4/200\n",
            "2/2 [==============================] - 0s 106ms/step - loss: 0.0620\n",
            "Epoch 5/200\n",
            "2/2 [==============================] - 0s 105ms/step - loss: 0.1119\n",
            "Epoch 6/200\n",
            "2/2 [==============================] - 0s 108ms/step - loss: 0.1113\n",
            "Epoch 7/200\n",
            "2/2 [==============================] - 0s 104ms/step - loss: 0.0765\n",
            "Epoch 8/200\n",
            "2/2 [==============================] - 0s 113ms/step - loss: 0.0466\n",
            "Epoch 9/200\n",
            "2/2 [==============================] - 0s 116ms/step - loss: 0.0506\n",
            "Epoch 10/200\n",
            "2/2 [==============================] - 0s 101ms/step - loss: 0.0734\n",
            "Epoch 11/200\n",
            "2/2 [==============================] - 0s 100ms/step - loss: 0.0454\n",
            "Epoch 12/200\n",
            "2/2 [==============================] - 0s 107ms/step - loss: 0.0479\n",
            "Epoch 13/200\n",
            "2/2 [==============================] - 0s 106ms/step - loss: 0.0526\n",
            "Epoch 14/200\n",
            "2/2 [==============================] - 0s 109ms/step - loss: 0.0472\n",
            "Epoch 15/200\n",
            "2/2 [==============================] - 0s 124ms/step - loss: 0.0380\n",
            "Epoch 16/200\n",
            "2/2 [==============================] - 0s 109ms/step - loss: 0.0413\n",
            "Epoch 17/200\n",
            "2/2 [==============================] - 0s 111ms/step - loss: 0.0403\n",
            "Epoch 18/200\n",
            "2/2 [==============================] - 0s 102ms/step - loss: 0.0447\n",
            "Epoch 19/200\n",
            "2/2 [==============================] - 0s 101ms/step - loss: 0.0335\n",
            "Epoch 20/200\n",
            "2/2 [==============================] - 0s 104ms/step - loss: 0.0418\n",
            "Epoch 21/200\n",
            "2/2 [==============================] - 0s 118ms/step - loss: 0.0431\n",
            "Epoch 22/200\n",
            "2/2 [==============================] - 0s 102ms/step - loss: 0.0413\n",
            "Epoch 23/200\n",
            "2/2 [==============================] - 0s 106ms/step - loss: 0.0332\n",
            "Epoch 24/200\n",
            "2/2 [==============================] - 0s 103ms/step - loss: 0.0392\n",
            "Epoch 25/200\n",
            "2/2 [==============================] - 0s 104ms/step - loss: 0.0402\n",
            "Epoch 26/200\n",
            "2/2 [==============================] - 0s 117ms/step - loss: 0.0343\n",
            "Epoch 27/200\n",
            "2/2 [==============================] - 0s 108ms/step - loss: 0.0329\n",
            "Epoch 28/200\n",
            "2/2 [==============================] - 0s 128ms/step - loss: 0.0383\n",
            "Epoch 29/200\n",
            "2/2 [==============================] - 0s 112ms/step - loss: 0.0316\n",
            "Epoch 30/200\n",
            "2/2 [==============================] - 0s 106ms/step - loss: 0.0359\n",
            "Epoch 31/200\n",
            "2/2 [==============================] - 0s 108ms/step - loss: 0.0361\n",
            "Epoch 32/200\n",
            "2/2 [==============================] - 0s 111ms/step - loss: 0.0349\n",
            "Epoch 33/200\n",
            "2/2 [==============================] - 0s 103ms/step - loss: 0.0334\n",
            "Epoch 34/200\n",
            "2/2 [==============================] - 0s 115ms/step - loss: 0.0340\n",
            "Epoch 35/200\n",
            "2/2 [==============================] - 0s 99ms/step - loss: 0.0283\n",
            "Epoch 36/200\n",
            "2/2 [==============================] - 0s 105ms/step - loss: 0.0334\n",
            "Epoch 37/200\n",
            "2/2 [==============================] - 0s 110ms/step - loss: 0.0302\n",
            "Epoch 38/200\n",
            "2/2 [==============================] - 0s 99ms/step - loss: 0.0281\n",
            "Epoch 39/200\n",
            "2/2 [==============================] - 0s 113ms/step - loss: 0.0275\n",
            "Epoch 40/200\n",
            "2/2 [==============================] - 0s 115ms/step - loss: 0.0257\n",
            "Epoch 41/200\n",
            "2/2 [==============================] - 0s 119ms/step - loss: 0.0325\n",
            "Epoch 42/200\n",
            "2/2 [==============================] - 0s 113ms/step - loss: 0.0306\n",
            "Epoch 43/200\n",
            "2/2 [==============================] - 0s 112ms/step - loss: 0.0241\n",
            "Epoch 44/200\n",
            "2/2 [==============================] - 0s 99ms/step - loss: 0.0280\n",
            "Epoch 45/200\n",
            "2/2 [==============================] - 0s 104ms/step - loss: 0.0253\n",
            "Epoch 46/200\n",
            "2/2 [==============================] - 0s 108ms/step - loss: 0.0333\n",
            "Epoch 47/200\n",
            "2/2 [==============================] - 0s 99ms/step - loss: 0.0319\n",
            "Epoch 48/200\n",
            "2/2 [==============================] - 0s 100ms/step - loss: 0.0279\n",
            "Epoch 49/200\n",
            "2/2 [==============================] - 0s 113ms/step - loss: 0.0300\n",
            "Epoch 50/200\n",
            "2/2 [==============================] - 0s 114ms/step - loss: 0.0305\n",
            "Epoch 51/200\n",
            "2/2 [==============================] - 0s 108ms/step - loss: 0.0303\n",
            "Epoch 52/200\n",
            "2/2 [==============================] - 0s 101ms/step - loss: 0.0300\n",
            "Epoch 53/200\n",
            "2/2 [==============================] - 0s 104ms/step - loss: 0.0282\n",
            "Epoch 54/200\n",
            "2/2 [==============================] - 0s 96ms/step - loss: 0.0285\n",
            "Epoch 55/200\n",
            "2/2 [==============================] - 0s 107ms/step - loss: 0.0358\n",
            "Epoch 56/200\n",
            "2/2 [==============================] - 0s 100ms/step - loss: 0.0285\n",
            "Epoch 57/200\n",
            "2/2 [==============================] - 0s 97ms/step - loss: 0.0269\n",
            "Epoch 58/200\n",
            "2/2 [==============================] - 0s 97ms/step - loss: 0.0256\n",
            "Epoch 59/200\n",
            "2/2 [==============================] - 0s 111ms/step - loss: 0.0328\n",
            "Epoch 60/200\n",
            "2/2 [==============================] - 0s 99ms/step - loss: 0.0254\n",
            "Epoch 61/200\n",
            "2/2 [==============================] - 0s 119ms/step - loss: 0.0268\n",
            "Epoch 62/200\n",
            "2/2 [==============================] - 0s 104ms/step - loss: 0.0252\n",
            "Epoch 63/200\n",
            "2/2 [==============================] - 0s 101ms/step - loss: 0.0252\n",
            "Epoch 64/200\n",
            "2/2 [==============================] - 0s 108ms/step - loss: 0.0297\n",
            "Epoch 65/200\n",
            "2/2 [==============================] - 0s 100ms/step - loss: 0.0288\n",
            "Epoch 66/200\n",
            "2/2 [==============================] - 0s 97ms/step - loss: 0.0323\n",
            "Epoch 67/200\n",
            "2/2 [==============================] - 0s 108ms/step - loss: 0.0270\n",
            "Epoch 68/200\n",
            "2/2 [==============================] - 0s 124ms/step - loss: 0.0299\n",
            "Epoch 69/200\n",
            "2/2 [==============================] - 0s 116ms/step - loss: 0.0291\n",
            "Epoch 70/200\n",
            "2/2 [==============================] - 0s 103ms/step - loss: 0.0311\n",
            "Epoch 71/200\n",
            "2/2 [==============================] - 0s 101ms/step - loss: 0.0296\n",
            "Epoch 72/200\n",
            "2/2 [==============================] - 0s 103ms/step - loss: 0.0315\n",
            "Epoch 73/200\n",
            "2/2 [==============================] - 0s 98ms/step - loss: 0.0295\n",
            "Epoch 74/200\n",
            "2/2 [==============================] - 0s 109ms/step - loss: 0.0288\n",
            "Epoch 75/200\n",
            "2/2 [==============================] - 0s 110ms/step - loss: 0.0268\n",
            "Epoch 76/200\n",
            "2/2 [==============================] - 0s 103ms/step - loss: 0.0259\n",
            "Epoch 77/200\n",
            "2/2 [==============================] - 0s 117ms/step - loss: 0.0300\n",
            "Epoch 78/200\n",
            "2/2 [==============================] - 0s 99ms/step - loss: 0.0239\n",
            "Epoch 79/200\n",
            "2/2 [==============================] - 0s 109ms/step - loss: 0.0292\n",
            "Epoch 80/200\n",
            "2/2 [==============================] - 0s 97ms/step - loss: 0.0265\n",
            "Epoch 81/200\n",
            "2/2 [==============================] - 0s 110ms/step - loss: 0.0277\n",
            "Epoch 82/200\n",
            "2/2 [==============================] - 0s 104ms/step - loss: 0.0271\n",
            "Epoch 83/200\n",
            "2/2 [==============================] - 0s 111ms/step - loss: 0.0240\n",
            "Epoch 84/200\n",
            "2/2 [==============================] - 0s 113ms/step - loss: 0.0248\n",
            "Epoch 85/200\n",
            "2/2 [==============================] - 0s 101ms/step - loss: 0.0264\n",
            "Epoch 86/200\n",
            "2/2 [==============================] - 0s 113ms/step - loss: 0.0233\n",
            "Epoch 87/200\n",
            "2/2 [==============================] - 0s 100ms/step - loss: 0.0225\n",
            "Epoch 88/200\n",
            "2/2 [==============================] - 0s 127ms/step - loss: 0.0268\n",
            "Epoch 89/200\n",
            "2/2 [==============================] - 0s 104ms/step - loss: 0.0260\n",
            "Epoch 90/200\n",
            "2/2 [==============================] - 0s 109ms/step - loss: 0.0250\n",
            "Epoch 91/200\n",
            "2/2 [==============================] - 0s 120ms/step - loss: 0.0226\n",
            "Epoch 92/200\n",
            "2/2 [==============================] - 0s 113ms/step - loss: 0.0282\n",
            "Epoch 93/200\n",
            "2/2 [==============================] - 0s 102ms/step - loss: 0.0296\n",
            "Epoch 94/200\n",
            "2/2 [==============================] - 0s 106ms/step - loss: 0.0258\n",
            "Epoch 95/200\n",
            "2/2 [==============================] - 0s 96ms/step - loss: 0.0300\n",
            "Epoch 96/200\n",
            "2/2 [==============================] - 0s 100ms/step - loss: 0.0224\n",
            "Epoch 97/200\n",
            "2/2 [==============================] - 0s 132ms/step - loss: 0.0272\n",
            "Epoch 98/200\n",
            "2/2 [==============================] - 0s 117ms/step - loss: 0.0252\n",
            "Epoch 99/200\n",
            "2/2 [==============================] - 0s 109ms/step - loss: 0.0257\n",
            "Epoch 100/200\n",
            "2/2 [==============================] - 0s 103ms/step - loss: 0.0248\n",
            "Epoch 101/200\n",
            "2/2 [==============================] - 0s 105ms/step - loss: 0.0263\n",
            "Epoch 102/200\n",
            "2/2 [==============================] - 0s 113ms/step - loss: 0.0284\n",
            "Epoch 103/200\n",
            "2/2 [==============================] - 0s 110ms/step - loss: 0.0264\n",
            "Epoch 104/200\n",
            "2/2 [==============================] - 0s 111ms/step - loss: 0.0256\n",
            "Epoch 105/200\n",
            "2/2 [==============================] - 0s 126ms/step - loss: 0.0209\n",
            "Epoch 106/200\n",
            "2/2 [==============================] - 0s 100ms/step - loss: 0.0285\n",
            "Epoch 107/200\n",
            "2/2 [==============================] - 0s 103ms/step - loss: 0.0238\n",
            "Epoch 108/200\n",
            "2/2 [==============================] - 0s 113ms/step - loss: 0.0288\n",
            "Epoch 109/200\n",
            "2/2 [==============================] - 0s 112ms/step - loss: 0.0322\n",
            "Epoch 110/200\n",
            "2/2 [==============================] - 0s 115ms/step - loss: 0.0222\n",
            "Epoch 111/200\n",
            "2/2 [==============================] - 0s 126ms/step - loss: 0.0301\n",
            "Epoch 112/200\n",
            "2/2 [==============================] - 0s 109ms/step - loss: 0.0223\n",
            "Epoch 113/200\n",
            "2/2 [==============================] - 0s 112ms/step - loss: 0.0258\n",
            "Epoch 114/200\n",
            "2/2 [==============================] - 0s 102ms/step - loss: 0.0234\n",
            "Epoch 115/200\n",
            "2/2 [==============================] - 0s 109ms/step - loss: 0.0249\n",
            "Epoch 116/200\n",
            "2/2 [==============================] - 0s 103ms/step - loss: 0.0264\n",
            "Epoch 117/200\n",
            "2/2 [==============================] - 0s 108ms/step - loss: 0.0206\n",
            "Epoch 118/200\n",
            "2/2 [==============================] - 0s 105ms/step - loss: 0.0262\n",
            "Epoch 119/200\n",
            "2/2 [==============================] - 0s 109ms/step - loss: 0.0279\n",
            "Epoch 120/200\n",
            "2/2 [==============================] - 0s 107ms/step - loss: 0.0272\n",
            "Epoch 121/200\n",
            "2/2 [==============================] - 0s 117ms/step - loss: 0.0230\n",
            "Epoch 122/200\n",
            "2/2 [==============================] - 0s 106ms/step - loss: 0.0245\n",
            "Epoch 123/200\n",
            "2/2 [==============================] - 0s 113ms/step - loss: 0.0224\n",
            "Epoch 124/200\n",
            "2/2 [==============================] - 0s 115ms/step - loss: 0.0214\n",
            "Epoch 125/200\n",
            "2/2 [==============================] - 0s 103ms/step - loss: 0.0213\n",
            "Epoch 126/200\n",
            "2/2 [==============================] - 0s 107ms/step - loss: 0.0258\n",
            "Epoch 127/200\n",
            "2/2 [==============================] - 0s 118ms/step - loss: 0.0247\n",
            "Epoch 128/200\n",
            "2/2 [==============================] - 0s 105ms/step - loss: 0.0215\n",
            "Epoch 129/200\n",
            "2/2 [==============================] - 0s 106ms/step - loss: 0.0312\n",
            "Epoch 130/200\n",
            "2/2 [==============================] - 0s 111ms/step - loss: 0.0253\n",
            "Epoch 131/200\n",
            "2/2 [==============================] - 0s 101ms/step - loss: 0.0278\n",
            "Epoch 132/200\n",
            "2/2 [==============================] - 0s 101ms/step - loss: 0.0305\n",
            "Epoch 133/200\n",
            "2/2 [==============================] - 0s 105ms/step - loss: 0.0266\n",
            "Epoch 134/200\n",
            "2/2 [==============================] - 0s 111ms/step - loss: 0.0288\n",
            "Epoch 135/200\n",
            "2/2 [==============================] - 0s 113ms/step - loss: 0.0228\n",
            "Epoch 136/200\n",
            "2/2 [==============================] - 0s 100ms/step - loss: 0.0269\n",
            "Epoch 137/200\n",
            "2/2 [==============================] - 0s 117ms/step - loss: 0.0271\n",
            "Epoch 138/200\n",
            "2/2 [==============================] - 0s 105ms/step - loss: 0.0284\n",
            "Epoch 139/200\n",
            "2/2 [==============================] - 0s 101ms/step - loss: 0.0224\n",
            "Epoch 140/200\n",
            "2/2 [==============================] - 0s 98ms/step - loss: 0.0266\n",
            "Epoch 141/200\n",
            "2/2 [==============================] - 0s 98ms/step - loss: 0.0249\n",
            "Epoch 142/200\n",
            "2/2 [==============================] - 0s 149ms/step - loss: 0.0247\n",
            "Epoch 143/200\n",
            "2/2 [==============================] - 0s 100ms/step - loss: 0.0232\n",
            "Epoch 144/200\n",
            "2/2 [==============================] - 0s 105ms/step - loss: 0.0209\n",
            "Epoch 145/200\n",
            "2/2 [==============================] - 0s 122ms/step - loss: 0.0234\n",
            "Epoch 146/200\n",
            "2/2 [==============================] - 0s 106ms/step - loss: 0.0258\n",
            "Epoch 147/200\n",
            "2/2 [==============================] - 0s 116ms/step - loss: 0.0230\n",
            "Epoch 148/200\n",
            "2/2 [==============================] - 0s 113ms/step - loss: 0.0235\n",
            "Epoch 149/200\n",
            "2/2 [==============================] - 0s 112ms/step - loss: 0.0230\n",
            "Epoch 150/200\n",
            "2/2 [==============================] - 0s 119ms/step - loss: 0.0314\n",
            "Epoch 151/200\n",
            "2/2 [==============================] - 0s 113ms/step - loss: 0.0230\n",
            "Epoch 152/200\n",
            "2/2 [==============================] - 0s 113ms/step - loss: 0.0280\n",
            "Epoch 153/200\n",
            "2/2 [==============================] - 0s 107ms/step - loss: 0.0203\n",
            "Epoch 154/200\n",
            "2/2 [==============================] - 0s 108ms/step - loss: 0.0239\n",
            "Epoch 155/200\n",
            "2/2 [==============================] - 0s 105ms/step - loss: 0.0193\n",
            "Epoch 156/200\n",
            "2/2 [==============================] - 0s 113ms/step - loss: 0.0259\n",
            "Epoch 157/200\n",
            "2/2 [==============================] - 0s 99ms/step - loss: 0.0233\n",
            "Epoch 158/200\n",
            "2/2 [==============================] - 0s 103ms/step - loss: 0.0251\n",
            "Epoch 159/200\n",
            "2/2 [==============================] - 0s 117ms/step - loss: 0.0230\n",
            "Epoch 160/200\n",
            "2/2 [==============================] - 0s 120ms/step - loss: 0.0246\n",
            "Epoch 161/200\n",
            "2/2 [==============================] - 0s 99ms/step - loss: 0.0251\n",
            "Epoch 162/200\n",
            "2/2 [==============================] - 0s 103ms/step - loss: 0.0252\n",
            "Epoch 163/200\n",
            "2/2 [==============================] - 0s 104ms/step - loss: 0.0262\n",
            "Epoch 164/200\n",
            "2/2 [==============================] - 0s 109ms/step - loss: 0.0235\n",
            "Epoch 165/200\n",
            "2/2 [==============================] - 0s 100ms/step - loss: 0.0274\n",
            "Epoch 166/200\n",
            "2/2 [==============================] - 0s 107ms/step - loss: 0.0226\n",
            "Epoch 167/200\n",
            "2/2 [==============================] - 0s 102ms/step - loss: 0.0277\n",
            "Epoch 168/200\n",
            "2/2 [==============================] - 0s 107ms/step - loss: 0.0209\n",
            "Epoch 169/200\n",
            "2/2 [==============================] - 0s 123ms/step - loss: 0.0213\n",
            "Epoch 170/200\n",
            "2/2 [==============================] - 0s 110ms/step - loss: 0.0228\n",
            "Epoch 171/200\n",
            "2/2 [==============================] - 0s 112ms/step - loss: 0.0196\n",
            "Epoch 172/200\n",
            "2/2 [==============================] - 0s 100ms/step - loss: 0.0187\n",
            "Epoch 173/200\n",
            "2/2 [==============================] - 0s 115ms/step - loss: 0.0278\n",
            "Epoch 174/200\n",
            "2/2 [==============================] - 0s 117ms/step - loss: 0.0230\n",
            "Epoch 175/200\n",
            "2/2 [==============================] - 0s 104ms/step - loss: 0.0207\n",
            "Epoch 176/200\n",
            "2/2 [==============================] - 0s 97ms/step - loss: 0.0205\n",
            "Epoch 177/200\n",
            "2/2 [==============================] - 0s 102ms/step - loss: 0.0232\n",
            "Epoch 178/200\n",
            "2/2 [==============================] - 0s 121ms/step - loss: 0.0227\n",
            "Epoch 179/200\n",
            "2/2 [==============================] - 0s 112ms/step - loss: 0.0224\n",
            "Epoch 180/200\n",
            "2/2 [==============================] - 0s 101ms/step - loss: 0.0236\n",
            "Epoch 181/200\n",
            "2/2 [==============================] - 0s 100ms/step - loss: 0.0213\n",
            "Epoch 182/200\n",
            "2/2 [==============================] - 0s 114ms/step - loss: 0.0227\n",
            "Epoch 183/200\n",
            "2/2 [==============================] - 0s 104ms/step - loss: 0.0198\n",
            "Epoch 184/200\n",
            "2/2 [==============================] - 0s 101ms/step - loss: 0.0244\n",
            "Epoch 185/200\n",
            "2/2 [==============================] - 0s 105ms/step - loss: 0.0169\n",
            "Epoch 186/200\n",
            "2/2 [==============================] - 0s 110ms/step - loss: 0.0229\n",
            "Epoch 187/200\n",
            "2/2 [==============================] - 0s 138ms/step - loss: 0.0242\n",
            "Epoch 188/200\n",
            "2/2 [==============================] - 0s 99ms/step - loss: 0.0251\n",
            "Epoch 189/200\n",
            "2/2 [==============================] - 0s 109ms/step - loss: 0.0185\n",
            "Epoch 190/200\n",
            "2/2 [==============================] - 0s 105ms/step - loss: 0.0198\n",
            "Epoch 191/200\n",
            "2/2 [==============================] - 0s 114ms/step - loss: 0.0212\n",
            "Epoch 192/200\n",
            "2/2 [==============================] - 0s 107ms/step - loss: 0.0229\n",
            "Epoch 193/200\n",
            "2/2 [==============================] - 0s 104ms/step - loss: 0.0220\n",
            "Epoch 194/200\n",
            "2/2 [==============================] - 0s 111ms/step - loss: 0.0227\n",
            "Epoch 195/200\n",
            "2/2 [==============================] - 0s 125ms/step - loss: 0.0216\n",
            "Epoch 196/200\n",
            "2/2 [==============================] - 0s 109ms/step - loss: 0.0224\n",
            "Epoch 197/200\n",
            "2/2 [==============================] - 0s 104ms/step - loss: 0.0200\n",
            "Epoch 198/200\n",
            "2/2 [==============================] - 0s 111ms/step - loss: 0.0253\n",
            "Epoch 199/200\n",
            "2/2 [==============================] - 0s 123ms/step - loss: 0.0252\n",
            "Epoch 200/200\n",
            "2/2 [==============================] - 0s 104ms/step - loss: 0.0247\n"
          ]
        },
        {
          "output_type": "execute_result",
          "data": {
            "text/plain": [
              "<keras.callbacks.History at 0x7fa3f86caa10>"
            ]
          },
          "metadata": {},
          "execution_count": 381
        }
      ]
    },
    {
      "cell_type": "code",
      "source": [
        "print(len(data_test))\n",
        "data_total=pd.concat((data_train['capacity'], data_test['capacity']),axis=0)\n",
        "inputs=data_total[len(data_total)-len(data_test)-10:].values\n",
        "inputs=inputs.reshape(-1,1)\n",
        "inputs=sc.transform(inputs)"
      ],
      "metadata": {
        "id": "SHlnjFBPrwOR",
        "outputId": "155bb7f1-2f26-4f83-9be6-587322386c41",
        "colab": {
          "base_uri": "https://localhost:8080/"
        }
      },
      "execution_count": null,
      "outputs": [
        {
          "output_type": "stream",
          "name": "stdout",
          "text": [
            "119\n"
          ]
        }
      ]
    },
    {
      "cell_type": "code",
      "source": [
        "X_test=[]\n",
        "for i in range(10,129):\n",
        "    X_test.append(inputs[i-10:i,0])\n",
        "X_test=np.array(X_test)\n",
        "X_test=np.reshape(X_test,(X_test.shape[0],X_test.shape[1],1))\n",
        "pred=regress.predict(X_test)\n",
        "print(pred.shape)\n",
        "pred=sc.inverse_transform(pred)\n",
        "pred=pred[:,0]\n",
        "tests=data_test.iloc[:,1:2]\n",
        "rmse = np.sqrt(mean_squared_error(tests, pred))\n",
        "print('Test RMSE: %.3f' % rmse)\n",
        "metrics.r2_score(tests,pred)"
      ],
      "metadata": {
        "id": "2fspYuNJr0Ra",
        "outputId": "051527e0-ec59-4c7e-a23a-d26b2a0cbb17",
        "colab": {
          "base_uri": "https://localhost:8080/"
        }
      },
      "execution_count": null,
      "outputs": [
        {
          "output_type": "stream",
          "name": "stdout",
          "text": [
            "(119, 1)\n",
            "Test RMSE: 0.034\n"
          ]
        },
        {
          "output_type": "execute_result",
          "data": {
            "text/plain": [
              "0.8964387380690796"
            ]
          },
          "metadata": {},
          "execution_count": 383
        }
      ]
    },
    {
      "cell_type": "code",
      "source": [
        "\n",
        "ln = len(data_train)\n",
        "data_test['pre']=pred\n",
        "plot_df = dataset.loc[(dataset['cycle']>=1),['cycle','capacity']]\n",
        "plot_per = data_test.loc[(data_test['cycle']>=ln),['cycle','pre']]\n",
        "plt.figure(figsize=(16, 10))\n",
        "plt.plot(plot_df['cycle'], plot_df['capacity'], label=\"Actual data\", color='blue')\n",
        "plt.plot(plot_per['cycle'],plot_per['pre'],label=\"Prediction data\", color='red')\n",
        "#Draw threshold\n",
        "plt.plot([0.,168], [1.38, 1.38],dashes=[6, 2], label=\"treshold\")\n",
        "plt.ylabel('Capacity')\n",
        "# make x-axis ticks legible\n",
        "adf = plt.gca().get_xaxis().get_major_formatter()\n",
        "plt.xlabel('cycle')\n",
        "plt.legend()\n",
        "plt.title('Discharge B0007 (prediction) start in cycle 50 -RULe=-8, window-size=10')"
      ],
      "metadata": {
        "id": "ejrvqp6Sr3uA",
        "outputId": "8a0dc585-c5b6-4ac6-ada1-d84f6f675940",
        "colab": {
          "base_uri": "https://localhost:8080/",
          "height": 749
        }
      },
      "execution_count": null,
      "outputs": [
        {
          "output_type": "stream",
          "name": "stderr",
          "text": [
            "/usr/local/lib/python3.7/dist-packages/ipykernel_launcher.py:3: SettingWithCopyWarning: \n",
            "A value is trying to be set on a copy of a slice from a DataFrame.\n",
            "Try using .loc[row_indexer,col_indexer] = value instead\n",
            "\n",
            "See the caveats in the documentation: https://pandas.pydata.org/pandas-docs/stable/user_guide/indexing.html#returning-a-view-versus-a-copy\n",
            "  This is separate from the ipykernel package so we can avoid doing imports until\n"
          ]
        },
        {
          "output_type": "execute_result",
          "data": {
            "text/plain": [
              "Text(0.5, 1.0, 'Discharge B0007 (prediction) start in cycle 50 -RULe=-8, window-size=10')"
            ]
          },
          "metadata": {},
          "execution_count": 384
        },
        {
          "output_type": "display_data",
          "data": {
            "text/plain": [
              "<Figure size 1152x720 with 1 Axes>"
            ],
            "image/png": "[encoded data removed]"
          },
          "metadata": {}
        }
      ]
    },
    {
      "cell_type": "code",
      "source": [
        "pred=0\n",
        "Afil=0\n",
        "Pfil=0\n",
        "a=data_test['capacity'].values\n",
        "b=data_test['pre'].values\n",
        "j=0\n",
        "k=0\n",
        "for i in range(len(a)):\n",
        "    actual=a[i]\n",
        "    \n",
        "    if actual<=1.38:\n",
        "        j=i\n",
        "        Afil=j\n",
        "        break\n",
        "for i in range(len(a)):\n",
        "    pred=b[i]\n",
        "    if pred< 1.38:\n",
        "        k=i\n",
        "        Pfil=k\n",
        "        break\n",
        "print(\"The Actual fail at cycle number: \"+ str(Afil+ln))\n",
        "print(\"The prediction fail at cycle number: \"+ str(Pfil+ln))\n",
        "RULerror=Pfil-Afil\n",
        "print(\"The error of RUL= \"+ str(RULerror)+ \" Cycle(s)\")"
      ],
      "metadata": {
        "id": "67DCC3Lfr8Gu",
        "outputId": "ab5800c0-3911-4712-ac39-edde9345716b",
        "colab": {
          "base_uri": "https://localhost:8080/"
        }
      },
      "execution_count": null,
      "outputs": [
        {
          "output_type": "stream",
          "name": "stdout",
          "text": [
            "The Actual fail at cycle number: 49\n",
            "The prediction fail at cycle number: 49\n",
            "The error of RUL= 0 Cycle(s)\n"
          ]
        }
      ]
    },
    {
      "cell_type": "code",
      "source": [
        ""
      ],
      "metadata": {
        "id": "jBu3l_AcueMD"
      },
      "execution_count": null,
      "outputs": []
    }
  ]
}