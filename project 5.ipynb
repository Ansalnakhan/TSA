{
  "nbformat": 4,
  "nbformat_minor": 0,
  "metadata": {
    "colab": {
      "name": "Untitled41.ipynb",
      "provenance": [],
      "collapsed_sections": [],
      "authorship_tag": "ABX9TyPTnYnIUp5TdOAHNp7K52bB",
      "include_colab_link": true
    },
    "kernelspec": {
      "name": "python3",
      "display_name": "Python 3"
    },
    "language_info": {
      "name": "python"
    }
  },
  "cells": [
    {
      "cell_type": "markdown",
      "metadata": {
        "id": "view-in-github",
        "colab_type": "text"
      },
      "source": [
        "<a href=\"https://colab.research.google.com/github/Ansalnakhan/TSA/blob/main/project%205.ipynb\" target=\"_parent\"><img src=\"https://colab.research.google.com/assets/colab-badge.svg\" alt=\"Open In Colab\"/></a>"
      ]
    },
    {
      "cell_type": "code",
      "execution_count": 93,
      "metadata": {
        "colab": {
          "base_uri": "https://localhost:8080/"
        },
        "id": "McbdgQooJD-C",
        "outputId": "82a05d30-a2b6-4ab2-eb3c-2698de6ed105"
      },
      "outputs": [
        {
          "output_type": "stream",
          "name": "stderr",
          "text": [
            "/usr/local/lib/python3.7/dist-packages/ipykernel_launcher.py:1: UserWarning: Config option `use_jedi` not recognized by `IPCompleter`.\n",
            "  \"\"\"Entry point for launching an IPython kernel.\n"
          ]
        }
      ],
      "source": [
        "%config Completer.use_jedi = False"
      ]
    },
    {
      "cell_type": "code",
      "source": [
        "%matplotlib inline\n",
        "!pip show tensorflow\n",
        "!wget -cq https://ti.arc.nasa.gov/c/5 -O naza.zip\n",
        "!unzip -qqo naza.zip -d battery_data"
      ],
      "metadata": {
        "colab": {
          "base_uri": "https://localhost:8080/"
        },
        "id": "04G9Li1GJguR",
        "outputId": "7c68d9aa-1775-40d2-df25-1c6c62d3ee81"
      },
      "execution_count": 94,
      "outputs": [
        {
          "output_type": "stream",
          "name": "stdout",
          "text": [
            "Name: tensorflow\n",
            "Version: 2.8.2+zzzcolab20220527125636\n",
            "Summary: TensorFlow is an open source machine learning framework for everyone.\n",
            "Home-page: https://www.tensorflow.org/\n",
            "Author: Google Inc.\n",
            "Author-email: packages@tensorflow.org\n",
            "License: Apache 2.0\n",
            "Location: /usr/local/lib/python3.7/dist-packages\n",
            "Requires: gast, protobuf, grpcio, flatbuffers, tensorflow-estimator, keras, six, wrapt, h5py, google-pasta, termcolor, keras-preprocessing, typing-extensions, numpy, libclang, astunparse, absl-py, setuptools, tensorflow-io-gcs-filesystem, opt-einsum, tensorboard\n",
            "Required-by: kapre\n",
            "[naza.zip]\n",
            "  End-of-central-directory signature not found.  Either this file is not\n",
            "  a zipfile, or it constitutes one disk of a multi-part archive.  In the\n",
            "  latter case the central directory and zipfile comment will be found on\n",
            "  the last disk(s) of this archive.\n",
            "unzip:  cannot find zipfile directory in one of naza.zip or\n",
            "        naza.zip.zip, and cannot find naza.zip.ZIP, period.\n"
          ]
        }
      ]
    },
    {
      "cell_type": "code",
      "source": [
        "import datetime\n",
        "import numpy as np\n",
        "import pandas as pd\n",
        "from scipy.io import loadmat\n",
        "from sklearn.preprocessing import MinMaxScaler\n",
        "from sklearn.metrics import mean_squared_error\n",
        "from sklearn import metrics\n",
        "import matplotlib.pyplot as plt\n",
        "import seaborn as sns"
      ],
      "metadata": {
        "id": "cwQaAW7ZJluj"
      },
      "execution_count": 95,
      "outputs": []
    },
    {
      "cell_type": "code",
      "source": [
        "def load_data(battery):\n",
        "  mat = loadmat('/content/data/' + battery + '.mat')\n",
        "  print('Total data in dataset: ', len(mat[battery][0, 0]['cycle'][0]))\n",
        "  counter = 0\n",
        "  dataset = []\n",
        "  capacity_data = []\n",
        "  \n",
        "  for i in range(len(mat[battery][0, 0]['cycle'][0])):\n",
        "    row = mat[battery][0, 0]['cycle'][0, i]\n",
        "    if row['type'][0] == 'discharge':\n",
        "      ambient_temperature = row['ambient_temperature'][0][0]\n",
        "      date_time = datetime.datetime(int(row['time'][0][0]),\n",
        "                               int(row['time'][0][1]),\n",
        "                               int(row['time'][0][2]),\n",
        "                               int(row['time'][0][3]),\n",
        "                               int(row['time'][0][4])) + datetime.timedelta(seconds=int(row['time'][0][5]))\n",
        "      data = row['data']\n",
        "      capacity = data[0][0]['Capacity'][0][0]\n",
        "      for j in range(len(data[0][0]['Voltage_measured'][0])):\n",
        "        voltage_measured = data[0][0]['Voltage_measured'][0][j]\n",
        "        current_measured = data[0][0]['Current_measured'][0][j]\n",
        "        temperature_measured = data[0][0]['Temperature_measured'][0][j]\n",
        "        current_load = data[0][0]['Current_load'][0][j]\n",
        "        voltage_load = data[0][0]['Voltage_load'][0][j]\n",
        "        time = data[0][0]['Time'][0][j]\n",
        "        dataset.append([counter + 1, ambient_temperature, date_time, capacity,\n",
        "                        voltage_measured, current_measured,\n",
        "                        temperature_measured, current_load,\n",
        "                        voltage_load, time])\n",
        "      capacity_data.append([counter + 1, ambient_temperature, date_time, capacity])\n",
        "      counter = counter + 1\n",
        "  print(dataset[0])\n",
        "  return [pd.DataFrame(data=dataset,\n",
        "                       columns=['cycle', 'ambient_temperature', 'datetime',\n",
        "                                'capacity', 'voltage_measured',\n",
        "                                'current_measured', 'temperature_measured',\n",
        "                                'current_load', 'voltage_load', 'time']),\n",
        "          pd.DataFrame(data=capacity_data,\n",
        "                       columns=['cycle', 'ambient_temperature', 'datetime',\n",
        "                                'capacity'])]\n",
        "dataset, capacity = load_data('B0005')\n",
        "pd.set_option('display.max_columns', 10)\n",
        "print(dataset.head())\n",
        "dataset.describe()\n"
      ],
      "metadata": {
        "colab": {
          "base_uri": "https://localhost:8080/",
          "height": 624
        },
        "id": "tzEIqbsrJsyT",
        "outputId": "da3870bb-0a0d-4154-fdbc-f3201b6e2bae"
      },
      "execution_count": 96,
      "outputs": [
        {
          "output_type": "stream",
          "name": "stdout",
          "text": [
            "Total data in dataset:  616\n",
            "[1, 24, datetime.datetime(2008, 4, 2, 15, 25, 41), 1.8564874208181574, 4.191491807505295, -0.004901589207462691, 24.330033885570543, -0.0006, 0.0, 0.0]\n",
            "   cycle  ambient_temperature            datetime  capacity  voltage_measured  \\\n",
            "0      1                   24 2008-04-02 15:25:41  1.856487          4.191492   \n",
            "1      1                   24 2008-04-02 15:25:41  1.856487          4.190749   \n",
            "2      1                   24 2008-04-02 15:25:41  1.856487          3.974871   \n",
            "3      1                   24 2008-04-02 15:25:41  1.856487          3.951717   \n",
            "4      1                   24 2008-04-02 15:25:41  1.856487          3.934352   \n",
            "\n",
            "   current_measured  temperature_measured  current_load  voltage_load    time  \n",
            "0         -0.004902             24.330034       -0.0006         0.000   0.000  \n",
            "1         -0.001478             24.325993       -0.0006         4.206  16.781  \n",
            "2         -2.012528             24.389085       -1.9982         3.062  35.703  \n",
            "3         -2.013979             24.544752       -1.9982         3.030  53.781  \n",
            "4         -2.011144             24.731385       -1.9982         3.011  71.922  \n"
          ]
        },
        {
          "output_type": "execute_result",
          "data": {
            "text/plain": [
              "              cycle  ambient_temperature      capacity  voltage_measured  \\\n",
              "count  50285.000000              50285.0  50285.000000      50285.000000   \n",
              "mean      88.125942                 24.0      1.560345          3.515268   \n",
              "std       45.699687                  0.0      0.182380          0.231778   \n",
              "min        1.000000                 24.0      1.287453          2.455679   \n",
              "25%       50.000000                 24.0      1.386229          3.399384   \n",
              "50%       88.000000                 24.0      1.538237          3.511664   \n",
              "75%      127.000000                 24.0      1.746871          3.660903   \n",
              "max      168.000000                 24.0      1.856487          4.222920   \n",
              "\n",
              "       current_measured  temperature_measured  current_load  voltage_load  \\\n",
              "count      50285.000000          50285.000000  50285.000000  50285.000000   \n",
              "mean          -1.806032             32.816991      1.362700      2.308406   \n",
              "std            0.610502              3.987515      1.313698      0.800300   \n",
              "min           -2.029098             23.214802     -1.998400      0.000000   \n",
              "25%           -2.013415             30.019392      1.998000      2.388000   \n",
              "50%           -2.012312             32.828944      1.998200      2.533000   \n",
              "75%           -2.011052             35.920887      1.998200      2.690000   \n",
              "max            0.007496             41.450232      1.998400      4.238000   \n",
              "\n",
              "               time  \n",
              "count  50285.000000  \n",
              "mean    1546.208924  \n",
              "std      906.640295  \n",
              "min        0.000000  \n",
              "25%      768.563000  \n",
              "50%     1537.031000  \n",
              "75%     2305.984000  \n",
              "max     3690.234000  "
            ],
            "text/html": [
              "\n",
              "  <div id=\"df-b629cc46-eb01-487c-b48f-2311427a447e\">\n",
              "    <div class=\"colab-df-container\">\n",
              "      <div>\n",
              "<style scoped>\n",
              "    .dataframe tbody tr th:only-of-type {\n",
              "        vertical-align: middle;\n",
              "    }\n",
              "\n",
              "    .dataframe tbody tr th {\n",
              "        vertical-align: top;\n",
              "    }\n",
              "\n",
              "    .dataframe thead th {\n",
              "        text-align: right;\n",
              "    }\n",
              "</style>\n",
              "<table border=\"1\" class=\"dataframe\">\n",
              "  <thead>\n",
              "    <tr style=\"text-align: right;\">\n",
              "      <th></th>\n",
              "      <th>cycle</th>\n",
              "      <th>ambient_temperature</th>\n",
              "      <th>capacity</th>\n",
              "      <th>voltage_measured</th>\n",
              "      <th>current_measured</th>\n",
              "      <th>temperature_measured</th>\n",
              "      <th>current_load</th>\n",
              "      <th>voltage_load</th>\n",
              "      <th>time</th>\n",
              "    </tr>\n",
              "  </thead>\n",
              "  <tbody>\n",
              "    <tr>\n",
              "      <th>count</th>\n",
              "      <td>50285.000000</td>\n",
              "      <td>50285.0</td>\n",
              "      <td>50285.000000</td>\n",
              "      <td>50285.000000</td>\n",
              "      <td>50285.000000</td>\n",
              "      <td>50285.000000</td>\n",
              "      <td>50285.000000</td>\n",
              "      <td>50285.000000</td>\n",
              "      <td>50285.000000</td>\n",
              "    </tr>\n",
              "    <tr>\n",
              "      <th>mean</th>\n",
              "      <td>88.125942</td>\n",
              "      <td>24.0</td>\n",
              "      <td>1.560345</td>\n",
              "      <td>3.515268</td>\n",
              "      <td>-1.806032</td>\n",
              "      <td>32.816991</td>\n",
              "      <td>1.362700</td>\n",
              "      <td>2.308406</td>\n",
              "      <td>1546.208924</td>\n",
              "    </tr>\n",
              "    <tr>\n",
              "      <th>std</th>\n",
              "      <td>45.699687</td>\n",
              "      <td>0.0</td>\n",
              "      <td>0.182380</td>\n",
              "      <td>0.231778</td>\n",
              "      <td>0.610502</td>\n",
              "      <td>3.987515</td>\n",
              "      <td>1.313698</td>\n",
              "      <td>0.800300</td>\n",
              "      <td>906.640295</td>\n",
              "    </tr>\n",
              "    <tr>\n",
              "      <th>min</th>\n",
              "      <td>1.000000</td>\n",
              "      <td>24.0</td>\n",
              "      <td>1.287453</td>\n",
              "      <td>2.455679</td>\n",
              "      <td>-2.029098</td>\n",
              "      <td>23.214802</td>\n",
              "      <td>-1.998400</td>\n",
              "      <td>0.000000</td>\n",
              "      <td>0.000000</td>\n",
              "    </tr>\n",
              "    <tr>\n",
              "      <th>25%</th>\n",
              "      <td>50.000000</td>\n",
              "      <td>24.0</td>\n",
              "      <td>1.386229</td>\n",
              "      <td>3.399384</td>\n",
              "      <td>-2.013415</td>\n",
              "      <td>30.019392</td>\n",
              "      <td>1.998000</td>\n",
              "      <td>2.388000</td>\n",
              "      <td>768.563000</td>\n",
              "    </tr>\n",
              "    <tr>\n",
              "      <th>50%</th>\n",
              "      <td>88.000000</td>\n",
              "      <td>24.0</td>\n",
              "      <td>1.538237</td>\n",
              "      <td>3.511664</td>\n",
              "      <td>-2.012312</td>\n",
              "      <td>32.828944</td>\n",
              "      <td>1.998200</td>\n",
              "      <td>2.533000</td>\n",
              "      <td>1537.031000</td>\n",
              "    </tr>\n",
              "    <tr>\n",
              "      <th>75%</th>\n",
              "      <td>127.000000</td>\n",
              "      <td>24.0</td>\n",
              "      <td>1.746871</td>\n",
              "      <td>3.660903</td>\n",
              "      <td>-2.011052</td>\n",
              "      <td>35.920887</td>\n",
              "      <td>1.998200</td>\n",
              "      <td>2.690000</td>\n",
              "      <td>2305.984000</td>\n",
              "    </tr>\n",
              "    <tr>\n",
              "      <th>max</th>\n",
              "      <td>168.000000</td>\n",
              "      <td>24.0</td>\n",
              "      <td>1.856487</td>\n",
              "      <td>4.222920</td>\n",
              "      <td>0.007496</td>\n",
              "      <td>41.450232</td>\n",
              "      <td>1.998400</td>\n",
              "      <td>4.238000</td>\n",
              "      <td>3690.234000</td>\n",
              "    </tr>\n",
              "  </tbody>\n",
              "</table>\n",
              "</div>\n",
              "      <button class=\"colab-df-convert\" onclick=\"convertToInteractive('df-b629cc46-eb01-487c-b48f-2311427a447e')\"\n",
              "              title=\"Convert this dataframe to an interactive table.\"\n",
              "              style=\"display:none;\">\n",
              "        \n",
              "  <svg xmlns=\"http://www.w3.org/2000/svg\" height=\"24px\"viewBox=\"0 0 24 24\"\n",
              "       width=\"24px\">\n",
              "    <path d=\"M0 0h24v24H0V0z\" fill=\"none\"/>\n",
              "    <path d=\"M18.56 5.44l.94 2.06.94-2.06 2.06-.94-2.06-.94-.94-2.06-.94 2.06-2.06.94zm-11 1L8.5 8.5l.94-2.06 2.06-.94-2.06-.94L8.5 2.5l-.94 2.06-2.06.94zm10 10l.94 2.06.94-2.06 2.06-.94-2.06-.94-.94-2.06-.94 2.06-2.06.94z\"/><path d=\"M17.41 7.96l-1.37-1.37c-.4-.4-.92-.59-1.43-.59-.52 0-1.04.2-1.43.59L10.3 9.45l-7.72 7.72c-.78.78-.78 2.05 0 2.83L4 21.41c.39.39.9.59 1.41.59.51 0 1.02-.2 1.41-.59l7.78-7.78 2.81-2.81c.8-.78.8-2.07 0-2.86zM5.41 20L4 18.59l7.72-7.72 1.47 1.35L5.41 20z\"/>\n",
              "  </svg>\n",
              "      </button>\n",
              "      \n",
              "  <style>\n",
              "    .colab-df-container {\n",
              "      display:flex;\n",
              "      flex-wrap:wrap;\n",
              "      gap: 12px;\n",
              "    }\n",
              "\n",
              "    .colab-df-convert {\n",
              "      background-color: #E8F0FE;\n",
              "      border: none;\n",
              "      border-radius: 50%;\n",
              "      cursor: pointer;\n",
              "      display: none;\n",
              "      fill: #1967D2;\n",
              "      height: 32px;\n",
              "      padding: 0 0 0 0;\n",
              "      width: 32px;\n",
              "    }\n",
              "\n",
              "    .colab-df-convert:hover {\n",
              "      background-color: #E2EBFA;\n",
              "      box-shadow: 0px 1px 2px rgba(60, 64, 67, 0.3), 0px 1px 3px 1px rgba(60, 64, 67, 0.15);\n",
              "      fill: #174EA6;\n",
              "    }\n",
              "\n",
              "    [theme=dark] .colab-df-convert {\n",
              "      background-color: #3B4455;\n",
              "      fill: #D2E3FC;\n",
              "    }\n",
              "\n",
              "    [theme=dark] .colab-df-convert:hover {\n",
              "      background-color: #434B5C;\n",
              "      box-shadow: 0px 1px 3px 1px rgba(0, 0, 0, 0.15);\n",
              "      filter: drop-shadow(0px 1px 2px rgba(0, 0, 0, 0.3));\n",
              "      fill: #FFFFFF;\n",
              "    }\n",
              "  </style>\n",
              "\n",
              "      <script>\n",
              "        const buttonEl =\n",
              "          document.querySelector('#df-b629cc46-eb01-487c-b48f-2311427a447e button.colab-df-convert');\n",
              "        buttonEl.style.display =\n",
              "          google.colab.kernel.accessAllowed ? 'block' : 'none';\n",
              "\n",
              "        async function convertToInteractive(key) {\n",
              "          const element = document.querySelector('#df-b629cc46-eb01-487c-b48f-2311427a447e');\n",
              "          const dataTable =\n",
              "            await google.colab.kernel.invokeFunction('convertToInteractive',\n",
              "                                                     [key], {});\n",
              "          if (!dataTable) return;\n",
              "\n",
              "          const docLinkHtml = 'Like what you see? Visit the ' +\n",
              "            '<a target=\"_blank\" href=https://colab.research.google.com/notebooks/data_table.ipynb>data table notebook</a>'\n",
              "            + ' to learn more about interactive tables.';\n",
              "          element.innerHTML = '';\n",
              "          dataTable['output_type'] = 'display_data';\n",
              "          await google.colab.output.renderOutput(dataTable, element);\n",
              "          const docLink = document.createElement('div');\n",
              "          docLink.innerHTML = docLinkHtml;\n",
              "          element.appendChild(docLink);\n",
              "        }\n",
              "      </script>\n",
              "    </div>\n",
              "  </div>\n",
              "  "
            ]
          },
          "metadata": {},
          "execution_count": 96
        }
      ]
    },
    {
      "cell_type": "code",
      "source": [
        "plot_df = capacity.loc[(capacity['cycle']>=1),['cycle','capacity']]\n",
        "sns.set_style(\"darkgrid\")\n",
        "plt.figure(figsize=(12, 8))\n",
        "plt.plot(plot_df['cycle'], plot_df['capacity'])\n",
        "#Draw threshold\n",
        "plt.plot([0.,len(capacity)], [1.4, 1.4])\n",
        "plt.ylabel('Capacity')\n",
        "# make x-axis ticks legible\n",
        "adf = plt.gca().get_xaxis().get_major_formatter()\n",
        "plt.xlabel('cycle')\n",
        "plt.title('Discharge B0005')"
      ],
      "metadata": {
        "colab": {
          "base_uri": "https://localhost:8080/",
          "height": 530
        },
        "id": "ZlCpde8KKaYk",
        "outputId": "ebd62aea-b5bd-4cf5-f8c5-92fe58f5f32b"
      },
      "execution_count": 97,
      "outputs": [
        {
          "output_type": "execute_result",
          "data": {
            "text/plain": [
              "Text(0.5, 1.0, 'Discharge B0005')"
            ]
          },
          "metadata": {},
          "execution_count": 97
        },
        {
          "output_type": "display_data",
          "data": {
            "text/plain": [
              "<Figure size 864x576 with 1 Axes>"
            ],
            "image/png": "[encoded data removed]"
          },
          "metadata": {}
        }
      ]
    },
    {
      "cell_type": "code",
      "source": [
        "attrib=['cycle', 'datetime', 'capacity']\n",
        "dis_ele = capacity[attrib]\n",
        "C = dis_ele['capacity'][0]\n",
        "for i in range(len(dis_ele)):\n",
        "    dis_ele['SoH']=(dis_ele['capacity'])/C\n",
        "print(dis_ele.head(5))"
      ],
      "metadata": {
        "colab": {
          "base_uri": "https://localhost:8080/"
        },
        "id": "lK4fjzLyKeZ_",
        "outputId": "40f41e9c-800a-4e1f-db05-5676e963b899"
      },
      "execution_count": 98,
      "outputs": [
        {
          "output_type": "stream",
          "name": "stdout",
          "text": [
            "   cycle            datetime  capacity       SoH\n",
            "0      1 2008-04-02 15:25:41  1.856487  1.000000\n",
            "1      2 2008-04-02 19:43:48  1.846327  0.994527\n",
            "2      3 2008-04-03 00:01:06  1.835349  0.988614\n",
            "3      4 2008-04-03 04:16:37  1.835263  0.988567\n",
            "4      5 2008-04-03 08:33:25  1.834646  0.988235\n"
          ]
        }
      ]
    },
    {
      "cell_type": "code",
      "source": [
        "plot_df = dis_ele.loc[(dis_ele['cycle']>=1),['cycle','SoH']]\n",
        "sns.set_style(\"white\")\n",
        "plt.figure(figsize=(8, 5))\n",
        "plt.plot(plot_df['cycle'], plot_df['SoH'])\n",
        "#Draw threshold\n",
        "plt.plot([0.,len(capacity)], [0.70, 0.70])\n",
        "plt.ylabel('SOH')\n",
        "# make x-axis ticks legible\n",
        "adf = plt.gca().get_xaxis().get_major_formatter()\n",
        "plt.xlabel('cycle')\n",
        "plt.title('Discharge B0005')"
      ],
      "metadata": {
        "colab": {
          "base_uri": "https://localhost:8080/",
          "height": 367
        },
        "id": "biiKuFJFKjOE",
        "outputId": "39a4e2b3-c05f-4729-a17a-14a7ad93e686"
      },
      "execution_count": 99,
      "outputs": [
        {
          "output_type": "execute_result",
          "data": {
            "text/plain": [
              "Text(0.5, 1.0, 'Discharge B0005')"
            ]
          },
          "metadata": {},
          "execution_count": 99
        },
        {
          "output_type": "display_data",
          "data": {
            "text/plain": [
              "<Figure size 576x360 with 1 Axes>"
            ],
            "image/png": "[encoded data removed]"
          },
          "metadata": {}
        }
      ]
    },
    {
      "cell_type": "code",
      "source": [
        "C = dataset['capacity'][0]\n",
        "soh = []\n",
        "for i in range(len(dataset)):\n",
        "  soh.append([dataset['capacity'][i] / C])\n",
        "soh = pd.DataFrame(data=soh, columns=['SoH'])\n",
        "\n",
        "attribs=['capacity', 'voltage_measured', 'current_measured',\n",
        "         'temperature_measured', 'current_load', 'voltage_load', 'time']\n",
        "train_dataset = dataset[attribs]\n",
        "sc = MinMaxScaler(feature_range=(0,1))\n",
        "train_dataset = sc.fit_transform(train_dataset)\n",
        "print(train_dataset.shape)\n",
        "print(soh.shape)"
      ],
      "metadata": {
        "colab": {
          "base_uri": "https://localhost:8080/"
        },
        "id": "gNOg-S9wKrSA",
        "outputId": "41063de4-feb3-4c79-a651-340c61fa4c0d"
      },
      "execution_count": 100,
      "outputs": [
        {
          "output_type": "stream",
          "name": "stdout",
          "text": [
            "(50285, 7)\n",
            "(50285, 1)\n"
          ]
        }
      ]
    },
    {
      "cell_type": "code",
      "source": [
        "import tensorflow as tf\n",
        "from tensorflow.keras.models import Sequential\n",
        "from tensorflow.keras.layers import Dense\n",
        "from tensorflow.keras.layers import Dropout\n",
        "from tensorflow.keras.layers import Flatten\n",
        "from tensorflow.keras.layers import LSTM\n",
        "from tensorflow.keras.optimizers import Adam"
      ],
      "metadata": {
        "id": "tE4efD6JLxkd"
      },
      "execution_count": 101,
      "outputs": []
    },
    {
      "cell_type": "code",
      "source": [
        "model = Sequential()\n",
        "model.add(Dense(8, activation='relu', input_dim=train_dataset.shape[1]))\n",
        "model.add(Dense(8, activation='relu'))\n",
        "model.add(Dense(8, activation='relu'))\n",
        "model.add(Dropout(rate=0.25))\n",
        "model.add(Dense(1))\n",
        "model.summary()\n",
        "model.compile(optimizer=Adam(beta_1=0.9, beta_2=0.999, epsilon=1e-08), loss='mean_absolute_error')"
      ],
      "metadata": {
        "colab": {
          "base_uri": "https://localhost:8080/"
        },
        "id": "pdBiGw6FL3zr",
        "outputId": "abec0398-1b7d-4c6c-c0a1-baccfba04f02"
      },
      "execution_count": 102,
      "outputs": [
        {
          "output_type": "stream",
          "name": "stdout",
          "text": [
            "Model: \"sequential_8\"\n",
            "_________________________________________________________________\n",
            " Layer (type)                Output Shape              Param #   \n",
            "=================================================================\n",
            " dense_32 (Dense)            (None, 8)                 64        \n",
            "                                                                 \n",
            " dense_33 (Dense)            (None, 8)                 72        \n",
            "                                                                 \n",
            " dense_34 (Dense)            (None, 8)                 72        \n",
            "                                                                 \n",
            " dropout_8 (Dropout)         (None, 8)                 0         \n",
            "                                                                 \n",
            " dense_35 (Dense)            (None, 1)                 9         \n",
            "                                                                 \n",
            "=================================================================\n",
            "Total params: 217\n",
            "Trainable params: 217\n",
            "Non-trainable params: 0\n",
            "_________________________________________________________________\n"
          ]
        }
      ]
    },
    {
      "cell_type": "code",
      "source": [
        "model.fit(x=train_dataset, y=soh.to_numpy(), batch_size=25, epochs=50)"
      ],
      "metadata": {
        "colab": {
          "base_uri": "https://localhost:8080/"
        },
        "id": "bJ_aPgdeZuMo",
        "outputId": "ce2d65f5-84e0-4ae4-8936-f2189841bf45"
      },
      "execution_count": 103,
      "outputs": [
        {
          "output_type": "stream",
          "name": "stdout",
          "text": [
            "Epoch 1/50\n",
            "2012/2012 [==============================] - 5s 2ms/step - loss: 0.0969\n",
            "Epoch 2/50\n",
            "2012/2012 [==============================] - 4s 2ms/step - loss: 0.0232\n",
            "Epoch 3/50\n",
            "2012/2012 [==============================] - 4s 2ms/step - loss: 0.0224\n",
            "Epoch 4/50\n",
            "2012/2012 [==============================] - 3s 2ms/step - loss: 0.0224\n",
            "Epoch 5/50\n",
            "2012/2012 [==============================] - 4s 2ms/step - loss: 0.0227\n",
            "Epoch 6/50\n",
            "2012/2012 [==============================] - 4s 2ms/step - loss: 0.0223\n",
            "Epoch 7/50\n",
            "2012/2012 [==============================] - 4s 2ms/step - loss: 0.0225\n",
            "Epoch 8/50\n",
            "2012/2012 [==============================] - 4s 2ms/step - loss: 0.0225\n",
            "Epoch 9/50\n",
            "2012/2012 [==============================] - 5s 2ms/step - loss: 0.0225\n",
            "Epoch 10/50\n",
            "2012/2012 [==============================] - 4s 2ms/step - loss: 0.0223\n",
            "Epoch 11/50\n",
            "2012/2012 [==============================] - 4s 2ms/step - loss: 0.0223\n",
            "Epoch 12/50\n",
            "2012/2012 [==============================] - 4s 2ms/step - loss: 0.0222\n",
            "Epoch 13/50\n",
            "2012/2012 [==============================] - 4s 2ms/step - loss: 0.0222\n",
            "Epoch 14/50\n",
            "2012/2012 [==============================] - 4s 2ms/step - loss: 0.0222\n",
            "Epoch 15/50\n",
            "2012/2012 [==============================] - 4s 2ms/step - loss: 0.0223\n",
            "Epoch 16/50\n",
            "2012/2012 [==============================] - 4s 2ms/step - loss: 0.0223\n",
            "Epoch 17/50\n",
            "2012/2012 [==============================] - 4s 2ms/step - loss: 0.0222\n",
            "Epoch 18/50\n",
            "2012/2012 [==============================] - 4s 2ms/step - loss: 0.0225\n",
            "Epoch 19/50\n",
            "2012/2012 [==============================] - 4s 2ms/step - loss: 0.0225\n",
            "Epoch 20/50\n",
            "2012/2012 [==============================] - 3s 2ms/step - loss: 0.0221\n",
            "Epoch 21/50\n",
            "2012/2012 [==============================] - 4s 2ms/step - loss: 0.0221\n",
            "Epoch 22/50\n",
            "2012/2012 [==============================] - 4s 2ms/step - loss: 0.0222\n",
            "Epoch 23/50\n",
            "2012/2012 [==============================] - 4s 2ms/step - loss: 0.0221\n",
            "Epoch 24/50\n",
            "2012/2012 [==============================] - 4s 2ms/step - loss: 0.0220\n",
            "Epoch 25/50\n",
            "2012/2012 [==============================] - 4s 2ms/step - loss: 0.0222\n",
            "Epoch 26/50\n",
            "2012/2012 [==============================] - 3s 2ms/step - loss: 0.0223\n",
            "Epoch 27/50\n",
            "2012/2012 [==============================] - 3s 2ms/step - loss: 0.0221\n",
            "Epoch 28/50\n",
            "2012/2012 [==============================] - 3s 2ms/step - loss: 0.0221\n",
            "Epoch 29/50\n",
            "2012/2012 [==============================] - 3s 2ms/step - loss: 0.0222\n",
            "Epoch 30/50\n",
            "2012/2012 [==============================] - 3s 2ms/step - loss: 0.0223\n",
            "Epoch 31/50\n",
            "2012/2012 [==============================] - 3s 2ms/step - loss: 0.0222\n",
            "Epoch 32/50\n",
            "2012/2012 [==============================] - 4s 2ms/step - loss: 0.0222\n",
            "Epoch 33/50\n",
            "2012/2012 [==============================] - 3s 2ms/step - loss: 0.0220\n",
            "Epoch 34/50\n",
            "2012/2012 [==============================] - 4s 2ms/step - loss: 0.0220\n",
            "Epoch 35/50\n",
            "2012/2012 [==============================] - 3s 2ms/step - loss: 0.0219\n",
            "Epoch 36/50\n",
            "2012/2012 [==============================] - 3s 2ms/step - loss: 0.0220\n",
            "Epoch 37/50\n",
            "2012/2012 [==============================] - 3s 2ms/step - loss: 0.0222\n",
            "Epoch 38/50\n",
            "2012/2012 [==============================] - 3s 2ms/step - loss: 0.0220\n",
            "Epoch 39/50\n",
            "2012/2012 [==============================] - 3s 2ms/step - loss: 0.0221\n",
            "Epoch 40/50\n",
            "2012/2012 [==============================] - 3s 2ms/step - loss: 0.0222\n",
            "Epoch 41/50\n",
            "2012/2012 [==============================] - 3s 2ms/step - loss: 0.0222\n",
            "Epoch 42/50\n",
            "2012/2012 [==============================] - 3s 2ms/step - loss: 0.0223\n",
            "Epoch 43/50\n",
            "2012/2012 [==============================] - 3s 2ms/step - loss: 0.0222\n",
            "Epoch 44/50\n",
            "2012/2012 [==============================] - 3s 2ms/step - loss: 0.0222\n",
            "Epoch 45/50\n",
            "2012/2012 [==============================] - 3s 2ms/step - loss: 0.0220\n",
            "Epoch 46/50\n",
            "2012/2012 [==============================] - 3s 2ms/step - loss: 0.0219\n",
            "Epoch 47/50\n",
            "2012/2012 [==============================] - 3s 2ms/step - loss: 0.0221\n",
            "Epoch 48/50\n",
            "2012/2012 [==============================] - 3s 2ms/step - loss: 0.0218\n",
            "Epoch 49/50\n",
            "2012/2012 [==============================] - 3s 2ms/step - loss: 0.0220\n",
            "Epoch 50/50\n",
            "2012/2012 [==============================] - 3s 2ms/step - loss: 0.0222\n"
          ]
        },
        {
          "output_type": "execute_result",
          "data": {
            "text/plain": [
              "<keras.callbacks.History at 0x7f8294862090>"
            ]
          },
          "metadata": {},
          "execution_count": 103
        }
      ]
    },
    {
      "cell_type": "code",
      "source": [
        "dataset_val, capacity_val = load_data('B0006')\n",
        "attrib=['cycle', 'datetime', 'capacity']\n",
        "dis_ele = capacity_val[attrib]\n",
        "C = dis_ele['capacity'][0]\n",
        "for i in range(len(dis_ele)):\n",
        "    dis_ele['SoH']=(dis_ele['capacity']) / C\n",
        "print(dataset_val.head(5))\n",
        "print(dis_ele.head(5))"
      ],
      "metadata": {
        "colab": {
          "base_uri": "https://localhost:8080/"
        },
        "id": "JLLcGcBhL-IO",
        "outputId": "ee905989-b61f-4f78-c67d-1a333328c39d"
      },
      "execution_count": 104,
      "outputs": [
        {
          "output_type": "stream",
          "name": "stdout",
          "text": [
            "Total data in dataset:  616\n",
            "[1, 24, datetime.datetime(2008, 4, 2, 15, 25, 41), 2.035337591005598, 4.179799607333447, -0.0023663271409738672, 24.277567510331888, -0.0006, 0.0, 0.0]\n",
            "   cycle  ambient_temperature            datetime  capacity  voltage_measured  \\\n",
            "0      1                   24 2008-04-02 15:25:41  2.035338          4.179800   \n",
            "1      1                   24 2008-04-02 15:25:41  2.035338          4.179823   \n",
            "2      1                   24 2008-04-02 15:25:41  2.035338          3.966528   \n",
            "3      1                   24 2008-04-02 15:25:41  2.035338          3.945886   \n",
            "4      1                   24 2008-04-02 15:25:41  2.035338          3.930354   \n",
            "\n",
            "   current_measured  temperature_measured  current_load  voltage_load    time  \n",
            "0         -0.002366             24.277568       -0.0006         0.000   0.000  \n",
            "1          0.000434             24.277073       -0.0006         4.195  16.781  \n",
            "2         -2.014242             24.366226       -1.9990         3.070  35.703  \n",
            "3         -2.008730             24.515123       -1.9990         3.045  53.781  \n",
            "4         -2.013381             24.676053       -1.9990         3.026  71.922  \n",
            "   cycle            datetime  capacity       SoH\n",
            "0      1 2008-04-02 15:25:41  2.035338  1.000000\n",
            "1      2 2008-04-02 19:43:48  2.025140  0.994990\n",
            "2      3 2008-04-03 00:01:06  2.013326  0.989185\n",
            "3      4 2008-04-03 04:16:37  2.013285  0.989165\n",
            "4      5 2008-04-03 08:33:25  2.000528  0.982898\n"
          ]
        }
      ]
    },
    {
      "cell_type": "code",
      "source": [
        ""
      ],
      "metadata": {
        "id": "IXlRC4G1Zpvf"
      },
      "execution_count": 104,
      "outputs": []
    },
    {
      "cell_type": "code",
      "source": [
        "attrib=['capacity', 'voltage_measured', 'current_measured',\n",
        "        'temperature_measured', 'current_load', 'voltage_load', 'time']\n",
        "soh_pred = model.predict(sc.fit_transform(dataset_val[attrib]))\n",
        "print(soh_pred.shape)\n",
        "\n",
        "C = dataset_val['capacity'][0]\n",
        "soh = []\n",
        "for i in range(len(dataset_val)):\n",
        "  soh.append(dataset_val['capacity'][i] / C)\n",
        "new_soh = dataset_val.loc[(dataset_val['cycle'] >= 1), ['cycle']]\n",
        "new_soh['SoH'] =  soh\n",
        "new_soh['NewSoH'] = soh_pred\n",
        "new_soh = new_soh.groupby(['cycle']).mean().reset_index()\n",
        "print(new_soh.head(10))\n",
        "rms = np.sqrt(mean_squared_error(new_soh['SoH'], new_soh['NewSoH']))\n",
        "print('Root Mean Square Error: ', rms)"
      ],
      "metadata": {
        "colab": {
          "base_uri": "https://localhost:8080/"
        },
        "id": "-91WoM1DMaoG",
        "outputId": "22d75df4-9b31-416c-b88b-65c6a62ffffb"
      },
      "execution_count": 105,
      "outputs": [
        {
          "output_type": "stream",
          "name": "stdout",
          "text": [
            "(50285, 1)\n",
            "   cycle       SoH    NewSoH\n",
            "0      1  1.000000  0.957150\n",
            "1      2  0.994990  0.954502\n",
            "2      3  0.989185  0.951477\n",
            "3      4  0.989165  0.951477\n",
            "4      5  0.982898  0.948174\n",
            "5      6  0.989467  0.951626\n",
            "6      7  0.989075  0.951399\n",
            "7      8  0.967304  0.940013\n",
            "8      9  0.966997  0.939864\n",
            "9     10  0.961625  0.937025\n",
            "Root Mean Square Error:  0.09061230782651997\n"
          ]
        }
      ]
    },
    {
      "cell_type": "code",
      "source": [
        ""
      ],
      "metadata": {
        "id": "Q0BOcdxfTnr_"
      },
      "execution_count": 105,
      "outputs": []
    },
    {
      "cell_type": "code",
      "source": [
        "plot_df = new_soh.loc[(new_soh['cycle']>=1),['cycle','SoH', 'NewSoH']]\n",
        "sns.set_style(\"white\")\n",
        "plt.figure(figsize=(16, 10))\n",
        "plt.plot(plot_df['cycle'], plot_df['SoH'], label='SoH')\n",
        "plt.plot(plot_df['cycle'], plot_df['NewSoH'], label='Predicted SoH')\n",
        "#Draw threshold\n",
        "#plt.plot([0.,len(capacity)], [0.70, 0.70], label='Threshold')\n",
        "plt.ylabel('SOH')\n",
        "# make x-axis ticks legible\n",
        "adf = plt.gca().get_xaxis().get_major_formatter()\n",
        "plt.xlabel('cycle')\n",
        "plt.legend()\n",
        "plt.title('Discharge B0006')"
      ],
      "metadata": {
        "id": "aiRUmM5BpxJH",
        "outputId": "e6014742-f3ee-4e79-d011-2a234f08684b",
        "colab": {
          "base_uri": "https://localhost:8080/",
          "height": 638
        }
      },
      "execution_count": 106,
      "outputs": [
        {
          "output_type": "execute_result",
          "data": {
            "text/plain": [
              "Text(0.5, 1.0, 'Discharge B0006')"
            ]
          },
          "metadata": {},
          "execution_count": 106
        },
        {
          "output_type": "display_data",
          "data": {
            "text/plain": [
              "<Figure size 1152x720 with 1 Axes>"
            ],
            "image/png": "[encoded data removed]"
          },
          "metadata": {}
        }
      ]
    }
  ]
}